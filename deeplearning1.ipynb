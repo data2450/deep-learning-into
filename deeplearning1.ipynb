{
  "nbformat": 4,
  "nbformat_minor": 0,
  "metadata": {
    "colab": {
      "name": "deeplearning1.ipynb",
      "provenance": [],
      "collapsed_sections": [],
      "authorship_tag": "ABX9TyNjzRhkxYU8hHoURjdG+YpX",
      "include_colab_link": true
    },
    "kernelspec": {
      "name": "python3",
      "display_name": "Python 3"
    }
  },
  "cells": [
    {
      "cell_type": "markdown",
      "metadata": {
        "id": "view-in-github",
        "colab_type": "text"
      },
      "source": [
        "<a href=\"https://colab.research.google.com/github/data2450/deep-learning-into/blob/main/deeplearning1.ipynb\" target=\"_parent\"><img src=\"https://colab.research.google.com/assets/colab-badge.svg\" alt=\"Open In Colab\"/></a>"
      ]
    },
    {
      "cell_type": "code",
      "metadata": {
        "id": "5S_7UC5cqF_L"
      },
      "source": [
        "url='https://raw.githubusercontent.com/data2450/deep-learning-into/main/Churn_Modelling.csv'"
      ],
      "execution_count": 3,
      "outputs": []
    },
    {
      "cell_type": "code",
      "metadata": {
        "id": "54IxhoT6qgXH"
      },
      "source": [
        "import pandas as pd\n",
        "import numpy as np\n",
        "import matplotlib.pyplot as plt"
      ],
      "execution_count": 4,
      "outputs": []
    },
    {
      "cell_type": "code",
      "metadata": {
        "id": "km78wf7UqY2J",
        "outputId": "ca28a3bd-01a8-43ae-a395-e62faee5d4ba",
        "colab": {
          "base_uri": "https://localhost:8080/",
          "height": 204
        }
      },
      "source": [
        "data=pd.read_csv(url)\n",
        "data.head()"
      ],
      "execution_count": 5,
      "outputs": [
        {
          "output_type": "execute_result",
          "data": {
            "text/html": [
              "<div>\n",
              "<style scoped>\n",
              "    .dataframe tbody tr th:only-of-type {\n",
              "        vertical-align: middle;\n",
              "    }\n",
              "\n",
              "    .dataframe tbody tr th {\n",
              "        vertical-align: top;\n",
              "    }\n",
              "\n",
              "    .dataframe thead th {\n",
              "        text-align: right;\n",
              "    }\n",
              "</style>\n",
              "<table border=\"1\" class=\"dataframe\">\n",
              "  <thead>\n",
              "    <tr style=\"text-align: right;\">\n",
              "      <th></th>\n",
              "      <th>RowNumber</th>\n",
              "      <th>CustomerId</th>\n",
              "      <th>Surname</th>\n",
              "      <th>CreditScore</th>\n",
              "      <th>Geography</th>\n",
              "      <th>Gender</th>\n",
              "      <th>Age</th>\n",
              "      <th>Tenure</th>\n",
              "      <th>Balance</th>\n",
              "      <th>NumOfProducts</th>\n",
              "      <th>HasCrCard</th>\n",
              "      <th>IsActiveMember</th>\n",
              "      <th>EstimatedSalary</th>\n",
              "      <th>Exited</th>\n",
              "    </tr>\n",
              "  </thead>\n",
              "  <tbody>\n",
              "    <tr>\n",
              "      <th>0</th>\n",
              "      <td>1</td>\n",
              "      <td>15634602</td>\n",
              "      <td>Hargrave</td>\n",
              "      <td>619</td>\n",
              "      <td>France</td>\n",
              "      <td>Female</td>\n",
              "      <td>42</td>\n",
              "      <td>2</td>\n",
              "      <td>0.00</td>\n",
              "      <td>1</td>\n",
              "      <td>1</td>\n",
              "      <td>1</td>\n",
              "      <td>101348.88</td>\n",
              "      <td>1</td>\n",
              "    </tr>\n",
              "    <tr>\n",
              "      <th>1</th>\n",
              "      <td>2</td>\n",
              "      <td>15647311</td>\n",
              "      <td>Hill</td>\n",
              "      <td>608</td>\n",
              "      <td>Spain</td>\n",
              "      <td>Female</td>\n",
              "      <td>41</td>\n",
              "      <td>1</td>\n",
              "      <td>83807.86</td>\n",
              "      <td>1</td>\n",
              "      <td>0</td>\n",
              "      <td>1</td>\n",
              "      <td>112542.58</td>\n",
              "      <td>0</td>\n",
              "    </tr>\n",
              "    <tr>\n",
              "      <th>2</th>\n",
              "      <td>3</td>\n",
              "      <td>15619304</td>\n",
              "      <td>Onio</td>\n",
              "      <td>502</td>\n",
              "      <td>France</td>\n",
              "      <td>Female</td>\n",
              "      <td>42</td>\n",
              "      <td>8</td>\n",
              "      <td>159660.80</td>\n",
              "      <td>3</td>\n",
              "      <td>1</td>\n",
              "      <td>0</td>\n",
              "      <td>113931.57</td>\n",
              "      <td>1</td>\n",
              "    </tr>\n",
              "    <tr>\n",
              "      <th>3</th>\n",
              "      <td>4</td>\n",
              "      <td>15701354</td>\n",
              "      <td>Boni</td>\n",
              "      <td>699</td>\n",
              "      <td>France</td>\n",
              "      <td>Female</td>\n",
              "      <td>39</td>\n",
              "      <td>1</td>\n",
              "      <td>0.00</td>\n",
              "      <td>2</td>\n",
              "      <td>0</td>\n",
              "      <td>0</td>\n",
              "      <td>93826.63</td>\n",
              "      <td>0</td>\n",
              "    </tr>\n",
              "    <tr>\n",
              "      <th>4</th>\n",
              "      <td>5</td>\n",
              "      <td>15737888</td>\n",
              "      <td>Mitchell</td>\n",
              "      <td>850</td>\n",
              "      <td>Spain</td>\n",
              "      <td>Female</td>\n",
              "      <td>43</td>\n",
              "      <td>2</td>\n",
              "      <td>125510.82</td>\n",
              "      <td>1</td>\n",
              "      <td>1</td>\n",
              "      <td>1</td>\n",
              "      <td>79084.10</td>\n",
              "      <td>0</td>\n",
              "    </tr>\n",
              "  </tbody>\n",
              "</table>\n",
              "</div>"
            ],
            "text/plain": [
              "   RowNumber  CustomerId   Surname  ...  IsActiveMember EstimatedSalary Exited\n",
              "0          1    15634602  Hargrave  ...               1       101348.88      1\n",
              "1          2    15647311      Hill  ...               1       112542.58      0\n",
              "2          3    15619304      Onio  ...               0       113931.57      1\n",
              "3          4    15701354      Boni  ...               0        93826.63      0\n",
              "4          5    15737888  Mitchell  ...               1        79084.10      0\n",
              "\n",
              "[5 rows x 14 columns]"
            ]
          },
          "metadata": {
            "tags": []
          },
          "execution_count": 5
        }
      ]
    },
    {
      "cell_type": "code",
      "metadata": {
        "id": "tt3az-pxwohJ",
        "outputId": "88d4a104-466e-4665-bd18-8fb462c39bc8",
        "colab": {
          "base_uri": "https://localhost:8080/"
        }
      },
      "source": [
        "data.isnull().values.any()"
      ],
      "execution_count": 6,
      "outputs": [
        {
          "output_type": "execute_result",
          "data": {
            "text/plain": [
              "False"
            ]
          },
          "metadata": {
            "tags": []
          },
          "execution_count": 6
        }
      ]
    },
    {
      "cell_type": "code",
      "metadata": {
        "id": "GIj0km5Yv7Vs",
        "outputId": "cccf008b-af0b-4e54-f007-b1dec3bbfd2e",
        "colab": {
          "base_uri": "https://localhost:8080/"
        }
      },
      "source": [
        "print(data.shape,\"\\n\")\n",
        "data.nunique()"
      ],
      "execution_count": 7,
      "outputs": [
        {
          "output_type": "stream",
          "text": [
            "(10000, 14) \n",
            "\n"
          ],
          "name": "stdout"
        },
        {
          "output_type": "execute_result",
          "data": {
            "text/plain": [
              "RowNumber          10000\n",
              "CustomerId         10000\n",
              "Surname             2932\n",
              "CreditScore          460\n",
              "Geography              3\n",
              "Gender                 2\n",
              "Age                   70\n",
              "Tenure                11\n",
              "Balance             6382\n",
              "NumOfProducts          4\n",
              "HasCrCard              2\n",
              "IsActiveMember         2\n",
              "EstimatedSalary     9999\n",
              "Exited                 2\n",
              "dtype: int64"
            ]
          },
          "metadata": {
            "tags": []
          },
          "execution_count": 7
        }
      ]
    },
    {
      "cell_type": "markdown",
      "metadata": {
        "id": "-cAmszOmuOYk"
      },
      "source": [
        "**0 stands for not exited, which is 80% of the data, and 1 stands for Exited. Similarly, 0 stands for Active Member and 1 stands for not Active Member. The same applies to Credit Card.**"
      ]
    },
    {
      "cell_type": "code",
      "metadata": {
        "id": "4vx4LulWq9zo"
      },
      "source": [
        "X = data.iloc[:, 3:13]\n",
        "y = data.iloc[:, 13]\n"
      ],
      "execution_count": 8,
      "outputs": []
    },
    {
      "cell_type": "code",
      "metadata": {
        "id": "iQFnUUE7rDmR",
        "outputId": "4ef7ae0f-72dc-4cfe-a3b6-174d9c618c39",
        "colab": {
          "base_uri": "https://localhost:8080/",
          "height": 204
        }
      },
      "source": [
        "X.head()"
      ],
      "execution_count": 9,
      "outputs": [
        {
          "output_type": "execute_result",
          "data": {
            "text/html": [
              "<div>\n",
              "<style scoped>\n",
              "    .dataframe tbody tr th:only-of-type {\n",
              "        vertical-align: middle;\n",
              "    }\n",
              "\n",
              "    .dataframe tbody tr th {\n",
              "        vertical-align: top;\n",
              "    }\n",
              "\n",
              "    .dataframe thead th {\n",
              "        text-align: right;\n",
              "    }\n",
              "</style>\n",
              "<table border=\"1\" class=\"dataframe\">\n",
              "  <thead>\n",
              "    <tr style=\"text-align: right;\">\n",
              "      <th></th>\n",
              "      <th>CreditScore</th>\n",
              "      <th>Geography</th>\n",
              "      <th>Gender</th>\n",
              "      <th>Age</th>\n",
              "      <th>Tenure</th>\n",
              "      <th>Balance</th>\n",
              "      <th>NumOfProducts</th>\n",
              "      <th>HasCrCard</th>\n",
              "      <th>IsActiveMember</th>\n",
              "      <th>EstimatedSalary</th>\n",
              "    </tr>\n",
              "  </thead>\n",
              "  <tbody>\n",
              "    <tr>\n",
              "      <th>0</th>\n",
              "      <td>619</td>\n",
              "      <td>France</td>\n",
              "      <td>Female</td>\n",
              "      <td>42</td>\n",
              "      <td>2</td>\n",
              "      <td>0.00</td>\n",
              "      <td>1</td>\n",
              "      <td>1</td>\n",
              "      <td>1</td>\n",
              "      <td>101348.88</td>\n",
              "    </tr>\n",
              "    <tr>\n",
              "      <th>1</th>\n",
              "      <td>608</td>\n",
              "      <td>Spain</td>\n",
              "      <td>Female</td>\n",
              "      <td>41</td>\n",
              "      <td>1</td>\n",
              "      <td>83807.86</td>\n",
              "      <td>1</td>\n",
              "      <td>0</td>\n",
              "      <td>1</td>\n",
              "      <td>112542.58</td>\n",
              "    </tr>\n",
              "    <tr>\n",
              "      <th>2</th>\n",
              "      <td>502</td>\n",
              "      <td>France</td>\n",
              "      <td>Female</td>\n",
              "      <td>42</td>\n",
              "      <td>8</td>\n",
              "      <td>159660.80</td>\n",
              "      <td>3</td>\n",
              "      <td>1</td>\n",
              "      <td>0</td>\n",
              "      <td>113931.57</td>\n",
              "    </tr>\n",
              "    <tr>\n",
              "      <th>3</th>\n",
              "      <td>699</td>\n",
              "      <td>France</td>\n",
              "      <td>Female</td>\n",
              "      <td>39</td>\n",
              "      <td>1</td>\n",
              "      <td>0.00</td>\n",
              "      <td>2</td>\n",
              "      <td>0</td>\n",
              "      <td>0</td>\n",
              "      <td>93826.63</td>\n",
              "    </tr>\n",
              "    <tr>\n",
              "      <th>4</th>\n",
              "      <td>850</td>\n",
              "      <td>Spain</td>\n",
              "      <td>Female</td>\n",
              "      <td>43</td>\n",
              "      <td>2</td>\n",
              "      <td>125510.82</td>\n",
              "      <td>1</td>\n",
              "      <td>1</td>\n",
              "      <td>1</td>\n",
              "      <td>79084.10</td>\n",
              "    </tr>\n",
              "  </tbody>\n",
              "</table>\n",
              "</div>"
            ],
            "text/plain": [
              "   CreditScore Geography  Gender  ...  HasCrCard  IsActiveMember  EstimatedSalary\n",
              "0          619    France  Female  ...          1               1        101348.88\n",
              "1          608     Spain  Female  ...          0               1        112542.58\n",
              "2          502    France  Female  ...          1               0        113931.57\n",
              "3          699    France  Female  ...          0               0         93826.63\n",
              "4          850     Spain  Female  ...          1               1         79084.10\n",
              "\n",
              "[5 rows x 10 columns]"
            ]
          },
          "metadata": {
            "tags": []
          },
          "execution_count": 9
        }
      ]
    },
    {
      "cell_type": "code",
      "metadata": {
        "id": "H4qAioTQtqxg",
        "outputId": "51aaa9c8-51e2-4cc6-ad88-0c3ee43d762f",
        "colab": {
          "base_uri": "https://localhost:8080/"
        }
      },
      "source": [
        "y.head()"
      ],
      "execution_count": 10,
      "outputs": [
        {
          "output_type": "execute_result",
          "data": {
            "text/plain": [
              "0    1\n",
              "1    0\n",
              "2    1\n",
              "3    0\n",
              "4    0\n",
              "Name: Exited, dtype: int64"
            ]
          },
          "metadata": {
            "tags": []
          },
          "execution_count": 10
        }
      ]
    },
    {
      "cell_type": "code",
      "metadata": {
        "id": "XIUaW8f_wfPg",
        "outputId": "a632f059-af55-41ab-d42a-b292eaf9b89b",
        "colab": {
          "base_uri": "https://localhost:8080/"
        }
      },
      "source": [
        "y.value_counts()\n",
        "print('No exited', round(y.value_counts()[0]/len(y) * 100,2), '% of the dataset')\n",
        "print('exited', round(y.value_counts()[1]/len(y) * 100,2), '% of the dataset')"
      ],
      "execution_count": 11,
      "outputs": [
        {
          "output_type": "stream",
          "text": [
            "No exited 79.63 % of the dataset\n",
            "exited 20.37 % of the dataset\n"
          ],
          "name": "stdout"
        }
      ]
    },
    {
      "cell_type": "code",
      "metadata": {
        "id": "oK1smb6kz1gc",
        "outputId": "4aa7d19a-0b1d-416d-c661-ae3d2adb0e10",
        "colab": {
          "base_uri": "https://localhost:8080/"
        }
      },
      "source": [
        "data.info()"
      ],
      "execution_count": 12,
      "outputs": [
        {
          "output_type": "stream",
          "text": [
            "<class 'pandas.core.frame.DataFrame'>\n",
            "RangeIndex: 10000 entries, 0 to 9999\n",
            "Data columns (total 14 columns):\n",
            " #   Column           Non-Null Count  Dtype  \n",
            "---  ------           --------------  -----  \n",
            " 0   RowNumber        10000 non-null  int64  \n",
            " 1   CustomerId       10000 non-null  int64  \n",
            " 2   Surname          10000 non-null  object \n",
            " 3   CreditScore      10000 non-null  int64  \n",
            " 4   Geography        10000 non-null  object \n",
            " 5   Gender           10000 non-null  object \n",
            " 6   Age              10000 non-null  int64  \n",
            " 7   Tenure           10000 non-null  int64  \n",
            " 8   Balance          10000 non-null  float64\n",
            " 9   NumOfProducts    10000 non-null  int64  \n",
            " 10  HasCrCard        10000 non-null  int64  \n",
            " 11  IsActiveMember   10000 non-null  int64  \n",
            " 12  EstimatedSalary  10000 non-null  float64\n",
            " 13  Exited           10000 non-null  int64  \n",
            "dtypes: float64(2), int64(9), object(3)\n",
            "memory usage: 1.1+ MB\n"
          ],
          "name": "stdout"
        }
      ]
    },
    {
      "cell_type": "markdown",
      "metadata": {
        "id": "clE_BdFHwnSt"
      },
      "source": [
        "not doing any eda\n",
        "\n",
        "**lets create dummy variables**"
      ]
    },
    {
      "cell_type": "code",
      "metadata": {
        "id": "lf9HcLvCx6Fg"
      },
      "source": [
        "geography=pd.get_dummies(X[\"Geography\"],drop_first=True)\n",
        "\n",
        "gender=pd.get_dummies(X['Gender'],drop_first=True)"
      ],
      "execution_count": 13,
      "outputs": []
    },
    {
      "cell_type": "code",
      "metadata": {
        "id": "sFgY0AymxzlZ"
      },
      "source": [
        "## Concatenate the Data Frames\n",
        "\n",
        "X=pd.concat([X,geography,gender],axis=1)"
      ],
      "execution_count": 14,
      "outputs": []
    },
    {
      "cell_type": "code",
      "metadata": {
        "id": "aRJ0yUIS0Klq"
      },
      "source": [
        "## Drop Unnecessary columns\n",
        "X=X.drop(['Geography','Gender'],axis=1)\n"
      ],
      "execution_count": 15,
      "outputs": []
    },
    {
      "cell_type": "code",
      "metadata": {
        "id": "pcnOnT_V0N8o"
      },
      "source": [
        "# Splitting the dataset into the Training set and Test set\n",
        "from sklearn.model_selection import train_test_split\n",
        "X_train, X_test, y_train, y_test = train_test_split(X, y, test_size = 0.2, random_state = 0)\n"
      ],
      "execution_count": 16,
      "outputs": []
    },
    {
      "cell_type": "code",
      "metadata": {
        "id": "XDkNiJ2QTie7",
        "outputId": "79055a49-6fe6-4b54-9ddf-88d1161d52cd",
        "colab": {
          "base_uri": "https://localhost:8080/"
        }
      },
      "source": [
        " y_test.shape"
      ],
      "execution_count": 17,
      "outputs": [
        {
          "output_type": "execute_result",
          "data": {
            "text/plain": [
              "(2000,)"
            ]
          },
          "metadata": {
            "tags": []
          },
          "execution_count": 17
        }
      ]
    },
    {
      "cell_type": "markdown",
      "metadata": {
        "id": "Y-vCns_k0VdU"
      },
      "source": [
        "# feature scaling"
      ]
    },
    {
      "cell_type": "code",
      "metadata": {
        "id": "FMmUFM_S0Seq"
      },
      "source": [
        "from sklearn.preprocessing import StandardScaler\n",
        "sc = StandardScaler()\n",
        "X_train = sc.fit_transform(X_train)\n",
        "X_test = sc.transform(X_test)\n"
      ],
      "execution_count": 18,
      "outputs": []
    },
    {
      "cell_type": "markdown",
      "metadata": {
        "id": "8lZG51JK3ZsH"
      },
      "source": [
        "# ANN"
      ]
    },
    {
      "cell_type": "code",
      "metadata": {
        "id": "TfiNzTWh3XTy"
      },
      "source": [
        "# Importing the Keras libraries and packages\n",
        "import keras\n",
        "from keras.models import Sequential\n",
        "from keras.layers import Dense\n",
        "from keras.layers import LeakyReLU,PReLU,ELU\n",
        "from keras.layers import Dropout"
      ],
      "execution_count": 19,
      "outputs": []
    },
    {
      "cell_type": "markdown",
      "metadata": {
        "id": "5saKs5wx4UAZ"
      },
      "source": [
        "The core data structures of Keras are layers and models. The simplest type of model is the Sequential model, a linear stack of layers\n",
        "\n",
        "**Dense implements the operation**: output = activation(dot(input, kernel) + bias) where activation is the element-wise activation function passed as the activation argument, kernel is a weights matrix created by the layer, and bias is a bias vector created by the layer (only applicable if use_bias is True).\n",
        "\n",
        "Note: If the input to the layer has a rank greater than 2, then Dense computes the dot product between the inputs and the kernel along the last axis of the inputs and axis 1 of the kernel (using tf.tensordot). For example, if input has dimensions (batch_size, d0, d1), then we create a kernel with shape (d1, units), and the kernel operates along axis 2 of the input, on every sub-tensor of shape (1, 1, d1) (there are batch_size * d0 such sub-tensors). The output in this case will have shape (batch_size, d0, units).\n",
        "\n",
        "Besides, layer attributes cannot be modified after the layer has been called once (except the trainable attribute).\n",
        "\n",
        "\n",
        "\n",
        "\n",
        "\n"
      ]
    },
    {
      "cell_type": "markdown",
      "metadata": {
        "id": "UistXzFy-p0k"
      },
      "source": [
        "**LeakyReLU,PReLU,ELU** these  are activation function \n",
        "\n",
        "**Why do we need Non-linear activation functions :-**\n",
        "A neural network without an activation function is essentially just a linear regression model. The activation function does the non-linear transformation to the input making it capable to learn and perform more complex tasks.\n",
        "\n",
        "We know, neural network has neurons that work in correspondence of weight, bias and their respective activation function. In a neural network, we would update the weights and biases of the neurons on the basis of the error at the output. This process is known as back-propagation. Activation functions make the back-propagation possible since the gradients are supplied along with the error to update the weights and biases.\n",
        "**Dropout is a technique where randomly selected neurons are ignored during training.**\n",
        "**Dropout is a regularization** method that approximates training a large number of neural networks with different architectures in parallel.\n",
        "\n",
        "During training, some number of layer outputs are randomly ignored or “dropped out.” This has the effect of making the layer look-like and be treated-like a layer with a different number of nodes and connectivity to the prior layer. In effect, each update to a layer during training is performed with a different “view” of the configured layer.\n",
        "\n",
        "drop out technique is used to avoid overfitting , during one iteration the algorithm will not consider that  randomly n.o of neurons as for the calculation"
      ]
    },
    {
      "cell_type": "code",
      "metadata": {
        "id": "PX3IYVbJ_dxP"
      },
      "source": [
        "# Initialising the ANN\n",
        "classifier = Sequential()"
      ],
      "execution_count": 20,
      "outputs": []
    },
    {
      "cell_type": "markdown",
      "metadata": {
        "id": "z4is0pMrBheN"
      },
      "source": [
        "A Sequential model is appropriate for a plain stack of layers where each layer has exactly one input tensor and one output tensor."
      ]
    },
    {
      "cell_type": "markdown",
      "metadata": {
        "id": "Q02OTIMTDv6E"
      },
      "source": [
        "**Adding input layer (First Hidden Layer)**\n",
        "We use the add method to add different layers to our ANN. The first parameter is the number of nodes you want to add to this layer. There is no rule of thumb as to how many nodes you should add. However, a common strategy is to choose the number of nodes as the average of nodes in the input layer and the number of nodes in the output layer.\n",
        "Say for example you had five independent variables and one output. Then you would take the sum of that and divide by two, which is three. You can also decide to experiment with a technique called parameter tuning. The second parameter, kernel_initializer, is the function that will be used to initialize the weights.\n",
        "In this case, it will use a uniform distribution to make sure that the weights are small numbers close to zero. The next parameter is the activation function. We use the Rectifier function, shortened as ReLU. We mostly use this function for the hidden layer in ANN. The final parameter is input_dim, which is the number of nodes in the input layer. It represents the number of independent variables."
      ]
    },
    {
      "cell_type": "code",
      "metadata": {
        "id": "6Yc6PCKJ4p5n"
      },
      "source": [
        "# Adding the input layer and the first hidden layer\n",
        "classifier.add(Dense(units=  6, kernel_initializer = 'uniform' ,activation='relu',input_shape=(11,)))"
      ],
      "execution_count": 21,
      "outputs": []
    },
    {
      "cell_type": "code",
      "metadata": {
        "id": "bcJFh1KO0YF0"
      },
      "source": [
        "# Adding the second hidden layer\n",
        "classifier.add(Dense(units= 6, kernel_initializer  = 'he_uniform',activation='relu'))\n",
        "# Adding the output layer\n",
        "classifier.add(Dense(units = 1, kernel_initializer  = 'glorot_uniform', activation = 'sigmoid'))\n",
        "#since thses is a regresin prb we are using using sigmoid in the output layer\n"
      ],
      "execution_count": 22,
      "outputs": []
    },
    {
      "cell_type": "markdown",
      "metadata": {
        "id": "IEmU4EaSEmiy"
      },
      "source": [
        "We change the first parameter because in our output node we expect one node. This is because we are only interested in knowing whether a claim was fraudulent or not. We change the activation function because we want to get the probabilities that a claim is fraudulent. We do this by using the Sigmoid activation function.\n",
        "In case you’re dealing with a classification problem that has more than two classes (i.e. classifying cats, dogs, and monkeys) we’d need to change two things. We’d change the first parameter to 3 and change the activation function to softmax. Softmax is a sigmoid function applied to an independent variable with more than two categories."
      ]
    },
    {
      "cell_type": "markdown",
      "metadata": {
        "id": "4GeAbbLu7z9S"
      },
      "source": [
        "**adamax optimizer**:It is a variant of Adam based on the infinity norm\n",
        "\n",
        "**Arguments**\n",
        "\n",
        "**learning_rate**: A Tensor, floating point value, or a schedule that is a tf.keras.optimizers.schedules.LearningRateSchedule. The learning rate.\n",
        "\n",
        "**beta_1**: A float value or a constant float tensor. The exponential decay rate for the 1st moment estimates.\n",
        "\n",
        "**beta_2**: A float value or a constant float tensor. The exponential decay rate for the exponentially weighted infinity norm.\n",
        "**epsilon**: A small constant for numerical stability.\n",
        "\n",
        "**name**: Optional name for the operations created when applying gradients. Defaults to \"Adamax\".\n",
        "\n",
        "**kwargs**: Keyword arguments. Allowed to be one of \"clipnorm\" or \"clipvalue\". \"clipnorm\" (float) clips gradients by norm; \"clipvalue\" (float) clips gradients by value.\n",
        "\n",
        "m = beta1 * m + (1 - beta) * g\n",
        "\n",
        "v = max(beta2 * v, abs(g))\n",
        "\n",
        "current_lr = learning_rate / (1 - beta1 ** t)\n",
        "\n",
        "w = w - current_lr * m / (v + epsilon)\n",
        "\n",
        "Similarly to Adam, the epsilon is added for numerical stability (especially to get rid of division by zero when v_t == 0).\n",
        "\n",
        "In contrast to Adam, the sparse implementation of this algorithm (used when the gradient is an IndexedSlices object, typically because of tf.gather or an embedding lookup in the forward pass) only updates variable slices and corresponding m_t, v_t terms when that part of the variable was used in the forward pass. This means that the sparse behavior is contrast to the dense behavior (similar to some momentum implementations which ignore momentum unless a variable slice was actually used)."
      ]
    },
    {
      "cell_type": "markdown",
      "metadata": {
        "id": "xO_rI3OcEyE_"
      },
      "source": [
        "# Compiling the ANN\n",
        "Compiling is basically applying a stochastic gradient descent to the whole neural network. The first parameter is the algorithm you want to use to get the optimal set of weights in the neural network. The algorithm used here is a stochastic gradient algorithm.\n",
        "There are many variants of this. A very efficient one to use is Adam. The second parameter is the loss function within the stochastic gradient algorithm. Since our categories are binary, we use the binary_crossentropy loss function. Otherwise we would have used categorical_crossentopy. The final argument is the criterion we’ll use to evaluate our model. In this case we use the accuracy."
      ]
    },
    {
      "cell_type": "code",
      "metadata": {
        "id": "e0FMSjVy2bYi"
      },
      "source": [
        "# Compiling the ANN\n",
        "classifier.compile(optimizer = 'Adamax', loss = 'binary_crossentropy', metrics = ['accuracy'])"
      ],
      "execution_count": 23,
      "outputs": []
    },
    {
      "cell_type": "markdown",
      "metadata": {
        "id": "G-IpmgSVE8dU"
      },
      "source": [
        "# Fitting our ANN to the training set\n",
        "\n",
        "X_train represents the independent variables we’re using to train our ANN, and y_train represents the column we’re predicting. Epochs represents the number of times we’re going to pass our full dataset through the ANN. Batch_size is the number of observations after which the weights will be updated."
      ]
    },
    {
      "cell_type": "code",
      "metadata": {
        "id": "OWKGR6kBDGDy",
        "outputId": "f651fdff-2553-4a87-8866-4d41e7bba8cc",
        "colab": {
          "base_uri": "https://localhost:8080/"
        }
      },
      "source": [
        "# Fitting the ANN to the Training set\n",
        "model_history=classifier.fit(X_train, y_train,validation_split=0.33, batch_size = 10, epochs = 100)"
      ],
      "execution_count": 24,
      "outputs": [
        {
          "output_type": "stream",
          "text": [
            "Epoch 1/100\n",
            "536/536 [==============================] - 1s 2ms/step - loss: 0.5207 - accuracy: 0.7962 - val_loss: 0.4520 - val_accuracy: 0.7955\n",
            "Epoch 2/100\n",
            "536/536 [==============================] - 1s 1ms/step - loss: 0.4374 - accuracy: 0.7962 - val_loss: 0.4373 - val_accuracy: 0.7955\n",
            "Epoch 3/100\n",
            "536/536 [==============================] - 1s 1ms/step - loss: 0.4275 - accuracy: 0.7962 - val_loss: 0.4318 - val_accuracy: 0.7955\n",
            "Epoch 4/100\n",
            "536/536 [==============================] - 1s 1ms/step - loss: 0.4224 - accuracy: 0.7962 - val_loss: 0.4284 - val_accuracy: 0.7955\n",
            "Epoch 5/100\n",
            "536/536 [==============================] - 1s 1ms/step - loss: 0.4193 - accuracy: 0.7962 - val_loss: 0.4259 - val_accuracy: 0.7955\n",
            "Epoch 6/100\n",
            "536/536 [==============================] - 1s 1ms/step - loss: 0.4167 - accuracy: 0.8231 - val_loss: 0.4240 - val_accuracy: 0.8213\n",
            "Epoch 7/100\n",
            "536/536 [==============================] - 1s 1ms/step - loss: 0.4145 - accuracy: 0.8291 - val_loss: 0.4219 - val_accuracy: 0.8247\n",
            "Epoch 8/100\n",
            "536/536 [==============================] - 1s 1ms/step - loss: 0.4123 - accuracy: 0.8294 - val_loss: 0.4202 - val_accuracy: 0.8254\n",
            "Epoch 9/100\n",
            "536/536 [==============================] - 1s 1ms/step - loss: 0.4107 - accuracy: 0.8317 - val_loss: 0.4186 - val_accuracy: 0.8270\n",
            "Epoch 10/100\n",
            "536/536 [==============================] - 1s 1ms/step - loss: 0.4091 - accuracy: 0.8347 - val_loss: 0.4174 - val_accuracy: 0.8273\n",
            "Epoch 11/100\n",
            "536/536 [==============================] - 1s 1ms/step - loss: 0.4080 - accuracy: 0.8330 - val_loss: 0.4165 - val_accuracy: 0.8262\n",
            "Epoch 12/100\n",
            "536/536 [==============================] - 1s 1ms/step - loss: 0.4068 - accuracy: 0.8339 - val_loss: 0.4158 - val_accuracy: 0.8266\n",
            "Epoch 13/100\n",
            "536/536 [==============================] - 1s 2ms/step - loss: 0.4061 - accuracy: 0.8354 - val_loss: 0.4151 - val_accuracy: 0.8262\n",
            "Epoch 14/100\n",
            "536/536 [==============================] - 1s 1ms/step - loss: 0.4054 - accuracy: 0.8352 - val_loss: 0.4141 - val_accuracy: 0.8270\n",
            "Epoch 15/100\n",
            "536/536 [==============================] - 1s 1ms/step - loss: 0.4047 - accuracy: 0.8350 - val_loss: 0.4137 - val_accuracy: 0.8266\n",
            "Epoch 16/100\n",
            "536/536 [==============================] - 1s 1ms/step - loss: 0.4040 - accuracy: 0.8371 - val_loss: 0.4134 - val_accuracy: 0.8270\n",
            "Epoch 17/100\n",
            "536/536 [==============================] - 1s 1ms/step - loss: 0.4034 - accuracy: 0.8347 - val_loss: 0.4127 - val_accuracy: 0.8247\n",
            "Epoch 18/100\n",
            "536/536 [==============================] - 1s 1ms/step - loss: 0.4028 - accuracy: 0.8358 - val_loss: 0.4122 - val_accuracy: 0.8273\n",
            "Epoch 19/100\n",
            "536/536 [==============================] - 1s 1ms/step - loss: 0.4023 - accuracy: 0.8362 - val_loss: 0.4122 - val_accuracy: 0.8254\n",
            "Epoch 20/100\n",
            "536/536 [==============================] - 1s 1ms/step - loss: 0.4017 - accuracy: 0.8343 - val_loss: 0.4114 - val_accuracy: 0.8262\n",
            "Epoch 21/100\n",
            "536/536 [==============================] - 1s 1ms/step - loss: 0.4014 - accuracy: 0.8354 - val_loss: 0.4112 - val_accuracy: 0.8258\n",
            "Epoch 22/100\n",
            "536/536 [==============================] - 1s 1ms/step - loss: 0.4011 - accuracy: 0.8371 - val_loss: 0.4112 - val_accuracy: 0.8251\n",
            "Epoch 23/100\n",
            "536/536 [==============================] - 1s 1ms/step - loss: 0.4005 - accuracy: 0.8364 - val_loss: 0.4106 - val_accuracy: 0.8266\n",
            "Epoch 24/100\n",
            "536/536 [==============================] - 1s 1ms/step - loss: 0.4000 - accuracy: 0.8358 - val_loss: 0.4104 - val_accuracy: 0.8270\n",
            "Epoch 25/100\n",
            "536/536 [==============================] - 1s 1ms/step - loss: 0.3998 - accuracy: 0.8371 - val_loss: 0.4102 - val_accuracy: 0.8254\n",
            "Epoch 26/100\n",
            "536/536 [==============================] - 1s 1ms/step - loss: 0.3994 - accuracy: 0.8358 - val_loss: 0.4093 - val_accuracy: 0.8289\n",
            "Epoch 27/100\n",
            "536/536 [==============================] - 1s 1ms/step - loss: 0.3990 - accuracy: 0.8373 - val_loss: 0.4095 - val_accuracy: 0.8270\n",
            "Epoch 28/100\n",
            "536/536 [==============================] - 1s 1ms/step - loss: 0.3987 - accuracy: 0.8352 - val_loss: 0.4086 - val_accuracy: 0.8285\n",
            "Epoch 29/100\n",
            "536/536 [==============================] - 1s 1ms/step - loss: 0.3984 - accuracy: 0.8356 - val_loss: 0.4088 - val_accuracy: 0.8273\n",
            "Epoch 30/100\n",
            "536/536 [==============================] - 1s 1ms/step - loss: 0.3980 - accuracy: 0.8375 - val_loss: 0.4086 - val_accuracy: 0.8277\n",
            "Epoch 31/100\n",
            "536/536 [==============================] - 1s 1ms/step - loss: 0.3978 - accuracy: 0.8364 - val_loss: 0.4088 - val_accuracy: 0.8273\n",
            "Epoch 32/100\n",
            "536/536 [==============================] - 1s 1ms/step - loss: 0.3974 - accuracy: 0.8384 - val_loss: 0.4081 - val_accuracy: 0.8296\n",
            "Epoch 33/100\n",
            "536/536 [==============================] - 1s 1ms/step - loss: 0.3971 - accuracy: 0.8362 - val_loss: 0.4086 - val_accuracy: 0.8266\n",
            "Epoch 34/100\n",
            "536/536 [==============================] - 1s 1ms/step - loss: 0.3969 - accuracy: 0.8367 - val_loss: 0.4088 - val_accuracy: 0.8273\n",
            "Epoch 35/100\n",
            "536/536 [==============================] - 1s 1ms/step - loss: 0.3969 - accuracy: 0.8367 - val_loss: 0.4076 - val_accuracy: 0.8254\n",
            "Epoch 36/100\n",
            "536/536 [==============================] - 1s 1ms/step - loss: 0.3966 - accuracy: 0.8356 - val_loss: 0.4074 - val_accuracy: 0.8266\n",
            "Epoch 37/100\n",
            "536/536 [==============================] - 1s 1ms/step - loss: 0.3964 - accuracy: 0.8365 - val_loss: 0.4075 - val_accuracy: 0.8262\n",
            "Epoch 38/100\n",
            "536/536 [==============================] - 1s 1ms/step - loss: 0.3961 - accuracy: 0.8371 - val_loss: 0.4071 - val_accuracy: 0.8285\n",
            "Epoch 39/100\n",
            "536/536 [==============================] - 1s 1ms/step - loss: 0.3961 - accuracy: 0.8365 - val_loss: 0.4074 - val_accuracy: 0.8258\n",
            "Epoch 40/100\n",
            "536/536 [==============================] - 1s 1ms/step - loss: 0.3960 - accuracy: 0.8369 - val_loss: 0.4076 - val_accuracy: 0.8262\n",
            "Epoch 41/100\n",
            "536/536 [==============================] - 1s 1ms/step - loss: 0.3958 - accuracy: 0.8367 - val_loss: 0.4071 - val_accuracy: 0.8277\n",
            "Epoch 42/100\n",
            "536/536 [==============================] - 1s 1ms/step - loss: 0.3955 - accuracy: 0.8373 - val_loss: 0.4066 - val_accuracy: 0.8285\n",
            "Epoch 43/100\n",
            "536/536 [==============================] - 1s 1ms/step - loss: 0.3953 - accuracy: 0.8367 - val_loss: 0.4063 - val_accuracy: 0.8270\n",
            "Epoch 44/100\n",
            "536/536 [==============================] - 1s 1ms/step - loss: 0.3955 - accuracy: 0.8373 - val_loss: 0.4067 - val_accuracy: 0.8281\n",
            "Epoch 45/100\n",
            "536/536 [==============================] - 1s 1ms/step - loss: 0.3951 - accuracy: 0.8364 - val_loss: 0.4067 - val_accuracy: 0.8281\n",
            "Epoch 46/100\n",
            "536/536 [==============================] - 1s 1ms/step - loss: 0.3950 - accuracy: 0.8364 - val_loss: 0.4064 - val_accuracy: 0.8277\n",
            "Epoch 47/100\n",
            "536/536 [==============================] - 1s 1ms/step - loss: 0.3951 - accuracy: 0.8375 - val_loss: 0.4063 - val_accuracy: 0.8296\n",
            "Epoch 48/100\n",
            "536/536 [==============================] - 1s 1ms/step - loss: 0.3949 - accuracy: 0.8350 - val_loss: 0.4062 - val_accuracy: 0.8281\n",
            "Epoch 49/100\n",
            "536/536 [==============================] - 1s 1ms/step - loss: 0.3948 - accuracy: 0.8367 - val_loss: 0.4059 - val_accuracy: 0.8296\n",
            "Epoch 50/100\n",
            "536/536 [==============================] - 1s 1ms/step - loss: 0.3948 - accuracy: 0.8371 - val_loss: 0.4064 - val_accuracy: 0.8281\n",
            "Epoch 51/100\n",
            "536/536 [==============================] - 1s 1ms/step - loss: 0.3945 - accuracy: 0.8371 - val_loss: 0.4064 - val_accuracy: 0.8296\n",
            "Epoch 52/100\n",
            "536/536 [==============================] - 1s 1ms/step - loss: 0.3945 - accuracy: 0.8373 - val_loss: 0.4065 - val_accuracy: 0.8273\n",
            "Epoch 53/100\n",
            "536/536 [==============================] - 1s 1ms/step - loss: 0.3944 - accuracy: 0.8362 - val_loss: 0.4062 - val_accuracy: 0.8292\n",
            "Epoch 54/100\n",
            "536/536 [==============================] - 1s 2ms/step - loss: 0.3940 - accuracy: 0.8350 - val_loss: 0.4060 - val_accuracy: 0.8285\n",
            "Epoch 55/100\n",
            "536/536 [==============================] - 1s 1ms/step - loss: 0.3941 - accuracy: 0.8356 - val_loss: 0.4054 - val_accuracy: 0.8289\n",
            "Epoch 56/100\n",
            "536/536 [==============================] - 1s 1ms/step - loss: 0.3939 - accuracy: 0.8365 - val_loss: 0.4060 - val_accuracy: 0.8292\n",
            "Epoch 57/100\n",
            "536/536 [==============================] - 1s 2ms/step - loss: 0.3939 - accuracy: 0.8362 - val_loss: 0.4058 - val_accuracy: 0.8292\n",
            "Epoch 58/100\n",
            "536/536 [==============================] - 1s 2ms/step - loss: 0.3935 - accuracy: 0.8365 - val_loss: 0.4058 - val_accuracy: 0.8281\n",
            "Epoch 59/100\n",
            "536/536 [==============================] - 1s 2ms/step - loss: 0.3937 - accuracy: 0.8356 - val_loss: 0.4057 - val_accuracy: 0.8300\n",
            "Epoch 60/100\n",
            "536/536 [==============================] - 1s 2ms/step - loss: 0.3935 - accuracy: 0.8373 - val_loss: 0.4059 - val_accuracy: 0.8281\n",
            "Epoch 61/100\n",
            "536/536 [==============================] - 1s 1ms/step - loss: 0.3935 - accuracy: 0.8371 - val_loss: 0.4053 - val_accuracy: 0.8304\n",
            "Epoch 62/100\n",
            "536/536 [==============================] - 1s 2ms/step - loss: 0.3933 - accuracy: 0.8349 - val_loss: 0.4057 - val_accuracy: 0.8292\n",
            "Epoch 63/100\n",
            "536/536 [==============================] - 1s 2ms/step - loss: 0.3932 - accuracy: 0.8364 - val_loss: 0.4051 - val_accuracy: 0.8304\n",
            "Epoch 64/100\n",
            "536/536 [==============================] - 1s 2ms/step - loss: 0.3930 - accuracy: 0.8375 - val_loss: 0.4052 - val_accuracy: 0.8300\n",
            "Epoch 65/100\n",
            "536/536 [==============================] - 1s 1ms/step - loss: 0.3931 - accuracy: 0.8365 - val_loss: 0.4051 - val_accuracy: 0.8292\n",
            "Epoch 66/100\n",
            "536/536 [==============================] - 1s 1ms/step - loss: 0.3928 - accuracy: 0.8378 - val_loss: 0.4047 - val_accuracy: 0.8300\n",
            "Epoch 67/100\n",
            "536/536 [==============================] - 1s 1ms/step - loss: 0.3926 - accuracy: 0.8371 - val_loss: 0.4043 - val_accuracy: 0.8292\n",
            "Epoch 68/100\n",
            "536/536 [==============================] - 1s 1ms/step - loss: 0.3926 - accuracy: 0.8373 - val_loss: 0.4047 - val_accuracy: 0.8281\n",
            "Epoch 69/100\n",
            "536/536 [==============================] - 1s 1ms/step - loss: 0.3928 - accuracy: 0.8365 - val_loss: 0.4045 - val_accuracy: 0.8307\n",
            "Epoch 70/100\n",
            "536/536 [==============================] - 1s 1ms/step - loss: 0.3925 - accuracy: 0.8377 - val_loss: 0.4046 - val_accuracy: 0.8289\n",
            "Epoch 71/100\n",
            "536/536 [==============================] - 1s 1ms/step - loss: 0.3925 - accuracy: 0.8364 - val_loss: 0.4040 - val_accuracy: 0.8330\n",
            "Epoch 72/100\n",
            "536/536 [==============================] - 1s 1ms/step - loss: 0.3923 - accuracy: 0.8365 - val_loss: 0.4045 - val_accuracy: 0.8304\n",
            "Epoch 73/100\n",
            "536/536 [==============================] - 1s 1ms/step - loss: 0.3926 - accuracy: 0.8386 - val_loss: 0.4043 - val_accuracy: 0.8319\n",
            "Epoch 74/100\n",
            "536/536 [==============================] - 1s 1ms/step - loss: 0.3924 - accuracy: 0.8373 - val_loss: 0.4044 - val_accuracy: 0.8319\n",
            "Epoch 75/100\n",
            "536/536 [==============================] - 1s 1ms/step - loss: 0.3921 - accuracy: 0.8373 - val_loss: 0.4042 - val_accuracy: 0.8300\n",
            "Epoch 76/100\n",
            "536/536 [==============================] - 1s 1ms/step - loss: 0.3918 - accuracy: 0.8382 - val_loss: 0.4045 - val_accuracy: 0.8285\n",
            "Epoch 77/100\n",
            "536/536 [==============================] - 1s 1ms/step - loss: 0.3920 - accuracy: 0.8377 - val_loss: 0.4042 - val_accuracy: 0.8304\n",
            "Epoch 78/100\n",
            "536/536 [==============================] - 1s 1ms/step - loss: 0.3918 - accuracy: 0.8378 - val_loss: 0.4052 - val_accuracy: 0.8304\n",
            "Epoch 79/100\n",
            "536/536 [==============================] - 1s 1ms/step - loss: 0.3917 - accuracy: 0.8373 - val_loss: 0.4042 - val_accuracy: 0.8330\n",
            "Epoch 80/100\n",
            "536/536 [==============================] - 1s 1ms/step - loss: 0.3918 - accuracy: 0.8375 - val_loss: 0.4035 - val_accuracy: 0.8326\n",
            "Epoch 81/100\n",
            "536/536 [==============================] - 1s 1ms/step - loss: 0.3918 - accuracy: 0.8391 - val_loss: 0.4040 - val_accuracy: 0.8326\n",
            "Epoch 82/100\n",
            "536/536 [==============================] - 1s 1ms/step - loss: 0.3917 - accuracy: 0.8375 - val_loss: 0.4043 - val_accuracy: 0.8326\n",
            "Epoch 83/100\n",
            "536/536 [==============================] - 1s 1ms/step - loss: 0.3916 - accuracy: 0.8375 - val_loss: 0.4040 - val_accuracy: 0.8307\n",
            "Epoch 84/100\n",
            "536/536 [==============================] - 1s 1ms/step - loss: 0.3914 - accuracy: 0.8375 - val_loss: 0.4034 - val_accuracy: 0.8330\n",
            "Epoch 85/100\n",
            "536/536 [==============================] - 1s 1ms/step - loss: 0.3914 - accuracy: 0.8384 - val_loss: 0.4040 - val_accuracy: 0.8319\n",
            "Epoch 86/100\n",
            "536/536 [==============================] - 1s 1ms/step - loss: 0.3916 - accuracy: 0.8375 - val_loss: 0.4033 - val_accuracy: 0.8307\n",
            "Epoch 87/100\n",
            "536/536 [==============================] - 1s 1ms/step - loss: 0.3915 - accuracy: 0.8365 - val_loss: 0.4039 - val_accuracy: 0.8319\n",
            "Epoch 88/100\n",
            "536/536 [==============================] - 1s 1ms/step - loss: 0.3914 - accuracy: 0.8380 - val_loss: 0.4039 - val_accuracy: 0.8307\n",
            "Epoch 89/100\n",
            "536/536 [==============================] - 1s 1ms/step - loss: 0.3914 - accuracy: 0.8369 - val_loss: 0.4040 - val_accuracy: 0.8289\n",
            "Epoch 90/100\n",
            "536/536 [==============================] - 1s 1ms/step - loss: 0.3913 - accuracy: 0.8358 - val_loss: 0.4041 - val_accuracy: 0.8315\n",
            "Epoch 91/100\n",
            "536/536 [==============================] - 1s 1ms/step - loss: 0.3911 - accuracy: 0.8375 - val_loss: 0.4041 - val_accuracy: 0.8292\n",
            "Epoch 92/100\n",
            "536/536 [==============================] - 1s 1ms/step - loss: 0.3912 - accuracy: 0.8365 - val_loss: 0.4037 - val_accuracy: 0.8319\n",
            "Epoch 93/100\n",
            "536/536 [==============================] - 1s 1ms/step - loss: 0.3911 - accuracy: 0.8380 - val_loss: 0.4035 - val_accuracy: 0.8315\n",
            "Epoch 94/100\n",
            "536/536 [==============================] - 1s 1ms/step - loss: 0.3911 - accuracy: 0.8378 - val_loss: 0.4036 - val_accuracy: 0.8323\n",
            "Epoch 95/100\n",
            "536/536 [==============================] - 1s 1ms/step - loss: 0.3909 - accuracy: 0.8384 - val_loss: 0.4036 - val_accuracy: 0.8304\n",
            "Epoch 96/100\n",
            "536/536 [==============================] - 1s 1ms/step - loss: 0.3911 - accuracy: 0.8378 - val_loss: 0.4033 - val_accuracy: 0.8319\n",
            "Epoch 97/100\n",
            "536/536 [==============================] - 1s 1ms/step - loss: 0.3907 - accuracy: 0.8371 - val_loss: 0.4029 - val_accuracy: 0.8323\n",
            "Epoch 98/100\n",
            "536/536 [==============================] - 1s 1ms/step - loss: 0.3907 - accuracy: 0.8362 - val_loss: 0.4031 - val_accuracy: 0.8319\n",
            "Epoch 99/100\n",
            "536/536 [==============================] - 1s 1ms/step - loss: 0.3907 - accuracy: 0.8378 - val_loss: 0.4034 - val_accuracy: 0.8319\n",
            "Epoch 100/100\n",
            "536/536 [==============================] - 1s 1ms/step - loss: 0.3909 - accuracy: 0.8375 - val_loss: 0.4028 - val_accuracy: 0.8326\n"
          ],
          "name": "stdout"
        }
      ]
    },
    {
      "cell_type": "code",
      "metadata": {
        "id": "48_TFbdcFjw8",
        "outputId": "8f3c767f-c02a-47d1-8099-4ac40c58808e",
        "colab": {
          "base_uri": "https://localhost:8080/"
        }
      },
      "source": [
        "# list all data in history\n",
        "\n",
        "print(model_history.history.keys())"
      ],
      "execution_count": 25,
      "outputs": [
        {
          "output_type": "stream",
          "text": [
            "dict_keys(['loss', 'accuracy', 'val_loss', 'val_accuracy'])\n"
          ],
          "name": "stdout"
        }
      ]
    },
    {
      "cell_type": "code",
      "metadata": {
        "id": "uxdp3UqxF46o",
        "outputId": "aff5db1e-0bc6-48e5-ebe5-4a28ab5b89c4",
        "colab": {
          "base_uri": "https://localhost:8080/",
          "height": 295
        }
      },
      "source": [
        "# summarize history for accuracy\n",
        "plt.plot(model_history.history['accuracy'])\n",
        "plt.plot(model_history.history['val_accuracy'])\n",
        "plt.title('model accuracy')\n",
        "plt.ylabel('accuracy')\n",
        "plt.xlabel('epoch')\n",
        "plt.legend(['train', 'test'], loc='upper left')\n",
        "plt.show()"
      ],
      "execution_count": 26,
      "outputs": [
        {
          "output_type": "display_data",
          "data": {
            "image/png": "[encoded data removed]",
            "text/plain": [
              "<Figure size 432x288 with 1 Axes>"
            ]
          },
          "metadata": {
            "tags": [],
            "needs_background": "light"
          }
        }
      ]
    },
    {
      "cell_type": "code",
      "metadata": {
        "id": "biKzh76RGIfK",
        "outputId": "b6180253-a192-45cc-a13e-749650aafab2",
        "colab": {
          "base_uri": "https://localhost:8080/",
          "height": 295
        }
      },
      "source": [
        "# summarize history for loss\n",
        "plt.plot(model_history.history['loss'])\n",
        "plt.plot(model_history.history['val_loss'])\n",
        "plt.title('model loss')\n",
        "plt.ylabel('loss')\n",
        "plt.xlabel('epoch')\n",
        "plt.legend(['train', 'test'], loc='upper left')\n",
        "plt.show()"
      ],
      "execution_count": 27,
      "outputs": [
        {
          "output_type": "display_data",
          "data": {
            "image/png": "[encoded data removed]",
            "text/plain": [
              "<Figure size 432x288 with 1 Axes>"
            ]
          },
          "metadata": {
            "tags": [],
            "needs_background": "light"
          }
        }
      ]
    },
    {
      "cell_type": "markdown",
      "metadata": {
        "id": "2VngplffOdTi"
      },
      "source": [
        "# Making the predictions and evaluating the model"
      ]
    },
    {
      "cell_type": "code",
      "metadata": {
        "id": "MUQV0rsSOOPs"
      },
      "source": [
        "# Predicting the Test set results\n",
        "y_pred = classifier.predict(X_test)"
      ],
      "execution_count": 28,
      "outputs": []
    },
    {
      "cell_type": "markdown",
      "metadata": {
        "id": "HwXAKoq3GtNk"
      },
      "source": [
        "\n",
        "This will show us the probability of a claim being exited. We then set a threshold of 50% for classifying a claim as exited. This means that any claim with a probability of 0.5 or more will be classified as exited.\n",
        " "
      ]
    },
    {
      "cell_type": "code",
      "metadata": {
        "id": "c9izzcg-OoYV"
      },
      "source": [
        "y_pred = (y_pred > 0.5)\n"
      ],
      "execution_count": 29,
      "outputs": []
    },
    {
      "cell_type": "code",
      "metadata": {
        "id": "pOf2yfGVS1hY",
        "outputId": "b7f10a97-ec93-40cf-8d79-d2652b919309",
        "colab": {
          "base_uri": "https://localhost:8080/"
        }
      },
      "source": [
        "y_test.value_counts()"
      ],
      "execution_count": 30,
      "outputs": [
        {
          "output_type": "execute_result",
          "data": {
            "text/plain": [
              "0    1595\n",
              "1     405\n",
              "Name: Exited, dtype: int64"
            ]
          },
          "metadata": {
            "tags": []
          },
          "execution_count": 30
        }
      ]
    },
    {
      "cell_type": "code",
      "metadata": {
        "id": "K2gHjI7hOrCq",
        "outputId": "61f7fd38-f6ce-4977-fd00-5250bf4b804f",
        "colab": {
          "base_uri": "https://localhost:8080/"
        }
      },
      "source": [
        "# Making the Confusion Matrix\n",
        "from sklearn.metrics import confusion_matrix\n",
        "cm = confusion_matrix(y_test, y_pred)\n",
        "cm"
      ],
      "execution_count": 31,
      "outputs": [
        {
          "output_type": "execute_result",
          "data": {
            "text/plain": [
              "array([[1538,   57],\n",
              "       [ 257,  148]])"
            ]
          },
          "metadata": {
            "tags": []
          },
          "execution_count": 31
        }
      ]
    },
    {
      "cell_type": "code",
      "metadata": {
        "id": "UTxMoUroTaHs",
        "outputId": "83a7aaed-1dcc-4160-cba0-1cdefe6ebf2e",
        "colab": {
          "base_uri": "https://localhost:8080/"
        }
      },
      "source": [
        "(1516 + 210) / 2000"
      ],
      "execution_count": 32,
      "outputs": [
        {
          "output_type": "execute_result",
          "data": {
            "text/plain": [
              "0.863"
            ]
          },
          "metadata": {
            "tags": []
          },
          "execution_count": 32
        }
      ]
    },
    {
      "cell_type": "markdown",
      "metadata": {
        "id": "YLShr887O6Db"
      },
      "source": [
        "The confusion matrix can be interpreted as follows. Out of 2000 observations, 1516 + 210 observations were correctly predicted while 79 + 195 were incorrectly predicted. You can calculate the accuracy by dividing the number of correct predictions by the total number of predictions. In this case (1516 + 210) / 2000, which gives you 86%."
      ]
    },
    {
      "cell_type": "code",
      "metadata": {
        "id": "5Y_xPKwaT178",
        "outputId": "6e5e0e44-9f28-49c7-b7e5-9317fe90d7a2",
        "colab": {
          "base_uri": "https://localhost:8080/"
        }
      },
      "source": [
        "# Calculate the Accuracy\n",
        "from sklearn.metrics import accuracy_score\n",
        "score=accuracy_score(y_pred,y_test)\n",
        "score"
      ],
      "execution_count": 33,
      "outputs": [
        {
          "output_type": "execute_result",
          "data": {
            "text/plain": [
              "0.843"
            ]
          },
          "metadata": {
            "tags": []
          },
          "execution_count": 33
        }
      ]
    },
    {
      "cell_type": "markdown",
      "metadata": {
        "id": "fKUJom0UUCVr"
      },
      "source": [
        "Since our classifier expects numpy arrays, we have to transform the single observation into a numpy array and use the standard scaler to scale it."
      ]
    },
    {
      "cell_type": "markdown",
      "metadata": {
        "id": "MbFgzuziUcpO"
      },
      "source": [
        "# Evaluating our ANN\n",
        "After training the model one or two times, you’ll notice that you keep getting different accuracies. So you’re not quite sure which one is the right one. This introduces the bias variance trade off. In essence, we’re trying to train a model that will be accurate and not have too much variance of accuracy when trained several times.\n",
        "To solve this problem we use the K-fold cross validation with K equal to 10. This will split the training set into 10 folds. We’ll then train our model on 9 folds and test it on the remaining fold. Since we have 10 folds, we’re going to do this iteratively through 10 combinations. Each iteration will gives us its accuracy. We’ll then find the mean of all accuracies and use that as our model accuracy. We also calculate the variance to ensure that it’s minimal.\n",
        "Keras has a scikit learn wrapper (KerasClassifier) that enables us to include K-fold cross validation in our Keras code."
      ]
    },
    {
      "cell_type": "code",
      "metadata": {
        "id": "PSV9IsBaUDga"
      },
      "source": [
        "from keras.wrappers.scikit_learn import KerasClassifier"
      ],
      "execution_count": 34,
      "outputs": []
    },
    {
      "cell_type": "markdown",
      "metadata": {
        "id": "WzI5hNOCVBk6"
      },
      "source": [
        "Next we import the k-fold cross validation function from scikit_learn"
      ]
    },
    {
      "cell_type": "code",
      "metadata": {
        "id": "XXQC9D2oVDvw"
      },
      "source": [
        "from sklearn.model_selection import cross_val_score"
      ],
      "execution_count": 35,
      "outputs": []
    },
    {
      "cell_type": "markdown",
      "metadata": {
        "id": "c0kBQNb_VHHq"
      },
      "source": [
        "The KerasClassifier expects one of its arguments to be a function, so we need to build that function.The purpose of this function is to build the architecture of our ANN."
      ]
    },
    {
      "cell_type": "code",
      "metadata": {
        "id": "qqntgVkcVKeL"
      },
      "source": [
        "def make_classifier():\n",
        "    classifier = Sequential()\n",
        "    classiifier.add(Dense(6, kernel_initializer = 'uniform', activation = 'relu', input_dim=11))\n",
        "    classiifier.add(Dense(6, kernel_initializer = 'uniform', activation = 'relu'))\n",
        "    classifier.add(Dense(1, kernel_initializer = 'unifor', activation = 'sigmoid'))\n",
        "    classifier.compile(optimizer= 'adam',loss = 'binary_crossentropy',metrics = ['accuracy'])\n",
        "    return classifier"
      ],
      "execution_count": 59,
      "outputs": []
    },
    {
      "cell_type": "markdown",
      "metadata": {
        "id": "fnLyFKKZVoPl"
      },
      "source": [
        "This function will build the classifier and return it for use in the next step. The only thing we have done here is wrap our previous ANN architecture in a function and return the classifier.\n",
        "We then create a new classifier using K-fold cross validation and pass the parameter build_fn as the function we just created above. Next we pass the batch size and the number of epochs, just like we did in the previous classifier."
      ]
    },
    {
      "cell_type": "code",
      "metadata": {
        "id": "zu--2eH0VpEa"
      },
      "source": [
        "classifier = KerasClassifier(build_fn = make_classifier,\n",
        "                            batch_size=10, epochs=100)"
      ],
      "execution_count": 55,
      "outputs": []
    },
    {
      "cell_type": "markdown",
      "metadata": {
        "id": "tfm7TkPGV1Yk"
      },
      "source": [
        "To apply the k-fold cross validation function we can use scikit-learn’s cross_val_score function. The estimator is the classifier we just built with make_classifier and n_jobs=-1 will make use of all available CPUs. cv is the number of folds and 10 is a typical choice. The cross_val_score will return the ten accuracies of the ten test folds used in the computation."
      ]
    },
    {
      "cell_type": "code",
      "metadata": {
        "id": "x_h9DLFaQXS6"
      },
      "source": [
        "accuracies = cross_val_score(estimator =classifier ,\n",
        "                             X = X_train,\n",
        "                             y = y_train,\n",
        "                             cv = 10,\n",
        "                             n_jobs = -1)"
      ],
      "execution_count": 60,
      "outputs": []
    },
    {
      "cell_type": "markdown",
      "metadata": {
        "id": "YLxjitF4SQ3w"
      },
      "source": [
        "To obtain the relative accuracies we get the mean of the accuracies."
      ]
    },
    {
      "cell_type": "code",
      "metadata": {
        "id": "u-ifBnsOYEnq"
      },
      "source": [
        "mean = accuracies.mean()\n"
      ],
      "execution_count": 61,
      "outputs": []
    },
    {
      "cell_type": "code",
      "metadata": {
        "id": "AHrMPpKOVxwK"
      },
      "source": [
        "variance = accuracies.var()\n",
        "variance\n",
        "                             \n",
        "                             \n",
        "                              "
      ],
      "execution_count": null,
      "outputs": []
    },
    {
      "cell_type": "markdown",
      "metadata": {
        "id": "8VLEbNawQ60u"
      },
      "source": [
        "# Fighting Overfitting\n",
        "\n",
        "Overfitting in machine learning is what happens when a model learns the details and noise in the training set such that it performs poorly on the test set. This can be observed when we have huge differences between the accuracies of the test set and training set, or when you observe a high variance when applying k-fold cross validation.\n",
        "In artificial neural networks, we counteract this using a technique called dropout regularization. Dropout regularization works by randomly disabling some neurons at each iteration of the training to prevent them from being too dependent on each other"
      ]
    },
    {
      "cell_type": "code",
      "metadata": {
        "id": "ElP_DeHeRFVP"
      },
      "source": [
        "from keras.layers import Dropout\n",
        "\n",
        "classifier1 = Sequential()\n",
        "classifier1.add(Dense(3, kernel_initializer = 'uniform', activation = 'relu', input_dim=11))\n",
        "\n",
        "# Notice the dropouts\n",
        "classifier1.add(Dropout(rate = 0.1))\n",
        "classifier1.add(Dense(6, kernel_initializer = 'uniform', activation = 'relu'))\n",
        "classifier1.add(Dropout(rate = 0.1))\n",
        "\n",
        "classifier1.add(Dense(1, kernel_initializer = 'uniform', activation = 'sigmoid'))\n",
        "classifier1.compile(optimizer= 'adam',loss = 'binary_crossentropy',metrics = ['accuracy'])\n"
      ],
      "execution_count": 63,
      "outputs": []
    },
    {
      "cell_type": "markdown",
      "metadata": {
        "id": "X0KnYsBPSmqN"
      },
      "source": [
        "In this case we apply the dropout after the first hidden layer and after the second hidden layer. Using a rate of 0.1 means that 1% of the neurons will be disabled at each iteration. It is advisable to start with a rate of 0.1. However you should never go beyond 0.4 because you will now start to get underfitting."
      ]
    },
    {
      "cell_type": "markdown",
      "metadata": {
        "id": "6F2Zi-1XUyfJ"
      },
      "source": [
        "# Parameter Tuning\n",
        "\n",
        "Once you obtain your accuracy you can tune the parameters to get a higher accuracy. Grid Search enables us to test different parameters in order to obtain the best parameters.\n",
        "The first step here is to import the GridSearchCV module from sklearn."
      ]
    },
    {
      "cell_type": "code",
      "metadata": {
        "id": "ARUxXFEySngd"
      },
      "source": [
        "from sklearn.model_selection import GridSearchCV"
      ],
      "execution_count": 68,
      "outputs": []
    },
    {
      "cell_type": "markdown",
      "metadata": {
        "id": "bpYdJp3EWplu"
      },
      "source": [
        "We also need to modify our make_classifier function as follows. We create a new variable called optimizer that will allow us to add more than one optimizer in our params variable.\n"
      ]
    },
    {
      "cell_type": "code",
      "metadata": {
        "id": "QwXpe9JTWqUk"
      },
      "source": [
        "def make_classifier(optimizer):\n",
        "    classifier = Sequential()\n",
        "    classifier.add(Dense(6, kernel_initializer = 'uniform', activation = 'relu', input_dim=11))\n",
        "    classifier.add(Dense(6, kernel_initializer = 'uniform', activation = 'relu'))\n",
        "    classifier.add(Dense(1, kernel_initializer = 'uniform', activation = 'sigmoid'))\n",
        "    classifier.compile(optimizer= optimizer,loss = 'binary_crossentropy',metrics = ['accuracy'])\n",
        "    return classifier"
      ],
      "execution_count": 101,
      "outputs": []
    },
    {
      "cell_type": "markdown",
      "metadata": {
        "id": "Ol_yQ2x9XQjw"
      },
      "source": [
        "We’ll still use the KerasClassifier, but we won’t pass the batch size and number of epochs since these are the parameters we want to tune."
      ]
    },
    {
      "cell_type": "code",
      "metadata": {
        "id": "jvLxeGW6XOFg"
      },
      "source": [
        "classifier = KerasClassifier(build_fn = make_classifier)"
      ],
      "execution_count": 102,
      "outputs": []
    },
    {
      "cell_type": "markdown",
      "metadata": {
        "id": "iTMWvbLwXgZd"
      },
      "source": [
        "The next step is to create a dictionary with the parameters we’d like to tune — in this case the batch size, the number of epochs, and the optimizer function. We still use Adam as an optimizer and add a new one called rmsprop. The Keras documentation recommends rmsprop when dealing with Recurrent Neural Networks. However we can try it for this ANN to see if it gives us a better result."
      ]
    },
    {
      "cell_type": "code",
      "metadata": {
        "id": "wuPPhItxXTNl"
      },
      "source": [
        "params = {\n",
        "    'batch_size':[20,35],\n",
        "    'nb_epoch':[150,500],\n",
        "    'optimizer':['adammax','adam']\n",
        "}"
      ],
      "execution_count": 109,
      "outputs": []
    },
    {
      "cell_type": "code",
      "metadata": {
        "id": "l7utXHzDXlfE"
      },
      "source": [
        "grid_search = GridSearchCV(estimator=classifier,\n",
        "                           param_grid=params,\n",
        "                           scoring='accuracy',\n",
        "                           cv=10)"
      ],
      "execution_count": 110,
      "outputs": []
    },
    {
      "cell_type": "code",
      "metadata": {
        "id": "icSF2e0dXtlP",
        "outputId": "3eabc89c-64c0-4814-a665-70328630a6ae",
        "colab": {
          "base_uri": "https://localhost:8080/"
        }
      },
      "source": [
        "grid_search = grid_search.fit(X_train,y_train)"
      ],
      "execution_count": 111,
      "outputs": [
        {
          "output_type": "stream",
          "text": [
            "/usr/local/lib/python3.6/dist-packages/sklearn/model_selection/_validation.py:536: FitFailedWarning: Estimator fit failed. The score on this train-test partition for these parameters will be set to nan. Details: \n",
            "ValueError: Unknown optimizer: adammax\n",
            "\n",
            "  FitFailedWarning)\n"
          ],
          "name": "stderr"
        },
        {
          "output_type": "stream",
          "text": [
            "360/360 [==============================] - 0s 949us/step - loss: 0.5299 - accuracy: 0.7969\n",
            "360/360 [==============================] - 0s 892us/step - loss: 0.5548 - accuracy: 0.7957\n",
            "360/360 [==============================] - 0s 888us/step - loss: 0.5281 - accuracy: 0.7956\n",
            "360/360 [==============================] - 0s 856us/step - loss: 0.5239 - accuracy: 0.7975\n",
            "360/360 [==============================] - 0s 864us/step - loss: 0.5613 - accuracy: 0.7904\n",
            "360/360 [==============================] - 0s 899us/step - loss: 0.5539 - accuracy: 0.7939\n",
            "360/360 [==============================] - 0s 909us/step - loss: 0.5232 - accuracy: 0.7969\n",
            "360/360 [==============================] - 0s 899us/step - loss: 0.5391 - accuracy: 0.7957\n",
            "360/360 [==============================] - 0s 887us/step - loss: 0.5408 - accuracy: 0.7953\n",
            "360/360 [==============================] - 0s 930us/step - loss: 0.6491 - accuracy: 0.7942\n",
            "360/360 [==============================] - 0s 898us/step - loss: 0.5562 - accuracy: 0.7956\n",
            "360/360 [==============================] - 0s 884us/step - loss: 0.5555 - accuracy: 0.7962\n",
            "360/360 [==============================] - 0s 899us/step - loss: 0.5310 - accuracy: 0.7954\n",
            "360/360 [==============================] - 0s 919us/step - loss: 0.5391 - accuracy: 0.7975\n",
            "360/360 [==============================] - 0s 896us/step - loss: 0.5386 - accuracy: 0.7928\n",
            "360/360 [==============================] - 0s 875us/step - loss: 0.5526 - accuracy: 0.7933\n",
            "360/360 [==============================] - 0s 892us/step - loss: 0.5373 - accuracy: 0.7965\n",
            "360/360 [==============================] - 0s 922us/step - loss: 0.5319 - accuracy: 0.7961\n",
            "360/360 [==============================] - 0s 871us/step - loss: 0.5362 - accuracy: 0.7943\n",
            "360/360 [==============================] - 0s 886us/step - loss: 0.5383 - accuracy: 0.7943\n",
            "206/206 [==============================] - 0s 991us/step - loss: 0.5940 - accuracy: 0.7962\n",
            "206/206 [==============================] - 0s 966us/step - loss: 0.5956 - accuracy: 0.7961\n",
            "206/206 [==============================] - 0s 934us/step - loss: 0.5911 - accuracy: 0.7954\n",
            "206/206 [==============================] - 0s 1ms/step - loss: 0.6170 - accuracy: 0.7949\n",
            "206/206 [==============================] - 0s 970us/step - loss: 0.5950 - accuracy: 0.7919\n",
            "206/206 [==============================] - 0s 954us/step - loss: 0.6409 - accuracy: 0.7910\n",
            "206/206 [==============================] - 0s 955us/step - loss: 0.5949 - accuracy: 0.7957\n",
            "206/206 [==============================] - 0s 968us/step - loss: 0.5894 - accuracy: 0.7947\n",
            "206/206 [==============================] - 0s 917us/step - loss: 0.6087 - accuracy: 0.7942\n",
            "206/206 [==============================] - 0s 1ms/step - loss: 0.5868 - accuracy: 0.7961\n",
            "206/206 [==============================] - 0s 940us/step - loss: 0.5910 - accuracy: 0.7972\n",
            "206/206 [==============================] - 0s 961us/step - loss: 0.6092 - accuracy: 0.7939\n",
            "206/206 [==============================] - 0s 1ms/step - loss: 0.5978 - accuracy: 0.7949\n",
            "206/206 [==============================] - 0s 933us/step - loss: 0.6129 - accuracy: 0.7975\n",
            "206/206 [==============================] - 0s 938us/step - loss: 0.5924 - accuracy: 0.7929\n",
            "206/206 [==============================] - 0s 962us/step - loss: 0.5799 - accuracy: 0.7944\n",
            "206/206 [==============================] - 0s 959us/step - loss: 0.5921 - accuracy: 0.7957\n",
            "206/206 [==============================] - 0s 1ms/step - loss: 0.6026 - accuracy: 0.7949\n",
            "206/206 [==============================] - 0s 945us/step - loss: 0.6177 - accuracy: 0.7940\n",
            "206/206 [==============================] - 0s 1ms/step - loss: 0.5905 - accuracy: 0.7961\n",
            "400/400 [==============================] - 0s 890us/step - loss: 0.5324 - accuracy: 0.7949\n"
          ],
          "name": "stdout"
        }
      ]
    },
    {
      "cell_type": "markdown",
      "metadata": {
        "id": "SXVkYJm1ahVV"
      },
      "source": [
        "We can get the best selection of parameters using best_params from the grid search object. Likewise we use the best_score_ to get the best score."
      ]
    },
    {
      "cell_type": "code",
      "metadata": {
        "id": "jIXnewq9Z6wy",
        "outputId": "347fd787-7864-44a1-bf4a-dc463049851f",
        "colab": {
          "base_uri": "https://localhost:8080/"
        }
      },
      "source": [
        "best_param = grid_search.best_params_\n",
        "best_accuracy = grid_search.best_score_\n",
        "\n",
        "print(best_param)\n",
        "\n",
        "best_accuracy"
      ],
      "execution_count": 112,
      "outputs": [
        {
          "output_type": "stream",
          "text": [
            "{'batch_size': 20, 'nb_epoch': 150, 'optimizer': 'adam'}\n"
          ],
          "name": "stdout"
        },
        {
          "output_type": "execute_result",
          "data": {
            "text/plain": [
              "0.796"
            ]
          },
          "metadata": {
            "tags": []
          },
          "execution_count": 112
        }
      ]
    }
  ]
}