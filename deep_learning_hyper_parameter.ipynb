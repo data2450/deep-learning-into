{
  "nbformat": 4,
  "nbformat_minor": 0,
  "metadata": {
    "colab": {
      "name": "deep learning hyper parameter.ipynb",
      "provenance": [],
      "authorship_tag": "ABX9TyPKIZWzFgxvBqBEbF4AJe4x",
      "include_colab_link": true
    },
    "kernelspec": {
      "name": "python3",
      "display_name": "Python 3"
    }
  },
  "cells": [
    {
      "cell_type": "markdown",
      "metadata": {
        "id": "view-in-github",
        "colab_type": "text"
      },
      "source": [
        "<a href=\"https://colab.research.google.com/github/data2450/deep-learning-intro/blob/main/deep_learning_hyper_parameter.ipynb\" target=\"_parent\"><img src=\"https://colab.research.google.com/assets/colab-badge.svg\" alt=\"Open In Colab\"/></a>"
      ]
    },
    {
      "cell_type": "code",
      "metadata": {
        "id": "hclQ2M5ac_U3"
      },
      "source": [
        "url='https://raw.githubusercontent.com/krishnaik06/Keras-Tuner/main/Real_Combine.csv'"
      ],
      "execution_count": 2,
      "outputs": []
    },
    {
      "cell_type": "code",
      "metadata": {
        "id": "pcyr_QtWh0Lf",
        "outputId": "83374a53-3c89-46da-bded-535190886722",
        "colab": {
          "base_uri": "https://localhost:8080/"
        }
      },
      "source": [
        "!pip install keras-tuner"
      ],
      "execution_count": null,
      "outputs": [
        {
          "output_type": "stream",
          "text": [
            "Collecting keras-tuner\n",
            "\u001b[?25l  Downloading https://files.pythonhosted.org/packages/a7/f7/4b41b6832abf4c9bef71a664dc563adb25afc5812831667c6db572b1a261/keras-tuner-1.0.1.tar.gz (54kB)\n",
            "\r\u001b[K     |██████                          | 10kB 16.6MB/s eta 0:00:01\r\u001b[K     |████████████                    | 20kB 3.0MB/s eta 0:00:01\r\u001b[K     |██████████████████              | 30kB 3.3MB/s eta 0:00:01\r\u001b[K     |████████████████████████        | 40kB 3.6MB/s eta 0:00:01\r\u001b[K     |██████████████████████████████  | 51kB 3.4MB/s eta 0:00:01\r\u001b[K     |████████████████████████████████| 61kB 2.7MB/s \n",
            "\u001b[?25hRequirement already satisfied: future in /usr/local/lib/python3.6/dist-packages (from keras-tuner) (0.16.0)\n",
            "Requirement already satisfied: numpy in /usr/local/lib/python3.6/dist-packages (from keras-tuner) (1.18.5)\n",
            "Requirement already satisfied: tabulate in /usr/local/lib/python3.6/dist-packages (from keras-tuner) (0.8.7)\n",
            "Collecting terminaltables\n",
            "  Downloading https://files.pythonhosted.org/packages/9b/c4/4a21174f32f8a7e1104798c445dacdc1d4df86f2f26722767034e4de4bff/terminaltables-3.1.0.tar.gz\n",
            "Collecting colorama\n",
            "  Downloading https://files.pythonhosted.org/packages/44/98/5b86278fbbf250d239ae0ecb724f8572af1c91f4a11edf4d36a206189440/colorama-0.4.4-py2.py3-none-any.whl\n",
            "Requirement already satisfied: tqdm in /usr/local/lib/python3.6/dist-packages (from keras-tuner) (4.41.1)\n",
            "Requirement already satisfied: requests in /usr/local/lib/python3.6/dist-packages (from keras-tuner) (2.23.0)\n",
            "Requirement already satisfied: scipy in /usr/local/lib/python3.6/dist-packages (from keras-tuner) (1.4.1)\n",
            "Requirement already satisfied: scikit-learn in /usr/local/lib/python3.6/dist-packages (from keras-tuner) (0.22.2.post1)\n",
            "Requirement already satisfied: chardet<4,>=3.0.2 in /usr/local/lib/python3.6/dist-packages (from requests->keras-tuner) (3.0.4)\n",
            "Requirement already satisfied: certifi>=2017.4.17 in /usr/local/lib/python3.6/dist-packages (from requests->keras-tuner) (2020.6.20)\n",
            "Requirement already satisfied: idna<3,>=2.5 in /usr/local/lib/python3.6/dist-packages (from requests->keras-tuner) (2.10)\n",
            "Requirement already satisfied: urllib3!=1.25.0,!=1.25.1,<1.26,>=1.21.1 in /usr/local/lib/python3.6/dist-packages (from requests->keras-tuner) (1.24.3)\n",
            "Requirement already satisfied: joblib>=0.11 in /usr/local/lib/python3.6/dist-packages (from scikit-learn->keras-tuner) (0.17.0)\n",
            "Building wheels for collected packages: keras-tuner, terminaltables\n",
            "  Building wheel for keras-tuner (setup.py) ... \u001b[?25l\u001b[?25hdone\n",
            "  Created wheel for keras-tuner: filename=keras_tuner-1.0.1-cp36-none-any.whl size=73200 sha256=c83b3e61589e1be821ba91f59e891e6a25d41d94055a2568c8ccab2e1d66cd04\n",
            "  Stored in directory: /root/.cache/pip/wheels/b9/cc/62/52716b70dd90f3db12519233c3a93a5360bc672da1a10ded43\n",
            "  Building wheel for terminaltables (setup.py) ... \u001b[?25l\u001b[?25hdone\n",
            "  Created wheel for terminaltables: filename=terminaltables-3.1.0-cp36-none-any.whl size=15356 sha256=9fb25369ed290469144ec638ec25055dcc0b9cc8ff635784326777f1655f1c89\n",
            "  Stored in directory: /root/.cache/pip/wheels/30/6b/50/6c75775b681fb36cdfac7f19799888ef9d8813aff9e379663e\n",
            "Successfully built keras-tuner terminaltables\n",
            "Installing collected packages: terminaltables, colorama, keras-tuner\n",
            "Successfully installed colorama-0.4.4 keras-tuner-1.0.1 terminaltables-3.1.0\n"
          ],
          "name": "stdout"
        }
      ]
    },
    {
      "cell_type": "code",
      "metadata": {
        "id": "nwR4PvWCeFno"
      },
      "source": [
        "import pandas as pd\n",
        "from tensorflow import keras\n",
        "from tensorflow.keras import layers\n",
        "#from kerastuner.tuners import RandomSearch"
      ],
      "execution_count": 3,
      "outputs": []
    },
    {
      "cell_type": "code",
      "metadata": {
        "id": "_636Pe1LeO1G",
        "outputId": "d37f78be-4ba5-4cb2-a814-86854fc20949",
        "colab": {
          "base_uri": "https://localhost:8080/",
          "height": 238
        }
      },
      "source": [
        "df=pd.read_csv(url)\n",
        "print(df.isnull().values.any())\n",
        "print(df.shape)\n",
        "df.head()\n",
        "#we have some null values"
      ],
      "execution_count": 4,
      "outputs": [
        {
          "output_type": "stream",
          "text": [
            "True\n",
            "(1093, 9)\n"
          ],
          "name": "stdout"
        },
        {
          "output_type": "execute_result",
          "data": {
            "text/html": [
              "<div>\n",
              "<style scoped>\n",
              "    .dataframe tbody tr th:only-of-type {\n",
              "        vertical-align: middle;\n",
              "    }\n",
              "\n",
              "    .dataframe tbody tr th {\n",
              "        vertical-align: top;\n",
              "    }\n",
              "\n",
              "    .dataframe thead th {\n",
              "        text-align: right;\n",
              "    }\n",
              "</style>\n",
              "<table border=\"1\" class=\"dataframe\">\n",
              "  <thead>\n",
              "    <tr style=\"text-align: right;\">\n",
              "      <th></th>\n",
              "      <th>T</th>\n",
              "      <th>TM</th>\n",
              "      <th>Tm</th>\n",
              "      <th>SLP</th>\n",
              "      <th>H</th>\n",
              "      <th>VV</th>\n",
              "      <th>V</th>\n",
              "      <th>VM</th>\n",
              "      <th>PM 2.5</th>\n",
              "    </tr>\n",
              "  </thead>\n",
              "  <tbody>\n",
              "    <tr>\n",
              "      <th>0</th>\n",
              "      <td>7.4</td>\n",
              "      <td>9.8</td>\n",
              "      <td>4.8</td>\n",
              "      <td>1017.6</td>\n",
              "      <td>93.0</td>\n",
              "      <td>0.5</td>\n",
              "      <td>4.3</td>\n",
              "      <td>9.4</td>\n",
              "      <td>219.720833</td>\n",
              "    </tr>\n",
              "    <tr>\n",
              "      <th>1</th>\n",
              "      <td>7.8</td>\n",
              "      <td>12.7</td>\n",
              "      <td>4.4</td>\n",
              "      <td>1018.5</td>\n",
              "      <td>87.0</td>\n",
              "      <td>0.6</td>\n",
              "      <td>4.4</td>\n",
              "      <td>11.1</td>\n",
              "      <td>182.187500</td>\n",
              "    </tr>\n",
              "    <tr>\n",
              "      <th>2</th>\n",
              "      <td>6.7</td>\n",
              "      <td>13.4</td>\n",
              "      <td>2.4</td>\n",
              "      <td>1019.4</td>\n",
              "      <td>82.0</td>\n",
              "      <td>0.6</td>\n",
              "      <td>4.8</td>\n",
              "      <td>11.1</td>\n",
              "      <td>154.037500</td>\n",
              "    </tr>\n",
              "    <tr>\n",
              "      <th>3</th>\n",
              "      <td>8.6</td>\n",
              "      <td>15.5</td>\n",
              "      <td>3.3</td>\n",
              "      <td>1018.7</td>\n",
              "      <td>72.0</td>\n",
              "      <td>0.8</td>\n",
              "      <td>8.1</td>\n",
              "      <td>20.6</td>\n",
              "      <td>223.208333</td>\n",
              "    </tr>\n",
              "    <tr>\n",
              "      <th>4</th>\n",
              "      <td>12.4</td>\n",
              "      <td>20.9</td>\n",
              "      <td>4.4</td>\n",
              "      <td>1017.3</td>\n",
              "      <td>61.0</td>\n",
              "      <td>1.3</td>\n",
              "      <td>8.7</td>\n",
              "      <td>22.2</td>\n",
              "      <td>200.645833</td>\n",
              "    </tr>\n",
              "  </tbody>\n",
              "</table>\n",
              "</div>"
            ],
            "text/plain": [
              "      T    TM   Tm     SLP     H   VV    V    VM      PM 2.5\n",
              "0   7.4   9.8  4.8  1017.6  93.0  0.5  4.3   9.4  219.720833\n",
              "1   7.8  12.7  4.4  1018.5  87.0  0.6  4.4  11.1  182.187500\n",
              "2   6.7  13.4  2.4  1019.4  82.0  0.6  4.8  11.1  154.037500\n",
              "3   8.6  15.5  3.3  1018.7  72.0  0.8  8.1  20.6  223.208333\n",
              "4  12.4  20.9  4.4  1017.3  61.0  1.3  8.7  22.2  200.645833"
            ]
          },
          "metadata": {
            "tags": []
          },
          "execution_count": 4
        }
      ]
    },
    {
      "cell_type": "code",
      "metadata": {
        "id": "GIfUbIH7JL6n",
        "outputId": "59e25e42-e430-438b-c985-73c033f0fa4a",
        "colab": {
          "base_uri": "https://localhost:8080/"
        }
      },
      "source": [
        "df.isnull().sum()"
      ],
      "execution_count": 5,
      "outputs": [
        {
          "output_type": "execute_result",
          "data": {
            "text/plain": [
              "T         0\n",
              "TM        0\n",
              "Tm        0\n",
              "SLP       0\n",
              "H         0\n",
              "VV        0\n",
              "V         0\n",
              "VM        0\n",
              "PM 2.5    1\n",
              "dtype: int64"
            ]
          },
          "metadata": {
            "tags": []
          },
          "execution_count": 5
        }
      ]
    },
    {
      "cell_type": "code",
      "metadata": {
        "id": "ZqU64klVH7X2",
        "outputId": "7fe11779-61c9-4275-8356-bbd276c99c66",
        "colab": {
          "base_uri": "https://localhost:8080/",
          "height": 80
        }
      },
      "source": [
        "is_NaN = df.isnull()\n",
        "row_has_NaN = is_NaN.any(axis=1)\n",
        "rows_with_NaN = df[row_has_NaN]\n",
        "rows_with_NaN\n",
        "#lets just drop that "
      ],
      "execution_count": null,
      "outputs": [
        {
          "output_type": "execute_result",
          "data": {
            "text/html": [
              "<div>\n",
              "<style scoped>\n",
              "    .dataframe tbody tr th:only-of-type {\n",
              "        vertical-align: middle;\n",
              "    }\n",
              "\n",
              "    .dataframe tbody tr th {\n",
              "        vertical-align: top;\n",
              "    }\n",
              "\n",
              "    .dataframe thead th {\n",
              "        text-align: right;\n",
              "    }\n",
              "</style>\n",
              "<table border=\"1\" class=\"dataframe\">\n",
              "  <thead>\n",
              "    <tr style=\"text-align: right;\">\n",
              "      <th></th>\n",
              "      <th>T</th>\n",
              "      <th>TM</th>\n",
              "      <th>Tm</th>\n",
              "      <th>SLP</th>\n",
              "      <th>H</th>\n",
              "      <th>VV</th>\n",
              "      <th>V</th>\n",
              "      <th>VM</th>\n",
              "      <th>PM 2.5</th>\n",
              "    </tr>\n",
              "  </thead>\n",
              "  <tbody>\n",
              "    <tr>\n",
              "      <th>184</th>\n",
              "      <td>14.3</td>\n",
              "      <td>19.2</td>\n",
              "      <td>10.9</td>\n",
              "      <td>1020.5</td>\n",
              "      <td>91.0</td>\n",
              "      <td>1.6</td>\n",
              "      <td>4.8</td>\n",
              "      <td>11.1</td>\n",
              "      <td>NaN</td>\n",
              "    </tr>\n",
              "  </tbody>\n",
              "</table>\n",
              "</div>"
            ],
            "text/plain": [
              "        T    TM    Tm     SLP     H   VV    V    VM  PM 2.5\n",
              "184  14.3  19.2  10.9  1020.5  91.0  1.6  4.8  11.1     NaN"
            ]
          },
          "metadata": {
            "tags": []
          },
          "execution_count": 20
        }
      ]
    },
    {
      "cell_type": "code",
      "metadata": {
        "id": "eou0cuJBJZbH",
        "outputId": "6840bed3-14cc-4c04-d95f-5ead1e999baf",
        "colab": {
          "base_uri": "https://localhost:8080/"
        }
      },
      "source": [
        "data=df.dropna()\n",
        "print(data.shape)"
      ],
      "execution_count": 16,
      "outputs": [
        {
          "output_type": "stream",
          "text": [
            "(1092, 9)\n"
          ],
          "name": "stdout"
        }
      ]
    },
    {
      "cell_type": "code",
      "metadata": {
        "id": "1cmo7qLUfVGP"
      },
      "source": [
        "X=df.iloc[:,:-1] ## independent features\n",
        "y=df.iloc[:,-1] ## dependent features"
      ],
      "execution_count": 6,
      "outputs": []
    },
    {
      "cell_type": "markdown",
      "metadata": {
        "id": "PE7lcOtbgIHF"
      },
      "source": [
        "# Hyperparameters\n",
        "\n",
        "How many number of hidden layers we should have?\n",
        "\n",
        "How many number of neurons we should have in hidden layers?\n",
        "\n",
        "Learning Rate\n",
        "\n"
      ]
    },
    {
      "cell_type": "code",
      "metadata": {
        "id": "OUDce4VNfqTu"
      },
      "source": [
        "def build_model(hp):\n",
        "    model = keras.Sequential()\n",
        "    for i in range(hp.Int('num_layers', 2, 20)):\n",
        "        model.add(layers.Dense(units=hp.Int('units_' + str(i),\n",
        "                                            min_value=32,\n",
        "                                            max_value=512,\n",
        "                                            step=32),\n",
        "                               activation='relu'))\n",
        "    model.add(layers.Dense(1, activation='linear'))\n",
        "    model.compile(\n",
        "        optimizer=keras.optimizers.Adam(\n",
        "            hp.Choice('learning_rate', [1e-2, 1e-3, 1e-4])),\n",
        "        loss='mean_absolute_error',\n",
        "        metrics=['mean_absolute_error'])\n",
        "    return model"
      ],
      "execution_count": null,
      "outputs": []
    },
    {
      "cell_type": "code",
      "metadata": {
        "id": "jfAEOVoPf6cE"
      },
      "source": [
        "tuner = RandomSearch(\n",
        "    build_model,\n",
        "    objective='val_mean_absolute_error',\n",
        "    max_trials=5,\n",
        "    executions_per_trial=3,\n",
        "    directory='project',\n",
        "    project_name='Air Quality Index')"
      ],
      "execution_count": null,
      "outputs": []
    },
    {
      "cell_type": "code",
      "metadata": {
        "id": "8tfEtj3PkKBm",
        "outputId": "b68f387b-5c93-4934-89f5-88638f1e60be",
        "colab": {
          "base_uri": "https://localhost:8080/",
          "height": 523
        }
      },
      "source": [
        "tuner.search_space_summary()\n",
        "\n"
      ],
      "execution_count": null,
      "outputs": [
        {
          "output_type": "display_data",
          "data": {
            "text/html": [
              "<span style=\"color:#4527A0\"><h1 style=\"font-size:18px\">Search space summary</h1></span>"
            ],
            "text/plain": [
              "<IPython.core.display.HTML object>"
            ]
          },
          "metadata": {
            "tags": []
          }
        },
        {
          "output_type": "display_data",
          "data": {
            "text/html": [
              "<span style=\"color:cyan\"> |-Default search space size: 4</span>"
            ],
            "text/plain": [
              "<IPython.core.display.HTML object>"
            ]
          },
          "metadata": {
            "tags": []
          }
        },
        {
          "output_type": "display_data",
          "data": {
            "text/html": [
              "<span style=\"color:#7E57C2\"><h2 style=\"font-size:16px\">num_layers (Int)</h2></span>"
            ],
            "text/plain": [
              "<IPython.core.display.HTML object>"
            ]
          },
          "metadata": {
            "tags": []
          }
        },
        {
          "output_type": "display_data",
          "data": {
            "text/html": [
              "<span style=\"color:cyan\"> |-default: None</span>"
            ],
            "text/plain": [
              "<IPython.core.display.HTML object>"
            ]
          },
          "metadata": {
            "tags": []
          }
        },
        {
          "output_type": "display_data",
          "data": {
            "text/html": [
              "<span style=\"color:blue\"> |-max_value: 20</span>"
            ],
            "text/plain": [
              "<IPython.core.display.HTML object>"
            ]
          },
          "metadata": {
            "tags": []
          }
        },
        {
          "output_type": "display_data",
          "data": {
            "text/html": [
              "<span style=\"color:cyan\"> |-min_value: 2</span>"
            ],
            "text/plain": [
              "<IPython.core.display.HTML object>"
            ]
          },
          "metadata": {
            "tags": []
          }
        },
        {
          "output_type": "display_data",
          "data": {
            "text/html": [
              "<span style=\"color:blue\"> |-sampling: None</span>"
            ],
            "text/plain": [
              "<IPython.core.display.HTML object>"
            ]
          },
          "metadata": {
            "tags": []
          }
        },
        {
          "output_type": "display_data",
          "data": {
            "text/html": [
              "<span style=\"color:cyan\"> |-step: 1</span>"
            ],
            "text/plain": [
              "<IPython.core.display.HTML object>"
            ]
          },
          "metadata": {
            "tags": []
          }
        },
        {
          "output_type": "display_data",
          "data": {
            "text/html": [
              "<span style=\"color:#7E57C2\"><h2 style=\"font-size:16px\">units_0 (Int)</h2></span>"
            ],
            "text/plain": [
              "<IPython.core.display.HTML object>"
            ]
          },
          "metadata": {
            "tags": []
          }
        },
        {
          "output_type": "display_data",
          "data": {
            "text/html": [
              "<span style=\"color:cyan\"> |-default: None</span>"
            ],
            "text/plain": [
              "<IPython.core.display.HTML object>"
            ]
          },
          "metadata": {
            "tags": []
          }
        },
        {
          "output_type": "display_data",
          "data": {
            "text/html": [
              "<span style=\"color:blue\"> |-max_value: 512</span>"
            ],
            "text/plain": [
              "<IPython.core.display.HTML object>"
            ]
          },
          "metadata": {
            "tags": []
          }
        },
        {
          "output_type": "display_data",
          "data": {
            "text/html": [
              "<span style=\"color:cyan\"> |-min_value: 32</span>"
            ],
            "text/plain": [
              "<IPython.core.display.HTML object>"
            ]
          },
          "metadata": {
            "tags": []
          }
        },
        {
          "output_type": "display_data",
          "data": {
            "text/html": [
              "<span style=\"color:blue\"> |-sampling: None</span>"
            ],
            "text/plain": [
              "<IPython.core.display.HTML object>"
            ]
          },
          "metadata": {
            "tags": []
          }
        },
        {
          "output_type": "display_data",
          "data": {
            "text/html": [
              "<span style=\"color:cyan\"> |-step: 32</span>"
            ],
            "text/plain": [
              "<IPython.core.display.HTML object>"
            ]
          },
          "metadata": {
            "tags": []
          }
        },
        {
          "output_type": "display_data",
          "data": {
            "text/html": [
              "<span style=\"color:#7E57C2\"><h2 style=\"font-size:16px\">units_1 (Int)</h2></span>"
            ],
            "text/plain": [
              "<IPython.core.display.HTML object>"
            ]
          },
          "metadata": {
            "tags": []
          }
        },
        {
          "output_type": "display_data",
          "data": {
            "text/html": [
              "<span style=\"color:cyan\"> |-default: None</span>"
            ],
            "text/plain": [
              "<IPython.core.display.HTML object>"
            ]
          },
          "metadata": {
            "tags": []
          }
        },
        {
          "output_type": "display_data",
          "data": {
            "text/html": [
              "<span style=\"color:blue\"> |-max_value: 512</span>"
            ],
            "text/plain": [
              "<IPython.core.display.HTML object>"
            ]
          },
          "metadata": {
            "tags": []
          }
        },
        {
          "output_type": "display_data",
          "data": {
            "text/html": [
              "<span style=\"color:cyan\"> |-min_value: 32</span>"
            ],
            "text/plain": [
              "<IPython.core.display.HTML object>"
            ]
          },
          "metadata": {
            "tags": []
          }
        },
        {
          "output_type": "display_data",
          "data": {
            "text/html": [
              "<span style=\"color:blue\"> |-sampling: None</span>"
            ],
            "text/plain": [
              "<IPython.core.display.HTML object>"
            ]
          },
          "metadata": {
            "tags": []
          }
        },
        {
          "output_type": "display_data",
          "data": {
            "text/html": [
              "<span style=\"color:cyan\"> |-step: 32</span>"
            ],
            "text/plain": [
              "<IPython.core.display.HTML object>"
            ]
          },
          "metadata": {
            "tags": []
          }
        },
        {
          "output_type": "display_data",
          "data": {
            "text/html": [
              "<span style=\"color:#7E57C2\"><h2 style=\"font-size:16px\">learning_rate (Choice)</h2></span>"
            ],
            "text/plain": [
              "<IPython.core.display.HTML object>"
            ]
          },
          "metadata": {
            "tags": []
          }
        },
        {
          "output_type": "display_data",
          "data": {
            "text/html": [
              "<span style=\"color:cyan\"> |-default: 0.01</span>"
            ],
            "text/plain": [
              "<IPython.core.display.HTML object>"
            ]
          },
          "metadata": {
            "tags": []
          }
        },
        {
          "output_type": "display_data",
          "data": {
            "text/html": [
              "<span style=\"color:blue\"> |-ordered: True</span>"
            ],
            "text/plain": [
              "<IPython.core.display.HTML object>"
            ]
          },
          "metadata": {
            "tags": []
          }
        },
        {
          "output_type": "display_data",
          "data": {
            "text/html": [
              "<span style=\"color:cyan\"> |-values: [0.01, 0.001, 0.0001]</span>"
            ],
            "text/plain": [
              "<IPython.core.display.HTML object>"
            ]
          },
          "metadata": {
            "tags": []
          }
        }
      ]
    },
    {
      "cell_type": "code",
      "metadata": {
        "id": "dXEsPyN6q7AL"
      },
      "source": [
        "from sklearn.model_selection import train_test_split\n",
        "X_train, X_test, y_train, y_test = train_test_split(X, y, test_size=0.3, random_state=0)"
      ],
      "execution_count": 7,
      "outputs": []
    },
    {
      "cell_type": "code",
      "metadata": {
        "id": "FDV6sdnAFQOn",
        "outputId": "c421602e-b44a-44e8-a3af-c4b85115c3de",
        "colab": {
          "base_uri": "https://localhost:8080/",
          "height": 1000
        }
      },
      "source": [
        "tuner.search(X_train, y_train,\n",
        "             epochs=5,\n",
        "             validation_data=(X_test, y_test))"
      ],
      "execution_count": null,
      "outputs": [
        {
          "output_type": "stream",
          "text": [
            "Epoch 1/5\n",
            "WARNING:tensorflow:Layer dense is casting an input tensor from dtype float64 to the layer's dtype of float32, which is new behavior in TensorFlow 2.  The layer has dtype float32 because its dtype defaults to floatx.\n",
            "\n",
            "If you intended to run this layer in float32, you can safely ignore this warning. If in doubt, this warning is likely only an issue if you are porting a TensorFlow 1.X model to TensorFlow 2.\n",
            "\n",
            "To change all layers to have dtype float64 by default, call `tf.keras.backend.set_floatx('float64')`. To change just this layer, pass dtype='float64' to the layer constructor. If you are the author of this layer, you can disable autocasting by passing autocast=False to the base Layer constructor.\n",
            "\n",
            "24/24 [==============================] - 0s 13ms/step - loss: nan - mean_absolute_error: nan - val_loss: 72.5572 - val_mean_absolute_error: 72.5572\n",
            "Epoch 2/5\n",
            "24/24 [==============================] - 0s 5ms/step - loss: nan - mean_absolute_error: nan - val_loss: 63.6293 - val_mean_absolute_error: 63.6293\n",
            "Epoch 3/5\n",
            "24/24 [==============================] - 0s 5ms/step - loss: nan - mean_absolute_error: nan - val_loss: 64.1682 - val_mean_absolute_error: 64.1682\n",
            "Epoch 4/5\n",
            "24/24 [==============================] - 0s 5ms/step - loss: nan - mean_absolute_error: nan - val_loss: 64.3657 - val_mean_absolute_error: 64.3657\n",
            "Epoch 5/5\n",
            "24/24 [==============================] - 0s 6ms/step - loss: nan - mean_absolute_error: nan - val_loss: 64.0699 - val_mean_absolute_error: 64.0699\n",
            "Epoch 1/5\n",
            "WARNING:tensorflow:Layer dense is casting an input tensor from dtype float64 to the layer's dtype of float32, which is new behavior in TensorFlow 2.  The layer has dtype float32 because its dtype defaults to floatx.\n",
            "\n",
            "If you intended to run this layer in float32, you can safely ignore this warning. If in doubt, this warning is likely only an issue if you are porting a TensorFlow 1.X model to TensorFlow 2.\n",
            "\n",
            "To change all layers to have dtype float64 by default, call `tf.keras.backend.set_floatx('float64')`. To change just this layer, pass dtype='float64' to the layer constructor. If you are the author of this layer, you can disable autocasting by passing autocast=False to the base Layer constructor.\n",
            "\n",
            "24/24 [==============================] - 0s 10ms/step - loss: nan - mean_absolute_error: nan - val_loss: 64.1935 - val_mean_absolute_error: 64.1935\n",
            "Epoch 2/5\n",
            "24/24 [==============================] - 0s 5ms/step - loss: nan - mean_absolute_error: nan - val_loss: 63.8903 - val_mean_absolute_error: 63.8903\n",
            "Epoch 3/5\n",
            "24/24 [==============================] - 0s 4ms/step - loss: nan - mean_absolute_error: nan - val_loss: 63.6581 - val_mean_absolute_error: 63.6581\n",
            "Epoch 4/5\n",
            "24/24 [==============================] - 0s 5ms/step - loss: nan - mean_absolute_error: nan - val_loss: 63.7246 - val_mean_absolute_error: 63.7246\n",
            "Epoch 5/5\n",
            "24/24 [==============================] - 0s 6ms/step - loss: nan - mean_absolute_error: nan - val_loss: 63.0845 - val_mean_absolute_error: 63.0845\n",
            "Epoch 1/5\n",
            "WARNING:tensorflow:Layer dense is casting an input tensor from dtype float64 to the layer's dtype of float32, which is new behavior in TensorFlow 2.  The layer has dtype float32 because its dtype defaults to floatx.\n",
            "\n",
            "If you intended to run this layer in float32, you can safely ignore this warning. If in doubt, this warning is likely only an issue if you are porting a TensorFlow 1.X model to TensorFlow 2.\n",
            "\n",
            "To change all layers to have dtype float64 by default, call `tf.keras.backend.set_floatx('float64')`. To change just this layer, pass dtype='float64' to the layer constructor. If you are the author of this layer, you can disable autocasting by passing autocast=False to the base Layer constructor.\n",
            "\n",
            "24/24 [==============================] - 0s 10ms/step - loss: nan - mean_absolute_error: nan - val_loss: 65.0913 - val_mean_absolute_error: 65.0913\n",
            "Epoch 2/5\n",
            "24/24 [==============================] - 0s 5ms/step - loss: nan - mean_absolute_error: nan - val_loss: 64.3001 - val_mean_absolute_error: 64.3001\n",
            "Epoch 3/5\n",
            "24/24 [==============================] - 0s 5ms/step - loss: nan - mean_absolute_error: nan - val_loss: 64.1047 - val_mean_absolute_error: 64.1047\n",
            "Epoch 4/5\n",
            "24/24 [==============================] - 0s 5ms/step - loss: nan - mean_absolute_error: nan - val_loss: 64.5663 - val_mean_absolute_error: 64.5663\n",
            "Epoch 5/5\n",
            "24/24 [==============================] - 0s 5ms/step - loss: nan - mean_absolute_error: nan - val_loss: 63.8954 - val_mean_absolute_error: 63.8954\n"
          ],
          "name": "stdout"
        },
        {
          "output_type": "stream",
          "text": [
            "/usr/local/lib/python3.6/dist-packages/kerastuner/engine/metrics_tracking.py:92: RuntimeWarning: All-NaN axis encountered\n",
            "  return np.nanmin(values)\n"
          ],
          "name": "stderr"
        },
        {
          "output_type": "display_data",
          "data": {
            "text/html": [
              "<span style=\"color:#4527A0\"><h1 style=\"font-size:18px\">Trial complete</h1></span>"
            ],
            "text/plain": [
              "<IPython.core.display.HTML object>"
            ]
          },
          "metadata": {
            "tags": []
          }
        },
        {
          "output_type": "display_data",
          "data": {
            "text/html": [
              "<span style=\"color:#4527A0\"><h1 style=\"font-size:18px\">Trial summary</h1></span>"
            ],
            "text/plain": [
              "<IPython.core.display.HTML object>"
            ]
          },
          "metadata": {
            "tags": []
          }
        },
        {
          "output_type": "display_data",
          "data": {
            "text/html": [
              "<span style=\"color:cyan\"> |-Trial ID: b39b32e4cceeb2f04974b7b8dfa97e97</span>"
            ],
            "text/plain": [
              "<IPython.core.display.HTML object>"
            ]
          },
          "metadata": {
            "tags": []
          }
        },
        {
          "output_type": "display_data",
          "data": {
            "text/html": [
              "<span style=\"color:cyan\"> |-Score: 63.53640111287435</span>"
            ],
            "text/plain": [
              "<IPython.core.display.HTML object>"
            ]
          },
          "metadata": {
            "tags": []
          }
        },
        {
          "output_type": "display_data",
          "data": {
            "text/html": [
              "<span style=\"color:cyan\"> |-Best step: 0</span>"
            ],
            "text/plain": [
              "<IPython.core.display.HTML object>"
            ]
          },
          "metadata": {
            "tags": []
          }
        },
        {
          "output_type": "display_data",
          "data": {
            "text/html": [
              "<span style=\"color:#7E57C2\"><h2 style=\"font-size:16px\">Hyperparameters:</h2></span>"
            ],
            "text/plain": [
              "<IPython.core.display.HTML object>"
            ]
          },
          "metadata": {
            "tags": []
          }
        },
        {
          "output_type": "display_data",
          "data": {
            "text/html": [
              "<span style=\"color:cyan\"> |-learning_rate: 0.0001</span>"
            ],
            "text/plain": [
              "<IPython.core.display.HTML object>"
            ]
          },
          "metadata": {
            "tags": []
          }
        },
        {
          "output_type": "display_data",
          "data": {
            "text/html": [
              "<span style=\"color:blue\"> |-num_layers: 5</span>"
            ],
            "text/plain": [
              "<IPython.core.display.HTML object>"
            ]
          },
          "metadata": {
            "tags": []
          }
        },
        {
          "output_type": "display_data",
          "data": {
            "text/html": [
              "<span style=\"color:cyan\"> |-units_0: 320</span>"
            ],
            "text/plain": [
              "<IPython.core.display.HTML object>"
            ]
          },
          "metadata": {
            "tags": []
          }
        },
        {
          "output_type": "display_data",
          "data": {
            "text/html": [
              "<span style=\"color:blue\"> |-units_1: 320</span>"
            ],
            "text/plain": [
              "<IPython.core.display.HTML object>"
            ]
          },
          "metadata": {
            "tags": []
          }
        },
        {
          "output_type": "display_data",
          "data": {
            "text/html": [
              "<span style=\"color:cyan\"> |-units_2: 32</span>"
            ],
            "text/plain": [
              "<IPython.core.display.HTML object>"
            ]
          },
          "metadata": {
            "tags": []
          }
        },
        {
          "output_type": "display_data",
          "data": {
            "text/html": [
              "<span style=\"color:blue\"> |-units_3: 32</span>"
            ],
            "text/plain": [
              "<IPython.core.display.HTML object>"
            ]
          },
          "metadata": {
            "tags": []
          }
        },
        {
          "output_type": "display_data",
          "data": {
            "text/html": [
              "<span style=\"color:cyan\"> |-units_4: 32</span>"
            ],
            "text/plain": [
              "<IPython.core.display.HTML object>"
            ]
          },
          "metadata": {
            "tags": []
          }
        },
        {
          "output_type": "stream",
          "text": [
            "Epoch 1/5\n",
            "WARNING:tensorflow:Layer dense is casting an input tensor from dtype float64 to the layer's dtype of float32, which is new behavior in TensorFlow 2.  The layer has dtype float32 because its dtype defaults to floatx.\n",
            "\n",
            "If you intended to run this layer in float32, you can safely ignore this warning. If in doubt, this warning is likely only an issue if you are porting a TensorFlow 1.X model to TensorFlow 2.\n",
            "\n",
            "To change all layers to have dtype float64 by default, call `tf.keras.backend.set_floatx('float64')`. To change just this layer, pass dtype='float64' to the layer constructor. If you are the author of this layer, you can disable autocasting by passing autocast=False to the base Layer constructor.\n",
            "\n",
            "24/24 [==============================] - 0s 14ms/step - loss: nan - mean_absolute_error: nan - val_loss: 65.7539 - val_mean_absolute_error: 65.7539\n",
            "Epoch 2/5\n",
            "24/24 [==============================] - 0s 9ms/step - loss: nan - mean_absolute_error: nan - val_loss: 63.9756 - val_mean_absolute_error: 63.9756\n",
            "Epoch 3/5\n",
            "24/24 [==============================] - 0s 9ms/step - loss: nan - mean_absolute_error: nan - val_loss: 64.2991 - val_mean_absolute_error: 64.2991\n",
            "Epoch 4/5\n",
            "24/24 [==============================] - 0s 9ms/step - loss: nan - mean_absolute_error: nan - val_loss: 64.4815 - val_mean_absolute_error: 64.4815\n",
            "Epoch 5/5\n",
            "24/24 [==============================] - 0s 9ms/step - loss: nan - mean_absolute_error: nan - val_loss: 63.6432 - val_mean_absolute_error: 63.6432\n",
            "Epoch 1/5\n",
            "WARNING:tensorflow:Layer dense is casting an input tensor from dtype float64 to the layer's dtype of float32, which is new behavior in TensorFlow 2.  The layer has dtype float32 because its dtype defaults to floatx.\n",
            "\n",
            "If you intended to run this layer in float32, you can safely ignore this warning. If in doubt, this warning is likely only an issue if you are porting a TensorFlow 1.X model to TensorFlow 2.\n",
            "\n",
            "To change all layers to have dtype float64 by default, call `tf.keras.backend.set_floatx('float64')`. To change just this layer, pass dtype='float64' to the layer constructor. If you are the author of this layer, you can disable autocasting by passing autocast=False to the base Layer constructor.\n",
            "\n",
            "24/24 [==============================] - 0s 14ms/step - loss: nan - mean_absolute_error: nan - val_loss: 63.5296 - val_mean_absolute_error: 63.5296\n",
            "Epoch 2/5\n",
            "24/24 [==============================] - 0s 8ms/step - loss: nan - mean_absolute_error: nan - val_loss: 64.8539 - val_mean_absolute_error: 64.8539\n",
            "Epoch 3/5\n",
            "24/24 [==============================] - 0s 8ms/step - loss: nan - mean_absolute_error: nan - val_loss: 63.8704 - val_mean_absolute_error: 63.8704\n",
            "Epoch 4/5\n",
            "24/24 [==============================] - 0s 9ms/step - loss: nan - mean_absolute_error: nan - val_loss: 63.9594 - val_mean_absolute_error: 63.9594\n",
            "Epoch 5/5\n",
            "24/24 [==============================] - 0s 9ms/step - loss: nan - mean_absolute_error: nan - val_loss: 64.6427 - val_mean_absolute_error: 64.6427\n",
            "Epoch 1/5\n",
            "WARNING:tensorflow:Layer dense is casting an input tensor from dtype float64 to the layer's dtype of float32, which is new behavior in TensorFlow 2.  The layer has dtype float32 because its dtype defaults to floatx.\n",
            "\n",
            "If you intended to run this layer in float32, you can safely ignore this warning. If in doubt, this warning is likely only an issue if you are porting a TensorFlow 1.X model to TensorFlow 2.\n",
            "\n",
            "To change all layers to have dtype float64 by default, call `tf.keras.backend.set_floatx('float64')`. To change just this layer, pass dtype='float64' to the layer constructor. If you are the author of this layer, you can disable autocasting by passing autocast=False to the base Layer constructor.\n",
            "\n",
            "24/24 [==============================] - 0s 13ms/step - loss: nan - mean_absolute_error: nan - val_loss: 65.4354 - val_mean_absolute_error: 65.4354\n",
            "Epoch 2/5\n",
            "24/24 [==============================] - 0s 9ms/step - loss: nan - mean_absolute_error: nan - val_loss: 63.4504 - val_mean_absolute_error: 63.4504\n",
            "Epoch 3/5\n",
            "24/24 [==============================] - 0s 10ms/step - loss: nan - mean_absolute_error: nan - val_loss: 63.4321 - val_mean_absolute_error: 63.4321\n",
            "Epoch 4/5\n",
            "24/24 [==============================] - 0s 10ms/step - loss: nan - mean_absolute_error: nan - val_loss: 63.6026 - val_mean_absolute_error: 63.6026\n",
            "Epoch 5/5\n",
            "24/24 [==============================] - 0s 8ms/step - loss: nan - mean_absolute_error: nan - val_loss: 65.2853 - val_mean_absolute_error: 65.2853\n"
          ],
          "name": "stdout"
        },
        {
          "output_type": "stream",
          "text": [
            "/usr/local/lib/python3.6/dist-packages/kerastuner/engine/metrics_tracking.py:92: RuntimeWarning: All-NaN axis encountered\n",
            "  return np.nanmin(values)\n"
          ],
          "name": "stderr"
        },
        {
          "output_type": "display_data",
          "data": {
            "text/html": [
              "<span style=\"color:#4527A0\"><h1 style=\"font-size:18px\">Trial complete</h1></span>"
            ],
            "text/plain": [
              "<IPython.core.display.HTML object>"
            ]
          },
          "metadata": {
            "tags": []
          }
        },
        {
          "output_type": "display_data",
          "data": {
            "text/html": [
              "<span style=\"color:#4527A0\"><h1 style=\"font-size:18px\">Trial summary</h1></span>"
            ],
            "text/plain": [
              "<IPython.core.display.HTML object>"
            ]
          },
          "metadata": {
            "tags": []
          }
        },
        {
          "output_type": "display_data",
          "data": {
            "text/html": [
              "<span style=\"color:cyan\"> |-Trial ID: cc3e44534116baf32a377baf0f9e041c</span>"
            ],
            "text/plain": [
              "<IPython.core.display.HTML object>"
            ]
          },
          "metadata": {
            "tags": []
          }
        },
        {
          "output_type": "display_data",
          "data": {
            "text/html": [
              "<span style=\"color:cyan\"> |-Score: 63.53496170043945</span>"
            ],
            "text/plain": [
              "<IPython.core.display.HTML object>"
            ]
          },
          "metadata": {
            "tags": []
          }
        },
        {
          "output_type": "display_data",
          "data": {
            "text/html": [
              "<span style=\"color:cyan\"> |-Best step: 0</span>"
            ],
            "text/plain": [
              "<IPython.core.display.HTML object>"
            ]
          },
          "metadata": {
            "tags": []
          }
        },
        {
          "output_type": "display_data",
          "data": {
            "text/html": [
              "<span style=\"color:#7E57C2\"><h2 style=\"font-size:16px\">Hyperparameters:</h2></span>"
            ],
            "text/plain": [
              "<IPython.core.display.HTML object>"
            ]
          },
          "metadata": {
            "tags": []
          }
        },
        {
          "output_type": "display_data",
          "data": {
            "text/html": [
              "<span style=\"color:cyan\"> |-learning_rate: 0.0001</span>"
            ],
            "text/plain": [
              "<IPython.core.display.HTML object>"
            ]
          },
          "metadata": {
            "tags": []
          }
        },
        {
          "output_type": "display_data",
          "data": {
            "text/html": [
              "<span style=\"color:blue\"> |-num_layers: 6</span>"
            ],
            "text/plain": [
              "<IPython.core.display.HTML object>"
            ]
          },
          "metadata": {
            "tags": []
          }
        },
        {
          "output_type": "display_data",
          "data": {
            "text/html": [
              "<span style=\"color:cyan\"> |-units_0: 256</span>"
            ],
            "text/plain": [
              "<IPython.core.display.HTML object>"
            ]
          },
          "metadata": {
            "tags": []
          }
        },
        {
          "output_type": "display_data",
          "data": {
            "text/html": [
              "<span style=\"color:blue\"> |-units_1: 96</span>"
            ],
            "text/plain": [
              "<IPython.core.display.HTML object>"
            ]
          },
          "metadata": {
            "tags": []
          }
        },
        {
          "output_type": "display_data",
          "data": {
            "text/html": [
              "<span style=\"color:cyan\"> |-units_2: 256</span>"
            ],
            "text/plain": [
              "<IPython.core.display.HTML object>"
            ]
          },
          "metadata": {
            "tags": []
          }
        },
        {
          "output_type": "display_data",
          "data": {
            "text/html": [
              "<span style=\"color:blue\"> |-units_3: 480</span>"
            ],
            "text/plain": [
              "<IPython.core.display.HTML object>"
            ]
          },
          "metadata": {
            "tags": []
          }
        },
        {
          "output_type": "display_data",
          "data": {
            "text/html": [
              "<span style=\"color:cyan\"> |-units_4: 288</span>"
            ],
            "text/plain": [
              "<IPython.core.display.HTML object>"
            ]
          },
          "metadata": {
            "tags": []
          }
        },
        {
          "output_type": "display_data",
          "data": {
            "text/html": [
              "<span style=\"color:blue\"> |-units_5: 32</span>"
            ],
            "text/plain": [
              "<IPython.core.display.HTML object>"
            ]
          },
          "metadata": {
            "tags": []
          }
        },
        {
          "output_type": "stream",
          "text": [
            "Epoch 1/5\n",
            "WARNING:tensorflow:Layer dense is casting an input tensor from dtype float64 to the layer's dtype of float32, which is new behavior in TensorFlow 2.  The layer has dtype float32 because its dtype defaults to floatx.\n",
            "\n",
            "If you intended to run this layer in float32, you can safely ignore this warning. If in doubt, this warning is likely only an issue if you are porting a TensorFlow 1.X model to TensorFlow 2.\n",
            "\n",
            "To change all layers to have dtype float64 by default, call `tf.keras.backend.set_floatx('float64')`. To change just this layer, pass dtype='float64' to the layer constructor. If you are the author of this layer, you can disable autocasting by passing autocast=False to the base Layer constructor.\n",
            "\n",
            "24/24 [==============================] - 0s 13ms/step - loss: nan - mean_absolute_error: nan - val_loss: 64.4304 - val_mean_absolute_error: 64.4304\n",
            "Epoch 2/5\n",
            "24/24 [==============================] - 0s 6ms/step - loss: nan - mean_absolute_error: nan - val_loss: 67.0409 - val_mean_absolute_error: 67.0409\n",
            "Epoch 3/5\n",
            "24/24 [==============================] - 0s 8ms/step - loss: nan - mean_absolute_error: nan - val_loss: 54.9670 - val_mean_absolute_error: 54.9670\n",
            "Epoch 4/5\n",
            "24/24 [==============================] - 0s 8ms/step - loss: nan - mean_absolute_error: nan - val_loss: 50.0006 - val_mean_absolute_error: 50.0006\n",
            "Epoch 5/5\n",
            "24/24 [==============================] - 0s 8ms/step - loss: nan - mean_absolute_error: nan - val_loss: 47.8537 - val_mean_absolute_error: 47.8537\n",
            "Epoch 1/5\n",
            "WARNING:tensorflow:Layer dense is casting an input tensor from dtype float64 to the layer's dtype of float32, which is new behavior in TensorFlow 2.  The layer has dtype float32 because its dtype defaults to floatx.\n",
            "\n",
            "If you intended to run this layer in float32, you can safely ignore this warning. If in doubt, this warning is likely only an issue if you are porting a TensorFlow 1.X model to TensorFlow 2.\n",
            "\n",
            "To change all layers to have dtype float64 by default, call `tf.keras.backend.set_floatx('float64')`. To change just this layer, pass dtype='float64' to the layer constructor. If you are the author of this layer, you can disable autocasting by passing autocast=False to the base Layer constructor.\n",
            "\n",
            "24/24 [==============================] - 0s 12ms/step - loss: nan - mean_absolute_error: nan - val_loss: 65.0512 - val_mean_absolute_error: 65.0512\n",
            "Epoch 2/5\n",
            "24/24 [==============================] - 0s 7ms/step - loss: nan - mean_absolute_error: nan - val_loss: 56.7882 - val_mean_absolute_error: 56.7882\n",
            "Epoch 3/5\n",
            "24/24 [==============================] - 0s 7ms/step - loss: nan - mean_absolute_error: nan - val_loss: 48.3145 - val_mean_absolute_error: 48.3145\n",
            "Epoch 4/5\n",
            "24/24 [==============================] - 0s 8ms/step - loss: nan - mean_absolute_error: nan - val_loss: 47.0363 - val_mean_absolute_error: 47.0363\n",
            "Epoch 5/5\n",
            "24/24 [==============================] - 0s 7ms/step - loss: nan - mean_absolute_error: nan - val_loss: 47.6619 - val_mean_absolute_error: 47.6619\n",
            "Epoch 1/5\n",
            "WARNING:tensorflow:Layer dense is casting an input tensor from dtype float64 to the layer's dtype of float32, which is new behavior in TensorFlow 2.  The layer has dtype float32 because its dtype defaults to floatx.\n",
            "\n",
            "If you intended to run this layer in float32, you can safely ignore this warning. If in doubt, this warning is likely only an issue if you are porting a TensorFlow 1.X model to TensorFlow 2.\n",
            "\n",
            "To change all layers to have dtype float64 by default, call `tf.keras.backend.set_floatx('float64')`. To change just this layer, pass dtype='float64' to the layer constructor. If you are the author of this layer, you can disable autocasting by passing autocast=False to the base Layer constructor.\n",
            "\n",
            "24/24 [==============================] - 0s 12ms/step - loss: nan - mean_absolute_error: nan - val_loss: 74.1891 - val_mean_absolute_error: 74.1891\n",
            "Epoch 2/5\n",
            "24/24 [==============================] - 0s 7ms/step - loss: nan - mean_absolute_error: nan - val_loss: 60.3817 - val_mean_absolute_error: 60.3817\n",
            "Epoch 3/5\n",
            "24/24 [==============================] - 0s 8ms/step - loss: nan - mean_absolute_error: nan - val_loss: 53.1576 - val_mean_absolute_error: 53.1576\n",
            "Epoch 4/5\n",
            "24/24 [==============================] - 0s 7ms/step - loss: nan - mean_absolute_error: nan - val_loss: 51.5743 - val_mean_absolute_error: 51.5743\n",
            "Epoch 5/5\n",
            "24/24 [==============================] - 0s 8ms/step - loss: nan - mean_absolute_error: nan - val_loss: 45.8960 - val_mean_absolute_error: 45.8960\n"
          ],
          "name": "stdout"
        },
        {
          "output_type": "stream",
          "text": [
            "/usr/local/lib/python3.6/dist-packages/kerastuner/engine/metrics_tracking.py:92: RuntimeWarning: All-NaN axis encountered\n",
            "  return np.nanmin(values)\n"
          ],
          "name": "stderr"
        },
        {
          "output_type": "display_data",
          "data": {
            "text/html": [
              "<span style=\"color:#4527A0\"><h1 style=\"font-size:18px\">Trial complete</h1></span>"
            ],
            "text/plain": [
              "<IPython.core.display.HTML object>"
            ]
          },
          "metadata": {
            "tags": []
          }
        },
        {
          "output_type": "display_data",
          "data": {
            "text/html": [
              "<span style=\"color:#4527A0\"><h1 style=\"font-size:18px\">Trial summary</h1></span>"
            ],
            "text/plain": [
              "<IPython.core.display.HTML object>"
            ]
          },
          "metadata": {
            "tags": []
          }
        },
        {
          "output_type": "display_data",
          "data": {
            "text/html": [
              "<span style=\"color:cyan\"> |-Trial ID: 0bf0600d9f528b8e06dd7482945c00a5</span>"
            ],
            "text/plain": [
              "<IPython.core.display.HTML object>"
            ]
          },
          "metadata": {
            "tags": []
          }
        },
        {
          "output_type": "display_data",
          "data": {
            "text/html": [
              "<span style=\"color:cyan\"> |-Score: 46.92868296305338</span>"
            ],
            "text/plain": [
              "<IPython.core.display.HTML object>"
            ]
          },
          "metadata": {
            "tags": []
          }
        },
        {
          "output_type": "display_data",
          "data": {
            "text/html": [
              "<span style=\"color:cyan\"> |-Best step: 0</span>"
            ],
            "text/plain": [
              "<IPython.core.display.HTML object>"
            ]
          },
          "metadata": {
            "tags": []
          }
        },
        {
          "output_type": "display_data",
          "data": {
            "text/html": [
              "<span style=\"color:#7E57C2\"><h2 style=\"font-size:16px\">Hyperparameters:</h2></span>"
            ],
            "text/plain": [
              "<IPython.core.display.HTML object>"
            ]
          },
          "metadata": {
            "tags": []
          }
        },
        {
          "output_type": "display_data",
          "data": {
            "text/html": [
              "<span style=\"color:cyan\"> |-learning_rate: 0.01</span>"
            ],
            "text/plain": [
              "<IPython.core.display.HTML object>"
            ]
          },
          "metadata": {
            "tags": []
          }
        },
        {
          "output_type": "display_data",
          "data": {
            "text/html": [
              "<span style=\"color:blue\"> |-num_layers: 6</span>"
            ],
            "text/plain": [
              "<IPython.core.display.HTML object>"
            ]
          },
          "metadata": {
            "tags": []
          }
        },
        {
          "output_type": "display_data",
          "data": {
            "text/html": [
              "<span style=\"color:cyan\"> |-units_0: 224</span>"
            ],
            "text/plain": [
              "<IPython.core.display.HTML object>"
            ]
          },
          "metadata": {
            "tags": []
          }
        },
        {
          "output_type": "display_data",
          "data": {
            "text/html": [
              "<span style=\"color:blue\"> |-units_1: 128</span>"
            ],
            "text/plain": [
              "<IPython.core.display.HTML object>"
            ]
          },
          "metadata": {
            "tags": []
          }
        },
        {
          "output_type": "display_data",
          "data": {
            "text/html": [
              "<span style=\"color:cyan\"> |-units_2: 256</span>"
            ],
            "text/plain": [
              "<IPython.core.display.HTML object>"
            ]
          },
          "metadata": {
            "tags": []
          }
        },
        {
          "output_type": "display_data",
          "data": {
            "text/html": [
              "<span style=\"color:blue\"> |-units_3: 64</span>"
            ],
            "text/plain": [
              "<IPython.core.display.HTML object>"
            ]
          },
          "metadata": {
            "tags": []
          }
        },
        {
          "output_type": "display_data",
          "data": {
            "text/html": [
              "<span style=\"color:cyan\"> |-units_4: 320</span>"
            ],
            "text/plain": [
              "<IPython.core.display.HTML object>"
            ]
          },
          "metadata": {
            "tags": []
          }
        },
        {
          "output_type": "display_data",
          "data": {
            "text/html": [
              "<span style=\"color:blue\"> |-units_5: 480</span>"
            ],
            "text/plain": [
              "<IPython.core.display.HTML object>"
            ]
          },
          "metadata": {
            "tags": []
          }
        },
        {
          "output_type": "stream",
          "text": [
            "Epoch 1/5\n",
            "WARNING:tensorflow:Layer dense is casting an input tensor from dtype float64 to the layer's dtype of float32, which is new behavior in TensorFlow 2.  The layer has dtype float32 because its dtype defaults to floatx.\n",
            "\n",
            "If you intended to run this layer in float32, you can safely ignore this warning. If in doubt, this warning is likely only an issue if you are porting a TensorFlow 1.X model to TensorFlow 2.\n",
            "\n",
            "To change all layers to have dtype float64 by default, call `tf.keras.backend.set_floatx('float64')`. To change just this layer, pass dtype='float64' to the layer constructor. If you are the author of this layer, you can disable autocasting by passing autocast=False to the base Layer constructor.\n",
            "\n",
            "24/24 [==============================] - 0s 10ms/step - loss: nan - mean_absolute_error: nan - val_loss: 77.8096 - val_mean_absolute_error: 77.8096\n",
            "Epoch 2/5\n",
            "24/24 [==============================] - 0s 6ms/step - loss: nan - mean_absolute_error: nan - val_loss: 62.8930 - val_mean_absolute_error: 62.8930\n",
            "Epoch 3/5\n",
            "24/24 [==============================] - 0s 7ms/step - loss: nan - mean_absolute_error: nan - val_loss: 61.0466 - val_mean_absolute_error: 61.0466\n",
            "Epoch 4/5\n",
            "24/24 [==============================] - 0s 6ms/step - loss: nan - mean_absolute_error: nan - val_loss: 58.4887 - val_mean_absolute_error: 58.4887\n",
            "Epoch 5/5\n",
            "24/24 [==============================] - 0s 6ms/step - loss: nan - mean_absolute_error: nan - val_loss: 58.4446 - val_mean_absolute_error: 58.4446\n",
            "Epoch 1/5\n",
            "WARNING:tensorflow:Layer dense is casting an input tensor from dtype float64 to the layer's dtype of float32, which is new behavior in TensorFlow 2.  The layer has dtype float32 because its dtype defaults to floatx.\n",
            "\n",
            "If you intended to run this layer in float32, you can safely ignore this warning. If in doubt, this warning is likely only an issue if you are porting a TensorFlow 1.X model to TensorFlow 2.\n",
            "\n",
            "To change all layers to have dtype float64 by default, call `tf.keras.backend.set_floatx('float64')`. To change just this layer, pass dtype='float64' to the layer constructor. If you are the author of this layer, you can disable autocasting by passing autocast=False to the base Layer constructor.\n",
            "\n",
            "24/24 [==============================] - 0s 10ms/step - loss: nan - mean_absolute_error: nan - val_loss: 63.1642 - val_mean_absolute_error: 63.1642\n",
            "Epoch 2/5\n",
            "24/24 [==============================] - 0s 5ms/step - loss: nan - mean_absolute_error: nan - val_loss: 69.0316 - val_mean_absolute_error: 69.0316\n",
            "Epoch 3/5\n",
            "24/24 [==============================] - 0s 5ms/step - loss: nan - mean_absolute_error: nan - val_loss: 67.4391 - val_mean_absolute_error: 67.4391\n",
            "Epoch 4/5\n",
            "24/24 [==============================] - 0s 5ms/step - loss: nan - mean_absolute_error: nan - val_loss: 59.5371 - val_mean_absolute_error: 59.5371\n",
            "Epoch 5/5\n",
            "24/24 [==============================] - 0s 6ms/step - loss: nan - mean_absolute_error: nan - val_loss: 57.2155 - val_mean_absolute_error: 57.2155\n",
            "Epoch 1/5\n",
            "WARNING:tensorflow:Layer dense is casting an input tensor from dtype float64 to the layer's dtype of float32, which is new behavior in TensorFlow 2.  The layer has dtype float32 because its dtype defaults to floatx.\n",
            "\n",
            "If you intended to run this layer in float32, you can safely ignore this warning. If in doubt, this warning is likely only an issue if you are porting a TensorFlow 1.X model to TensorFlow 2.\n",
            "\n",
            "To change all layers to have dtype float64 by default, call `tf.keras.backend.set_floatx('float64')`. To change just this layer, pass dtype='float64' to the layer constructor. If you are the author of this layer, you can disable autocasting by passing autocast=False to the base Layer constructor.\n",
            "\n",
            "24/24 [==============================] - 0s 10ms/step - loss: nan - mean_absolute_error: nan - val_loss: 63.4412 - val_mean_absolute_error: 63.4412\n",
            "Epoch 2/5\n",
            "24/24 [==============================] - 0s 5ms/step - loss: nan - mean_absolute_error: nan - val_loss: 66.6834 - val_mean_absolute_error: 66.6834\n",
            "Epoch 3/5\n",
            "24/24 [==============================] - 0s 5ms/step - loss: nan - mean_absolute_error: nan - val_loss: 61.8837 - val_mean_absolute_error: 61.8837\n",
            "Epoch 4/5\n",
            "24/24 [==============================] - 0s 6ms/step - loss: nan - mean_absolute_error: nan - val_loss: 60.6848 - val_mean_absolute_error: 60.6848\n",
            "Epoch 5/5\n",
            "24/24 [==============================] - 0s 5ms/step - loss: nan - mean_absolute_error: nan - val_loss: 63.4002 - val_mean_absolute_error: 63.4002\n"
          ],
          "name": "stdout"
        },
        {
          "output_type": "stream",
          "text": [
            "/usr/local/lib/python3.6/dist-packages/kerastuner/engine/metrics_tracking.py:92: RuntimeWarning: All-NaN axis encountered\n",
            "  return np.nanmin(values)\n"
          ],
          "name": "stderr"
        },
        {
          "output_type": "display_data",
          "data": {
            "text/html": [
              "<span style=\"color:#4527A0\"><h1 style=\"font-size:18px\">Trial complete</h1></span>"
            ],
            "text/plain": [
              "<IPython.core.display.HTML object>"
            ]
          },
          "metadata": {
            "tags": []
          }
        },
        {
          "output_type": "display_data",
          "data": {
            "text/html": [
              "<span style=\"color:#4527A0\"><h1 style=\"font-size:18px\">Trial summary</h1></span>"
            ],
            "text/plain": [
              "<IPython.core.display.HTML object>"
            ]
          },
          "metadata": {
            "tags": []
          }
        },
        {
          "output_type": "display_data",
          "data": {
            "text/html": [
              "<span style=\"color:cyan\"> |-Trial ID: 087a20c1c9e98722b4e46eceef778e7d</span>"
            ],
            "text/plain": [
              "<IPython.core.display.HTML object>"
            ]
          },
          "metadata": {
            "tags": []
          }
        },
        {
          "output_type": "display_data",
          "data": {
            "text/html": [
              "<span style=\"color:cyan\"> |-Score: 58.78162638346354</span>"
            ],
            "text/plain": [
              "<IPython.core.display.HTML object>"
            ]
          },
          "metadata": {
            "tags": []
          }
        },
        {
          "output_type": "display_data",
          "data": {
            "text/html": [
              "<span style=\"color:cyan\"> |-Best step: 0</span>"
            ],
            "text/plain": [
              "<IPython.core.display.HTML object>"
            ]
          },
          "metadata": {
            "tags": []
          }
        },
        {
          "output_type": "display_data",
          "data": {
            "text/html": [
              "<span style=\"color:#7E57C2\"><h2 style=\"font-size:16px\">Hyperparameters:</h2></span>"
            ],
            "text/plain": [
              "<IPython.core.display.HTML object>"
            ]
          },
          "metadata": {
            "tags": []
          }
        },
        {
          "output_type": "display_data",
          "data": {
            "text/html": [
              "<span style=\"color:cyan\"> |-learning_rate: 0.001</span>"
            ],
            "text/plain": [
              "<IPython.core.display.HTML object>"
            ]
          },
          "metadata": {
            "tags": []
          }
        },
        {
          "output_type": "display_data",
          "data": {
            "text/html": [
              "<span style=\"color:blue\"> |-num_layers: 3</span>"
            ],
            "text/plain": [
              "<IPython.core.display.HTML object>"
            ]
          },
          "metadata": {
            "tags": []
          }
        },
        {
          "output_type": "display_data",
          "data": {
            "text/html": [
              "<span style=\"color:cyan\"> |-units_0: 224</span>"
            ],
            "text/plain": [
              "<IPython.core.display.HTML object>"
            ]
          },
          "metadata": {
            "tags": []
          }
        },
        {
          "output_type": "display_data",
          "data": {
            "text/html": [
              "<span style=\"color:blue\"> |-units_1: 480</span>"
            ],
            "text/plain": [
              "<IPython.core.display.HTML object>"
            ]
          },
          "metadata": {
            "tags": []
          }
        },
        {
          "output_type": "display_data",
          "data": {
            "text/html": [
              "<span style=\"color:cyan\"> |-units_2: 64</span>"
            ],
            "text/plain": [
              "<IPython.core.display.HTML object>"
            ]
          },
          "metadata": {
            "tags": []
          }
        },
        {
          "output_type": "display_data",
          "data": {
            "text/html": [
              "<span style=\"color:blue\"> |-units_3: 96</span>"
            ],
            "text/plain": [
              "<IPython.core.display.HTML object>"
            ]
          },
          "metadata": {
            "tags": []
          }
        },
        {
          "output_type": "display_data",
          "data": {
            "text/html": [
              "<span style=\"color:cyan\"> |-units_4: 448</span>"
            ],
            "text/plain": [
              "<IPython.core.display.HTML object>"
            ]
          },
          "metadata": {
            "tags": []
          }
        },
        {
          "output_type": "display_data",
          "data": {
            "text/html": [
              "<span style=\"color:blue\"> |-units_5: 96</span>"
            ],
            "text/plain": [
              "<IPython.core.display.HTML object>"
            ]
          },
          "metadata": {
            "tags": []
          }
        },
        {
          "output_type": "stream",
          "text": [
            "Epoch 1/5\n",
            "WARNING:tensorflow:Layer dense is casting an input tensor from dtype float64 to the layer's dtype of float32, which is new behavior in TensorFlow 2.  The layer has dtype float32 because its dtype defaults to floatx.\n",
            "\n",
            "If you intended to run this layer in float32, you can safely ignore this warning. If in doubt, this warning is likely only an issue if you are porting a TensorFlow 1.X model to TensorFlow 2.\n",
            "\n",
            "To change all layers to have dtype float64 by default, call `tf.keras.backend.set_floatx('float64')`. To change just this layer, pass dtype='float64' to the layer constructor. If you are the author of this layer, you can disable autocasting by passing autocast=False to the base Layer constructor.\n",
            "\n",
            "24/24 [==============================] - 0s 17ms/step - loss: nan - mean_absolute_error: nan - val_loss: 66.6209 - val_mean_absolute_error: 66.6209\n",
            "Epoch 2/5\n",
            "24/24 [==============================] - 0s 11ms/step - loss: nan - mean_absolute_error: nan - val_loss: 63.5133 - val_mean_absolute_error: 63.5133\n",
            "Epoch 3/5\n",
            "24/24 [==============================] - 0s 11ms/step - loss: nan - mean_absolute_error: nan - val_loss: 63.8099 - val_mean_absolute_error: 63.8099\n",
            "Epoch 4/5\n",
            "24/24 [==============================] - 0s 11ms/step - loss: nan - mean_absolute_error: nan - val_loss: 63.3871 - val_mean_absolute_error: 63.3871\n",
            "Epoch 5/5\n",
            "24/24 [==============================] - 0s 10ms/step - loss: nan - mean_absolute_error: nan - val_loss: 64.3214 - val_mean_absolute_error: 64.3214\n",
            "Epoch 1/5\n",
            "WARNING:tensorflow:Layer dense is casting an input tensor from dtype float64 to the layer's dtype of float32, which is new behavior in TensorFlow 2.  The layer has dtype float32 because its dtype defaults to floatx.\n",
            "\n",
            "If you intended to run this layer in float32, you can safely ignore this warning. If in doubt, this warning is likely only an issue if you are porting a TensorFlow 1.X model to TensorFlow 2.\n",
            "\n",
            "To change all layers to have dtype float64 by default, call `tf.keras.backend.set_floatx('float64')`. To change just this layer, pass dtype='float64' to the layer constructor. If you are the author of this layer, you can disable autocasting by passing autocast=False to the base Layer constructor.\n",
            "\n",
            "24/24 [==============================] - 0s 15ms/step - loss: nan - mean_absolute_error: nan - val_loss: 63.8075 - val_mean_absolute_error: 63.8075\n",
            "Epoch 2/5\n",
            "24/24 [==============================] - 0s 10ms/step - loss: nan - mean_absolute_error: nan - val_loss: 64.0106 - val_mean_absolute_error: 64.0106\n",
            "Epoch 3/5\n",
            "24/24 [==============================] - 0s 10ms/step - loss: nan - mean_absolute_error: nan - val_loss: 65.3585 - val_mean_absolute_error: 65.3585\n",
            "Epoch 4/5\n",
            "24/24 [==============================] - 0s 10ms/step - loss: nan - mean_absolute_error: nan - val_loss: 64.7144 - val_mean_absolute_error: 64.7144\n",
            "Epoch 5/5\n",
            "24/24 [==============================] - 0s 9ms/step - loss: nan - mean_absolute_error: nan - val_loss: 64.1080 - val_mean_absolute_error: 64.1080\n",
            "Epoch 1/5\n",
            "WARNING:tensorflow:Layer dense is casting an input tensor from dtype float64 to the layer's dtype of float32, which is new behavior in TensorFlow 2.  The layer has dtype float32 because its dtype defaults to floatx.\n",
            "\n",
            "If you intended to run this layer in float32, you can safely ignore this warning. If in doubt, this warning is likely only an issue if you are porting a TensorFlow 1.X model to TensorFlow 2.\n",
            "\n",
            "To change all layers to have dtype float64 by default, call `tf.keras.backend.set_floatx('float64')`. To change just this layer, pass dtype='float64' to the layer constructor. If you are the author of this layer, you can disable autocasting by passing autocast=False to the base Layer constructor.\n",
            "\n",
            "24/24 [==============================] - 0s 15ms/step - loss: nan - mean_absolute_error: nan - val_loss: 64.3818 - val_mean_absolute_error: 64.3818\n",
            "Epoch 2/5\n",
            "24/24 [==============================] - 0s 10ms/step - loss: nan - mean_absolute_error: nan - val_loss: 64.1320 - val_mean_absolute_error: 64.1320\n",
            "Epoch 3/5\n",
            "24/24 [==============================] - 0s 9ms/step - loss: nan - mean_absolute_error: nan - val_loss: 63.7507 - val_mean_absolute_error: 63.7507\n",
            "Epoch 4/5\n",
            "24/24 [==============================] - 0s 9ms/step - loss: nan - mean_absolute_error: nan - val_loss: 64.3626 - val_mean_absolute_error: 64.3626\n",
            "Epoch 5/5\n",
            "24/24 [==============================] - 0s 10ms/step - loss: nan - mean_absolute_error: nan - val_loss: 63.5485 - val_mean_absolute_error: 63.5485\n"
          ],
          "name": "stdout"
        },
        {
          "output_type": "stream",
          "text": [
            "/usr/local/lib/python3.6/dist-packages/kerastuner/engine/metrics_tracking.py:92: RuntimeWarning: All-NaN axis encountered\n",
            "  return np.nanmin(values)\n"
          ],
          "name": "stderr"
        },
        {
          "output_type": "display_data",
          "data": {
            "text/html": [
              "<span style=\"color:#4527A0\"><h1 style=\"font-size:18px\">Trial complete</h1></span>"
            ],
            "text/plain": [
              "<IPython.core.display.HTML object>"
            ]
          },
          "metadata": {
            "tags": []
          }
        },
        {
          "output_type": "display_data",
          "data": {
            "text/html": [
              "<span style=\"color:#4527A0\"><h1 style=\"font-size:18px\">Trial summary</h1></span>"
            ],
            "text/plain": [
              "<IPython.core.display.HTML object>"
            ]
          },
          "metadata": {
            "tags": []
          }
        },
        {
          "output_type": "display_data",
          "data": {
            "text/html": [
              "<span style=\"color:cyan\"> |-Trial ID: 3b50e87d38df3a5cd02895325eea6bf6</span>"
            ],
            "text/plain": [
              "<IPython.core.display.HTML object>"
            ]
          },
          "metadata": {
            "tags": []
          }
        },
        {
          "output_type": "display_data",
          "data": {
            "text/html": [
              "<span style=\"color:cyan\"> |-Score: 63.581015268961586</span>"
            ],
            "text/plain": [
              "<IPython.core.display.HTML object>"
            ]
          },
          "metadata": {
            "tags": []
          }
        },
        {
          "output_type": "display_data",
          "data": {
            "text/html": [
              "<span style=\"color:cyan\"> |-Best step: 0</span>"
            ],
            "text/plain": [
              "<IPython.core.display.HTML object>"
            ]
          },
          "metadata": {
            "tags": []
          }
        },
        {
          "output_type": "display_data",
          "data": {
            "text/html": [
              "<span style=\"color:#7E57C2\"><h2 style=\"font-size:16px\">Hyperparameters:</h2></span>"
            ],
            "text/plain": [
              "<IPython.core.display.HTML object>"
            ]
          },
          "metadata": {
            "tags": []
          }
        },
        {
          "output_type": "display_data",
          "data": {
            "text/html": [
              "<span style=\"color:cyan\"> |-learning_rate: 0.0001</span>"
            ],
            "text/plain": [
              "<IPython.core.display.HTML object>"
            ]
          },
          "metadata": {
            "tags": []
          }
        },
        {
          "output_type": "display_data",
          "data": {
            "text/html": [
              "<span style=\"color:blue\"> |-num_layers: 8</span>"
            ],
            "text/plain": [
              "<IPython.core.display.HTML object>"
            ]
          },
          "metadata": {
            "tags": []
          }
        },
        {
          "output_type": "display_data",
          "data": {
            "text/html": [
              "<span style=\"color:cyan\"> |-units_0: 384</span>"
            ],
            "text/plain": [
              "<IPython.core.display.HTML object>"
            ]
          },
          "metadata": {
            "tags": []
          }
        },
        {
          "output_type": "display_data",
          "data": {
            "text/html": [
              "<span style=\"color:blue\"> |-units_1: 384</span>"
            ],
            "text/plain": [
              "<IPython.core.display.HTML object>"
            ]
          },
          "metadata": {
            "tags": []
          }
        },
        {
          "output_type": "display_data",
          "data": {
            "text/html": [
              "<span style=\"color:cyan\"> |-units_2: 256</span>"
            ],
            "text/plain": [
              "<IPython.core.display.HTML object>"
            ]
          },
          "metadata": {
            "tags": []
          }
        },
        {
          "output_type": "display_data",
          "data": {
            "text/html": [
              "<span style=\"color:blue\"> |-units_3: 416</span>"
            ],
            "text/plain": [
              "<IPython.core.display.HTML object>"
            ]
          },
          "metadata": {
            "tags": []
          }
        },
        {
          "output_type": "display_data",
          "data": {
            "text/html": [
              "<span style=\"color:cyan\"> |-units_4: 96</span>"
            ],
            "text/plain": [
              "<IPython.core.display.HTML object>"
            ]
          },
          "metadata": {
            "tags": []
          }
        },
        {
          "output_type": "display_data",
          "data": {
            "text/html": [
              "<span style=\"color:blue\"> |-units_5: 320</span>"
            ],
            "text/plain": [
              "<IPython.core.display.HTML object>"
            ]
          },
          "metadata": {
            "tags": []
          }
        },
        {
          "output_type": "display_data",
          "data": {
            "text/html": [
              "<span style=\"color:cyan\"> |-units_6: 32</span>"
            ],
            "text/plain": [
              "<IPython.core.display.HTML object>"
            ]
          },
          "metadata": {
            "tags": []
          }
        },
        {
          "output_type": "display_data",
          "data": {
            "text/html": [
              "<span style=\"color:blue\"> |-units_7: 32</span>"
            ],
            "text/plain": [
              "<IPython.core.display.HTML object>"
            ]
          },
          "metadata": {
            "tags": []
          }
        },
        {
          "output_type": "stream",
          "text": [
            "INFO:tensorflow:Oracle triggered exit\n"
          ],
          "name": "stdout"
        }
      ]
    },
    {
      "cell_type": "code",
      "metadata": {
        "id": "n-em-0hEFpcg",
        "outputId": "c8dd2019-5717-437a-db5e-b3320f2e0aab",
        "colab": {
          "base_uri": "https://localhost:8080/",
          "height": 1000
        }
      },
      "source": [
        "tuner.results_summary()"
      ],
      "execution_count": null,
      "outputs": [
        {
          "output_type": "display_data",
          "data": {
            "text/html": [
              "<span style=\"color:#4527A0\"><h1 style=\"font-size:18px\">Results summary</h1></span>"
            ],
            "text/plain": [
              "<IPython.core.display.HTML object>"
            ]
          },
          "metadata": {
            "tags": []
          }
        },
        {
          "output_type": "display_data",
          "data": {
            "text/html": [
              "<span style=\"color:cyan\"> |-Results in project/Air Quality Index</span>"
            ],
            "text/plain": [
              "<IPython.core.display.HTML object>"
            ]
          },
          "metadata": {
            "tags": []
          }
        },
        {
          "output_type": "display_data",
          "data": {
            "text/html": [
              "<span style=\"color:cyan\"> |-Showing 10 best trials</span>"
            ],
            "text/plain": [
              "<IPython.core.display.HTML object>"
            ]
          },
          "metadata": {
            "tags": []
          }
        },
        {
          "output_type": "display_data",
          "data": {
            "text/html": [
              "<span style=\"color:cyan\"> |-Objective(name='val_mean_absolute_error', direction='min')</span>"
            ],
            "text/plain": [
              "<IPython.core.display.HTML object>"
            ]
          },
          "metadata": {
            "tags": []
          }
        },
        {
          "output_type": "display_data",
          "data": {
            "text/html": [
              "<span style=\"color:#4527A0\"><h1 style=\"font-size:18px\">Trial summary</h1></span>"
            ],
            "text/plain": [
              "<IPython.core.display.HTML object>"
            ]
          },
          "metadata": {
            "tags": []
          }
        },
        {
          "output_type": "display_data",
          "data": {
            "text/html": [
              "<span style=\"color:cyan\"> |-Trial ID: 0bf0600d9f528b8e06dd7482945c00a5</span>"
            ],
            "text/plain": [
              "<IPython.core.display.HTML object>"
            ]
          },
          "metadata": {
            "tags": []
          }
        },
        {
          "output_type": "display_data",
          "data": {
            "text/html": [
              "<span style=\"color:cyan\"> |-Score: 46.92868296305338</span>"
            ],
            "text/plain": [
              "<IPython.core.display.HTML object>"
            ]
          },
          "metadata": {
            "tags": []
          }
        },
        {
          "output_type": "display_data",
          "data": {
            "text/html": [
              "<span style=\"color:cyan\"> |-Best step: 0</span>"
            ],
            "text/plain": [
              "<IPython.core.display.HTML object>"
            ]
          },
          "metadata": {
            "tags": []
          }
        },
        {
          "output_type": "display_data",
          "data": {
            "text/html": [
              "<span style=\"color:#7E57C2\"><h2 style=\"font-size:16px\">Hyperparameters:</h2></span>"
            ],
            "text/plain": [
              "<IPython.core.display.HTML object>"
            ]
          },
          "metadata": {
            "tags": []
          }
        },
        {
          "output_type": "display_data",
          "data": {
            "text/html": [
              "<span style=\"color:cyan\"> |-learning_rate: 0.01</span>"
            ],
            "text/plain": [
              "<IPython.core.display.HTML object>"
            ]
          },
          "metadata": {
            "tags": []
          }
        },
        {
          "output_type": "display_data",
          "data": {
            "text/html": [
              "<span style=\"color:blue\"> |-num_layers: 6</span>"
            ],
            "text/plain": [
              "<IPython.core.display.HTML object>"
            ]
          },
          "metadata": {
            "tags": []
          }
        },
        {
          "output_type": "display_data",
          "data": {
            "text/html": [
              "<span style=\"color:cyan\"> |-units_0: 224</span>"
            ],
            "text/plain": [
              "<IPython.core.display.HTML object>"
            ]
          },
          "metadata": {
            "tags": []
          }
        },
        {
          "output_type": "display_data",
          "data": {
            "text/html": [
              "<span style=\"color:blue\"> |-units_1: 128</span>"
            ],
            "text/plain": [
              "<IPython.core.display.HTML object>"
            ]
          },
          "metadata": {
            "tags": []
          }
        },
        {
          "output_type": "display_data",
          "data": {
            "text/html": [
              "<span style=\"color:cyan\"> |-units_2: 256</span>"
            ],
            "text/plain": [
              "<IPython.core.display.HTML object>"
            ]
          },
          "metadata": {
            "tags": []
          }
        },
        {
          "output_type": "display_data",
          "data": {
            "text/html": [
              "<span style=\"color:blue\"> |-units_3: 64</span>"
            ],
            "text/plain": [
              "<IPython.core.display.HTML object>"
            ]
          },
          "metadata": {
            "tags": []
          }
        },
        {
          "output_type": "display_data",
          "data": {
            "text/html": [
              "<span style=\"color:cyan\"> |-units_4: 320</span>"
            ],
            "text/plain": [
              "<IPython.core.display.HTML object>"
            ]
          },
          "metadata": {
            "tags": []
          }
        },
        {
          "output_type": "display_data",
          "data": {
            "text/html": [
              "<span style=\"color:blue\"> |-units_5: 480</span>"
            ],
            "text/plain": [
              "<IPython.core.display.HTML object>"
            ]
          },
          "metadata": {
            "tags": []
          }
        },
        {
          "output_type": "display_data",
          "data": {
            "text/html": [
              "<span style=\"color:#4527A0\"><h1 style=\"font-size:18px\">Trial summary</h1></span>"
            ],
            "text/plain": [
              "<IPython.core.display.HTML object>"
            ]
          },
          "metadata": {
            "tags": []
          }
        },
        {
          "output_type": "display_data",
          "data": {
            "text/html": [
              "<span style=\"color:cyan\"> |-Trial ID: 087a20c1c9e98722b4e46eceef778e7d</span>"
            ],
            "text/plain": [
              "<IPython.core.display.HTML object>"
            ]
          },
          "metadata": {
            "tags": []
          }
        },
        {
          "output_type": "display_data",
          "data": {
            "text/html": [
              "<span style=\"color:cyan\"> |-Score: 58.78162638346354</span>"
            ],
            "text/plain": [
              "<IPython.core.display.HTML object>"
            ]
          },
          "metadata": {
            "tags": []
          }
        },
        {
          "output_type": "display_data",
          "data": {
            "text/html": [
              "<span style=\"color:cyan\"> |-Best step: 0</span>"
            ],
            "text/plain": [
              "<IPython.core.display.HTML object>"
            ]
          },
          "metadata": {
            "tags": []
          }
        },
        {
          "output_type": "display_data",
          "data": {
            "text/html": [
              "<span style=\"color:#7E57C2\"><h2 style=\"font-size:16px\">Hyperparameters:</h2></span>"
            ],
            "text/plain": [
              "<IPython.core.display.HTML object>"
            ]
          },
          "metadata": {
            "tags": []
          }
        },
        {
          "output_type": "display_data",
          "data": {
            "text/html": [
              "<span style=\"color:cyan\"> |-learning_rate: 0.001</span>"
            ],
            "text/plain": [
              "<IPython.core.display.HTML object>"
            ]
          },
          "metadata": {
            "tags": []
          }
        },
        {
          "output_type": "display_data",
          "data": {
            "text/html": [
              "<span style=\"color:blue\"> |-num_layers: 3</span>"
            ],
            "text/plain": [
              "<IPython.core.display.HTML object>"
            ]
          },
          "metadata": {
            "tags": []
          }
        },
        {
          "output_type": "display_data",
          "data": {
            "text/html": [
              "<span style=\"color:cyan\"> |-units_0: 224</span>"
            ],
            "text/plain": [
              "<IPython.core.display.HTML object>"
            ]
          },
          "metadata": {
            "tags": []
          }
        },
        {
          "output_type": "display_data",
          "data": {
            "text/html": [
              "<span style=\"color:blue\"> |-units_1: 480</span>"
            ],
            "text/plain": [
              "<IPython.core.display.HTML object>"
            ]
          },
          "metadata": {
            "tags": []
          }
        },
        {
          "output_type": "display_data",
          "data": {
            "text/html": [
              "<span style=\"color:cyan\"> |-units_2: 64</span>"
            ],
            "text/plain": [
              "<IPython.core.display.HTML object>"
            ]
          },
          "metadata": {
            "tags": []
          }
        },
        {
          "output_type": "display_data",
          "data": {
            "text/html": [
              "<span style=\"color:blue\"> |-units_3: 96</span>"
            ],
            "text/plain": [
              "<IPython.core.display.HTML object>"
            ]
          },
          "metadata": {
            "tags": []
          }
        },
        {
          "output_type": "display_data",
          "data": {
            "text/html": [
              "<span style=\"color:cyan\"> |-units_4: 448</span>"
            ],
            "text/plain": [
              "<IPython.core.display.HTML object>"
            ]
          },
          "metadata": {
            "tags": []
          }
        },
        {
          "output_type": "display_data",
          "data": {
            "text/html": [
              "<span style=\"color:blue\"> |-units_5: 96</span>"
            ],
            "text/plain": [
              "<IPython.core.display.HTML object>"
            ]
          },
          "metadata": {
            "tags": []
          }
        },
        {
          "output_type": "display_data",
          "data": {
            "text/html": [
              "<span style=\"color:#4527A0\"><h1 style=\"font-size:18px\">Trial summary</h1></span>"
            ],
            "text/plain": [
              "<IPython.core.display.HTML object>"
            ]
          },
          "metadata": {
            "tags": []
          }
        },
        {
          "output_type": "display_data",
          "data": {
            "text/html": [
              "<span style=\"color:cyan\"> |-Trial ID: cc3e44534116baf32a377baf0f9e041c</span>"
            ],
            "text/plain": [
              "<IPython.core.display.HTML object>"
            ]
          },
          "metadata": {
            "tags": []
          }
        },
        {
          "output_type": "display_data",
          "data": {
            "text/html": [
              "<span style=\"color:cyan\"> |-Score: 63.53496170043945</span>"
            ],
            "text/plain": [
              "<IPython.core.display.HTML object>"
            ]
          },
          "metadata": {
            "tags": []
          }
        },
        {
          "output_type": "display_data",
          "data": {
            "text/html": [
              "<span style=\"color:cyan\"> |-Best step: 0</span>"
            ],
            "text/plain": [
              "<IPython.core.display.HTML object>"
            ]
          },
          "metadata": {
            "tags": []
          }
        },
        {
          "output_type": "display_data",
          "data": {
            "text/html": [
              "<span style=\"color:#7E57C2\"><h2 style=\"font-size:16px\">Hyperparameters:</h2></span>"
            ],
            "text/plain": [
              "<IPython.core.display.HTML object>"
            ]
          },
          "metadata": {
            "tags": []
          }
        },
        {
          "output_type": "display_data",
          "data": {
            "text/html": [
              "<span style=\"color:cyan\"> |-learning_rate: 0.0001</span>"
            ],
            "text/plain": [
              "<IPython.core.display.HTML object>"
            ]
          },
          "metadata": {
            "tags": []
          }
        },
        {
          "output_type": "display_data",
          "data": {
            "text/html": [
              "<span style=\"color:blue\"> |-num_layers: 6</span>"
            ],
            "text/plain": [
              "<IPython.core.display.HTML object>"
            ]
          },
          "metadata": {
            "tags": []
          }
        },
        {
          "output_type": "display_data",
          "data": {
            "text/html": [
              "<span style=\"color:cyan\"> |-units_0: 256</span>"
            ],
            "text/plain": [
              "<IPython.core.display.HTML object>"
            ]
          },
          "metadata": {
            "tags": []
          }
        },
        {
          "output_type": "display_data",
          "data": {
            "text/html": [
              "<span style=\"color:blue\"> |-units_1: 96</span>"
            ],
            "text/plain": [
              "<IPython.core.display.HTML object>"
            ]
          },
          "metadata": {
            "tags": []
          }
        },
        {
          "output_type": "display_data",
          "data": {
            "text/html": [
              "<span style=\"color:cyan\"> |-units_2: 256</span>"
            ],
            "text/plain": [
              "<IPython.core.display.HTML object>"
            ]
          },
          "metadata": {
            "tags": []
          }
        },
        {
          "output_type": "display_data",
          "data": {
            "text/html": [
              "<span style=\"color:blue\"> |-units_3: 480</span>"
            ],
            "text/plain": [
              "<IPython.core.display.HTML object>"
            ]
          },
          "metadata": {
            "tags": []
          }
        },
        {
          "output_type": "display_data",
          "data": {
            "text/html": [
              "<span style=\"color:cyan\"> |-units_4: 288</span>"
            ],
            "text/plain": [
              "<IPython.core.display.HTML object>"
            ]
          },
          "metadata": {
            "tags": []
          }
        },
        {
          "output_type": "display_data",
          "data": {
            "text/html": [
              "<span style=\"color:blue\"> |-units_5: 32</span>"
            ],
            "text/plain": [
              "<IPython.core.display.HTML object>"
            ]
          },
          "metadata": {
            "tags": []
          }
        },
        {
          "output_type": "display_data",
          "data": {
            "text/html": [
              "<span style=\"color:#4527A0\"><h1 style=\"font-size:18px\">Trial summary</h1></span>"
            ],
            "text/plain": [
              "<IPython.core.display.HTML object>"
            ]
          },
          "metadata": {
            "tags": []
          }
        },
        {
          "output_type": "display_data",
          "data": {
            "text/html": [
              "<span style=\"color:cyan\"> |-Trial ID: b39b32e4cceeb2f04974b7b8dfa97e97</span>"
            ],
            "text/plain": [
              "<IPython.core.display.HTML object>"
            ]
          },
          "metadata": {
            "tags": []
          }
        },
        {
          "output_type": "display_data",
          "data": {
            "text/html": [
              "<span style=\"color:cyan\"> |-Score: 63.53640111287435</span>"
            ],
            "text/plain": [
              "<IPython.core.display.HTML object>"
            ]
          },
          "metadata": {
            "tags": []
          }
        },
        {
          "output_type": "display_data",
          "data": {
            "text/html": [
              "<span style=\"color:cyan\"> |-Best step: 0</span>"
            ],
            "text/plain": [
              "<IPython.core.display.HTML object>"
            ]
          },
          "metadata": {
            "tags": []
          }
        },
        {
          "output_type": "display_data",
          "data": {
            "text/html": [
              "<span style=\"color:#7E57C2\"><h2 style=\"font-size:16px\">Hyperparameters:</h2></span>"
            ],
            "text/plain": [
              "<IPython.core.display.HTML object>"
            ]
          },
          "metadata": {
            "tags": []
          }
        },
        {
          "output_type": "display_data",
          "data": {
            "text/html": [
              "<span style=\"color:cyan\"> |-learning_rate: 0.0001</span>"
            ],
            "text/plain": [
              "<IPython.core.display.HTML object>"
            ]
          },
          "metadata": {
            "tags": []
          }
        },
        {
          "output_type": "display_data",
          "data": {
            "text/html": [
              "<span style=\"color:blue\"> |-num_layers: 5</span>"
            ],
            "text/plain": [
              "<IPython.core.display.HTML object>"
            ]
          },
          "metadata": {
            "tags": []
          }
        },
        {
          "output_type": "display_data",
          "data": {
            "text/html": [
              "<span style=\"color:cyan\"> |-units_0: 320</span>"
            ],
            "text/plain": [
              "<IPython.core.display.HTML object>"
            ]
          },
          "metadata": {
            "tags": []
          }
        },
        {
          "output_type": "display_data",
          "data": {
            "text/html": [
              "<span style=\"color:blue\"> |-units_1: 320</span>"
            ],
            "text/plain": [
              "<IPython.core.display.HTML object>"
            ]
          },
          "metadata": {
            "tags": []
          }
        },
        {
          "output_type": "display_data",
          "data": {
            "text/html": [
              "<span style=\"color:cyan\"> |-units_2: 32</span>"
            ],
            "text/plain": [
              "<IPython.core.display.HTML object>"
            ]
          },
          "metadata": {
            "tags": []
          }
        },
        {
          "output_type": "display_data",
          "data": {
            "text/html": [
              "<span style=\"color:blue\"> |-units_3: 32</span>"
            ],
            "text/plain": [
              "<IPython.core.display.HTML object>"
            ]
          },
          "metadata": {
            "tags": []
          }
        },
        {
          "output_type": "display_data",
          "data": {
            "text/html": [
              "<span style=\"color:cyan\"> |-units_4: 32</span>"
            ],
            "text/plain": [
              "<IPython.core.display.HTML object>"
            ]
          },
          "metadata": {
            "tags": []
          }
        },
        {
          "output_type": "display_data",
          "data": {
            "text/html": [
              "<span style=\"color:#4527A0\"><h1 style=\"font-size:18px\">Trial summary</h1></span>"
            ],
            "text/plain": [
              "<IPython.core.display.HTML object>"
            ]
          },
          "metadata": {
            "tags": []
          }
        },
        {
          "output_type": "display_data",
          "data": {
            "text/html": [
              "<span style=\"color:cyan\"> |-Trial ID: 3b50e87d38df3a5cd02895325eea6bf6</span>"
            ],
            "text/plain": [
              "<IPython.core.display.HTML object>"
            ]
          },
          "metadata": {
            "tags": []
          }
        },
        {
          "output_type": "display_data",
          "data": {
            "text/html": [
              "<span style=\"color:cyan\"> |-Score: 63.581015268961586</span>"
            ],
            "text/plain": [
              "<IPython.core.display.HTML object>"
            ]
          },
          "metadata": {
            "tags": []
          }
        },
        {
          "output_type": "display_data",
          "data": {
            "text/html": [
              "<span style=\"color:cyan\"> |-Best step: 0</span>"
            ],
            "text/plain": [
              "<IPython.core.display.HTML object>"
            ]
          },
          "metadata": {
            "tags": []
          }
        },
        {
          "output_type": "display_data",
          "data": {
            "text/html": [
              "<span style=\"color:#7E57C2\"><h2 style=\"font-size:16px\">Hyperparameters:</h2></span>"
            ],
            "text/plain": [
              "<IPython.core.display.HTML object>"
            ]
          },
          "metadata": {
            "tags": []
          }
        },
        {
          "output_type": "display_data",
          "data": {
            "text/html": [
              "<span style=\"color:cyan\"> |-learning_rate: 0.0001</span>"
            ],
            "text/plain": [
              "<IPython.core.display.HTML object>"
            ]
          },
          "metadata": {
            "tags": []
          }
        },
        {
          "output_type": "display_data",
          "data": {
            "text/html": [
              "<span style=\"color:blue\"> |-num_layers: 8</span>"
            ],
            "text/plain": [
              "<IPython.core.display.HTML object>"
            ]
          },
          "metadata": {
            "tags": []
          }
        },
        {
          "output_type": "display_data",
          "data": {
            "text/html": [
              "<span style=\"color:cyan\"> |-units_0: 384</span>"
            ],
            "text/plain": [
              "<IPython.core.display.HTML object>"
            ]
          },
          "metadata": {
            "tags": []
          }
        },
        {
          "output_type": "display_data",
          "data": {
            "text/html": [
              "<span style=\"color:blue\"> |-units_1: 384</span>"
            ],
            "text/plain": [
              "<IPython.core.display.HTML object>"
            ]
          },
          "metadata": {
            "tags": []
          }
        },
        {
          "output_type": "display_data",
          "data": {
            "text/html": [
              "<span style=\"color:cyan\"> |-units_2: 256</span>"
            ],
            "text/plain": [
              "<IPython.core.display.HTML object>"
            ]
          },
          "metadata": {
            "tags": []
          }
        },
        {
          "output_type": "display_data",
          "data": {
            "text/html": [
              "<span style=\"color:blue\"> |-units_3: 416</span>"
            ],
            "text/plain": [
              "<IPython.core.display.HTML object>"
            ]
          },
          "metadata": {
            "tags": []
          }
        },
        {
          "output_type": "display_data",
          "data": {
            "text/html": [
              "<span style=\"color:cyan\"> |-units_4: 96</span>"
            ],
            "text/plain": [
              "<IPython.core.display.HTML object>"
            ]
          },
          "metadata": {
            "tags": []
          }
        },
        {
          "output_type": "display_data",
          "data": {
            "text/html": [
              "<span style=\"color:blue\"> |-units_5: 320</span>"
            ],
            "text/plain": [
              "<IPython.core.display.HTML object>"
            ]
          },
          "metadata": {
            "tags": []
          }
        },
        {
          "output_type": "display_data",
          "data": {
            "text/html": [
              "<span style=\"color:cyan\"> |-units_6: 32</span>"
            ],
            "text/plain": [
              "<IPython.core.display.HTML object>"
            ]
          },
          "metadata": {
            "tags": []
          }
        },
        {
          "output_type": "display_data",
          "data": {
            "text/html": [
              "<span style=\"color:blue\"> |-units_7: 32</span>"
            ],
            "text/plain": [
              "<IPython.core.display.HTML object>"
            ]
          },
          "metadata": {
            "tags": []
          }
        }
      ]
    },
    {
      "cell_type": "markdown",
      "metadata": {
        "id": "b_fyo-IpHp5Y"
      },
      "source": [
        "# lets test with this dataset"
      ]
    },
    {
      "cell_type": "code",
      "metadata": {
        "id": "TLhZ9wjbHdUN"
      },
      "source": [
        "from sklearn.model_selection import train_test_split\n",
        "X_train, X_test, y_train, y_test = train_test_split(X, y, test_size = 0.2, random_state = 0)\n"
      ],
      "execution_count": null,
      "outputs": []
    },
    {
      "cell_type": "code",
      "metadata": {
        "id": "nEW2NrYsKYC3",
        "outputId": "812edc0f-65fd-4837-e8b0-4666a38ce751",
        "colab": {
          "base_uri": "https://localhost:8080/"
        }
      },
      "source": [
        "y.shape"
      ],
      "execution_count": null,
      "outputs": [
        {
          "output_type": "execute_result",
          "data": {
            "text/plain": [
              "(1093,)"
            ]
          },
          "metadata": {
            "tags": []
          },
          "execution_count": 31
        }
      ]
    },
    {
      "cell_type": "markdown",
      "metadata": {
        "id": "wzpm4HkBKjwT"
      },
      "source": [
        "# feature scaling"
      ]
    },
    {
      "cell_type": "code",
      "metadata": {
        "id": "K2IPLlICJLjb"
      },
      "source": [
        ""
      ],
      "execution_count": null,
      "outputs": []
    },
    {
      "cell_type": "code",
      "metadata": {
        "id": "4j0AGaE3Kgjg"
      },
      "source": [
        "from sklearn.preprocessing import StandardScaler\n",
        "sc = StandardScaler()\n",
        "X_train = sc.fit_transform(X_train)\n",
        "X_test = sc.transform(X_test)\n"
      ],
      "execution_count": null,
      "outputs": []
    },
    {
      "cell_type": "code",
      "metadata": {
        "id": "Iq5f3ISnJJ3S"
      },
      "source": [
        "from sklearn.preprocessing import StandardScaler\n",
        "sc = StandardScaler()\n",
        "X_train = sc.fit_transform(X_train)\n",
        "X_test = sc.transform(X_test)\n"
      ],
      "execution_count": null,
      "outputs": []
    },
    {
      "cell_type": "markdown",
      "metadata": {
        "id": "X5Fn3xlWKu8X"
      },
      "source": [
        "# ANN"
      ]
    },
    {
      "cell_type": "code",
      "metadata": {
        "id": "nIqh34TZJWOX"
      },
      "source": [
        "X=data.iloc[:,:-1] ## independent features\n",
        "y=data.iloc[:,-1] ## dependent features"
      ],
      "execution_count": 17,
      "outputs": []
    },
    {
      "cell_type": "code",
      "metadata": {
        "id": "PVWQYxw2JbR_"
      },
      "source": [
        "from sklearn.model_selection import train_test_split\n",
        "X_train, X_test, y_train, y_test = train_test_split(X, y, test_size=0.3, random_state=0)"
      ],
      "execution_count": 18,
      "outputs": []
    },
    {
      "cell_type": "code",
      "metadata": {
        "id": "sN5dxuw5Ktvl"
      },
      "source": [
        "import keras\n",
        "from keras.models import Sequential\n",
        "from keras.layers import Dense\n",
        "from keras.layers import LeakyReLU,PReLU,ELU\n",
        "from keras.layers import Dropout"
      ],
      "execution_count": 19,
      "outputs": []
    },
    {
      "cell_type": "markdown",
      "metadata": {
        "id": "siBKnQ6yMWJ_"
      },
      "source": [
        "|-learning_rate: 0.01\n",
        "|-num_layers: 6\n",
        "|-units_0: 224\n",
        "|-units_1: 128\n",
        "|-units_2: 256\n",
        "|-units_3: 64\n",
        "|-units_4: 320\n",
        "|-units_5: 480"
      ]
    },
    {
      "cell_type": "code",
      "metadata": {
        "id": "YPsOvMY3Mwpk"
      },
      "source": [
        "#model = keras.Sequential()\n",
        "#model.add(layers.Dense(64, kernel_initializer='uniform', input_shape=(10,)))\n",
        "#model.add(layers.Activation('softmax'))\n",
        "\n",
        "#opt = keras.optimizers.Adam(learning_rate=0.01)\n",
        "#model.compile(loss='categorical_crossentropy', optimizer=opt)"
      ],
      "execution_count": null,
      "outputs": []
    },
    {
      "cell_type": "code",
      "metadata": {
        "id": "FPGiwZ9pLx7u",
        "outputId": "a5b068d9-c2e9-4fec-ec81-680cb5781752",
        "colab": {
          "base_uri": "https://localhost:8080/"
        }
      },
      "source": [
        "X.shape"
      ],
      "execution_count": 20,
      "outputs": [
        {
          "output_type": "execute_result",
          "data": {
            "text/plain": [
              "(1092, 8)"
            ]
          },
          "metadata": {
            "tags": []
          },
          "execution_count": 20
        }
      ]
    },
    {
      "cell_type": "code",
      "metadata": {
        "id": "3gGZmE38L66d"
      },
      "source": [
        "classifier=keras.Sequential()"
      ],
      "execution_count": 21,
      "outputs": []
    },
    {
      "cell_type": "code",
      "metadata": {
        "id": "Kr3oMh2yK0t9"
      },
      "source": [
        "# Adding the input layer and the first hidden layer\n",
        "classifier.add(Dense(units= 224, kernel_initializer = 'uniform' ,activation='relu',input_shape=(8,)))\n"
      ],
      "execution_count": 22,
      "outputs": []
    },
    {
      "cell_type": "code",
      "metadata": {
        "id": "UuuUUxR6NEux"
      },
      "source": [
        "# Adding the second hidden layer\n",
        "classifier.add(Dense(units= 128, kernel_initializer  = 'he_uniform',activation='relu'))\n",
        "\n",
        "classifier.add(Dense(units= 256, kernel_initializer  = 'he_uniform',activation='relu'))\n",
        "\n",
        "classifier.add(Dense(units= 64, kernel_initializer  = 'he_uniform',activation='relu'))\n",
        "\n",
        "classifier.add(Dense(units= 320, kernel_initializer  = 'he_uniform',activation='relu'))\n",
        "\n",
        "classifier.add(Dense(units= 480, kernel_initializer  = 'he_uniform',activation='relu'))\n",
        "# Adding the output layer\n",
        "classifier.add(Dense(units = 1, kernel_initializer  = 'glorot_uniform', activation = 'linear'))\n",
        "#since thses is a regresin prb we are using using sigmoid in the output layer\n"
      ],
      "execution_count": 23,
      "outputs": []
    },
    {
      "cell_type": "code",
      "metadata": {
        "id": "Q8FAaZQLOYEj"
      },
      "source": [
        "opt = keras.optimizers.Adam(learning_rate=0.01)"
      ],
      "execution_count": 24,
      "outputs": []
    },
    {
      "cell_type": "code",
      "metadata": {
        "id": "QR6HOIVWSg2N"
      },
      "source": [
        "classifier.compile(optimizer = 'adam', loss = 'mean_absolute_error',metrics=['mae','mse','mape'])\n"
      ],
      "execution_count": 26,
      "outputs": []
    },
    {
      "cell_type": "code",
      "metadata": {
        "id": "DGKan1R-OtFW"
      },
      "source": [
        "#classifier.compile(loss='mean_absolute_error', optimizer=opt,metrics=['mean_absolute_error'])"
      ],
      "execution_count": null,
      "outputs": []
    },
    {
      "cell_type": "code",
      "metadata": {
        "id": "zYqSt84zPAg_",
        "outputId": "c9e9b507-8fb0-43c3-939e-5bc94dd4471b",
        "colab": {
          "base_uri": "https://localhost:8080/"
        }
      },
      "source": [
        "# Fitting the ANN to the Training set\n",
        "model_history=classifier.fit(X_train, y_train,validation_split=0.33, batch_size = 10, epochs = 100)"
      ],
      "execution_count": 27,
      "outputs": [
        {
          "output_type": "stream",
          "text": [
            "Epoch 1/100\n",
            "52/52 [==============================] - 0s 8ms/step - loss: 69.0545 - mae: 69.0545 - mse: 8665.8340 - mape: 1893981184.0000 - val_loss: 63.8232 - val_mae: 63.8232 - val_mse: 6501.1665 - val_mape: 3605581312.0000\n",
            "Epoch 2/100\n",
            "52/52 [==============================] - 0s 5ms/step - loss: 65.7857 - mae: 65.7857 - mse: 7955.3862 - mape: 1977393024.0000 - val_loss: 71.3635 - val_mae: 71.3635 - val_mse: 6669.7915 - val_mape: 5264255488.0000\n",
            "Epoch 3/100\n",
            "52/52 [==============================] - 0s 4ms/step - loss: 59.8805 - mae: 59.8805 - mse: 6103.6758 - mape: 1739503616.0000 - val_loss: 60.2026 - val_mae: 60.2026 - val_mse: 5278.6562 - val_mape: 4413612032.0000\n",
            "Epoch 4/100\n",
            "52/52 [==============================] - 0s 5ms/step - loss: 59.9722 - mae: 59.9722 - mse: 6263.0337 - mape: 1605102336.0000 - val_loss: 65.8991 - val_mae: 65.8991 - val_mse: 8092.3496 - val_mape: 2439035648.0000\n",
            "Epoch 5/100\n",
            "52/52 [==============================] - 0s 5ms/step - loss: 55.6245 - mae: 55.6245 - mse: 5612.6021 - mape: 1876412672.0000 - val_loss: 54.5812 - val_mae: 54.5812 - val_mse: 5541.1572 - val_mape: 1900179200.0000\n",
            "Epoch 6/100\n",
            "52/52 [==============================] - 0s 4ms/step - loss: 47.9868 - mae: 47.9868 - mse: 4286.4541 - mape: 1235105792.0000 - val_loss: 54.7304 - val_mae: 54.7304 - val_mse: 5564.9131 - val_mape: 2159883264.0000\n",
            "Epoch 7/100\n",
            "52/52 [==============================] - 0s 5ms/step - loss: 49.2649 - mae: 49.2649 - mse: 4452.2256 - mape: 1418994944.0000 - val_loss: 46.8841 - val_mae: 46.8841 - val_mse: 4032.8477 - val_mape: 1762590464.0000\n",
            "Epoch 8/100\n",
            "52/52 [==============================] - 0s 5ms/step - loss: 47.4553 - mae: 47.4553 - mse: 4324.3447 - mape: 1271032320.0000 - val_loss: 48.2563 - val_mae: 48.2563 - val_mse: 3880.5737 - val_mape: 3253056512.0000\n",
            "Epoch 9/100\n",
            "52/52 [==============================] - 0s 5ms/step - loss: 45.8081 - mae: 45.8081 - mse: 3829.4954 - mape: 1315225216.0000 - val_loss: 45.8964 - val_mae: 45.8964 - val_mse: 3654.6375 - val_mape: 2741025536.0000\n",
            "Epoch 10/100\n",
            "52/52 [==============================] - 0s 4ms/step - loss: 44.3605 - mae: 44.3605 - mse: 3782.7083 - mape: 1426351616.0000 - val_loss: 48.7256 - val_mae: 48.7256 - val_mse: 3969.6865 - val_mape: 3386863104.0000\n",
            "Epoch 11/100\n",
            "52/52 [==============================] - 0s 5ms/step - loss: 50.0900 - mae: 50.0900 - mse: 4740.9854 - mape: 1472745344.0000 - val_loss: 46.7592 - val_mae: 46.7592 - val_mse: 4025.8679 - val_mape: 1998503552.0000\n",
            "Epoch 12/100\n",
            "52/52 [==============================] - 0s 5ms/step - loss: 45.3468 - mae: 45.3468 - mse: 3982.0369 - mape: 1334040576.0000 - val_loss: 45.2269 - val_mae: 45.2269 - val_mse: 3548.9163 - val_mape: 2809417472.0000\n",
            "Epoch 13/100\n",
            "52/52 [==============================] - 0s 5ms/step - loss: 45.8713 - mae: 45.8713 - mse: 4025.8254 - mape: 1613819008.0000 - val_loss: 44.8788 - val_mae: 44.8788 - val_mse: 3572.2754 - val_mape: 2779763456.0000\n",
            "Epoch 14/100\n",
            "52/52 [==============================] - 0s 5ms/step - loss: 42.7898 - mae: 42.7898 - mse: 3748.5828 - mape: 1335942656.0000 - val_loss: 48.0201 - val_mae: 48.0201 - val_mse: 3942.3259 - val_mape: 3273753856.0000\n",
            "Epoch 15/100\n",
            "52/52 [==============================] - 0s 4ms/step - loss: 44.1119 - mae: 44.1119 - mse: 3705.7954 - mape: 1386589696.0000 - val_loss: 53.2666 - val_mae: 53.2666 - val_mse: 4631.7783 - val_mape: 3923406848.0000\n",
            "Epoch 16/100\n",
            "52/52 [==============================] - 0s 5ms/step - loss: 45.5720 - mae: 45.5720 - mse: 4088.3406 - mape: 1611404288.0000 - val_loss: 53.0670 - val_mae: 53.0670 - val_mse: 5199.9810 - val_mape: 1697364736.0000\n",
            "Epoch 17/100\n",
            "52/52 [==============================] - 0s 5ms/step - loss: 44.0810 - mae: 44.0810 - mse: 3750.3599 - mape: 1535976832.0000 - val_loss: 45.5844 - val_mae: 45.5844 - val_mse: 3722.6709 - val_mape: 3454130432.0000\n",
            "Epoch 18/100\n",
            "52/52 [==============================] - 0s 4ms/step - loss: 43.9478 - mae: 43.9478 - mse: 3737.0544 - mape: 1745355392.0000 - val_loss: 51.5672 - val_mae: 51.5672 - val_mse: 4429.7378 - val_mape: 3998984192.0000\n",
            "Epoch 19/100\n",
            "52/52 [==============================] - 0s 5ms/step - loss: 45.5301 - mae: 45.5301 - mse: 3943.9785 - mape: 1340085376.0000 - val_loss: 44.9818 - val_mae: 44.9818 - val_mse: 3685.8511 - val_mape: 2342743552.0000\n",
            "Epoch 20/100\n",
            "52/52 [==============================] - 0s 5ms/step - loss: 43.1572 - mae: 43.1572 - mse: 3730.2012 - mape: 1562494592.0000 - val_loss: 47.0982 - val_mae: 47.0982 - val_mse: 4131.6895 - val_mape: 2460869888.0000\n",
            "Epoch 21/100\n",
            "52/52 [==============================] - 0s 5ms/step - loss: 45.4715 - mae: 45.4715 - mse: 4021.6602 - mape: 1647303296.0000 - val_loss: 45.0852 - val_mae: 45.0852 - val_mse: 3766.8027 - val_mape: 2748717312.0000\n",
            "Epoch 22/100\n",
            "52/52 [==============================] - 0s 5ms/step - loss: 43.1408 - mae: 43.1408 - mse: 3763.0574 - mape: 1558891776.0000 - val_loss: 58.9082 - val_mae: 58.9082 - val_mse: 6483.0498 - val_mape: 1895795200.0000\n",
            "Epoch 23/100\n",
            "52/52 [==============================] - 0s 4ms/step - loss: 45.7140 - mae: 45.7140 - mse: 4001.7629 - mape: 1774466432.0000 - val_loss: 54.6167 - val_mae: 54.6167 - val_mse: 5194.8550 - val_mape: 1892659584.0000\n",
            "Epoch 24/100\n",
            "52/52 [==============================] - 0s 5ms/step - loss: 46.5640 - mae: 46.5640 - mse: 4248.2988 - mape: 1455289984.0000 - val_loss: 58.9726 - val_mae: 58.9726 - val_mse: 5687.6562 - val_mape: 4345965056.0000\n",
            "Epoch 25/100\n",
            "52/52 [==============================] - 0s 5ms/step - loss: 48.2213 - mae: 48.2213 - mse: 4372.7266 - mape: 1460918784.0000 - val_loss: 44.3830 - val_mae: 44.3830 - val_mse: 3603.4910 - val_mape: 3197623808.0000\n",
            "Epoch 26/100\n",
            "52/52 [==============================] - 0s 4ms/step - loss: 41.6546 - mae: 41.6546 - mse: 3453.8950 - mape: 1529899008.0000 - val_loss: 44.2247 - val_mae: 44.2247 - val_mse: 3649.2888 - val_mape: 3145685504.0000\n",
            "Epoch 27/100\n",
            "52/52 [==============================] - 0s 5ms/step - loss: 41.3916 - mae: 41.3916 - mse: 3408.3667 - mape: 1711798272.0000 - val_loss: 45.0389 - val_mae: 45.0389 - val_mse: 3704.5017 - val_mape: 3445404928.0000\n",
            "Epoch 28/100\n",
            "52/52 [==============================] - 0s 5ms/step - loss: 41.3144 - mae: 41.3144 - mse: 3427.4504 - mape: 1507587328.0000 - val_loss: 43.5367 - val_mae: 43.5367 - val_mse: 3578.3186 - val_mape: 2920254208.0000\n",
            "Epoch 29/100\n",
            "52/52 [==============================] - 0s 5ms/step - loss: 41.7232 - mae: 41.7232 - mse: 3631.9292 - mape: 1513441280.0000 - val_loss: 44.2807 - val_mae: 44.2807 - val_mse: 3648.6680 - val_mape: 2696805376.0000\n",
            "Epoch 30/100\n",
            "52/52 [==============================] - 0s 4ms/step - loss: 42.9905 - mae: 42.9905 - mse: 3673.2429 - mape: 1381293184.0000 - val_loss: 47.2151 - val_mae: 47.2151 - val_mse: 4223.0469 - val_mape: 2576642304.0000\n",
            "Epoch 31/100\n",
            "52/52 [==============================] - 0s 5ms/step - loss: 41.7548 - mae: 41.7548 - mse: 3632.8535 - mape: 1558406272.0000 - val_loss: 50.9985 - val_mae: 50.9985 - val_mse: 4414.7153 - val_mape: 4166805504.0000\n",
            "Epoch 32/100\n",
            "52/52 [==============================] - 0s 5ms/step - loss: 46.3254 - mae: 46.3254 - mse: 4390.4717 - mape: 1553980672.0000 - val_loss: 50.6071 - val_mae: 50.6071 - val_mse: 4605.7075 - val_mape: 2140885760.0000\n",
            "Epoch 33/100\n",
            "52/52 [==============================] - 0s 5ms/step - loss: 44.5655 - mae: 44.5655 - mse: 4071.4143 - mape: 1601025792.0000 - val_loss: 44.9923 - val_mae: 44.9923 - val_mse: 3758.4905 - val_mape: 3652952064.0000\n",
            "Epoch 34/100\n",
            "52/52 [==============================] - 0s 5ms/step - loss: 40.4429 - mae: 40.4429 - mse: 3498.3542 - mape: 1614201472.0000 - val_loss: 53.0848 - val_mae: 53.0848 - val_mse: 4890.4292 - val_mape: 3857754880.0000\n",
            "Epoch 35/100\n",
            "52/52 [==============================] - 0s 5ms/step - loss: 45.8219 - mae: 45.8219 - mse: 4119.0200 - mape: 1566418176.0000 - val_loss: 47.4024 - val_mae: 47.4024 - val_mse: 4133.1421 - val_mape: 2443083008.0000\n",
            "Epoch 36/100\n",
            "52/52 [==============================] - 0s 5ms/step - loss: 43.4816 - mae: 43.4816 - mse: 3685.1357 - mape: 1621079808.0000 - val_loss: 47.6145 - val_mae: 47.6145 - val_mse: 4069.4336 - val_mape: 3924519424.0000\n",
            "Epoch 37/100\n",
            "52/52 [==============================] - 0s 5ms/step - loss: 41.9973 - mae: 41.9973 - mse: 3562.3215 - mape: 1578934656.0000 - val_loss: 43.6588 - val_mae: 43.6588 - val_mse: 3620.5188 - val_mape: 2889249280.0000\n",
            "Epoch 38/100\n",
            "52/52 [==============================] - 0s 5ms/step - loss: 40.3011 - mae: 40.3011 - mse: 3415.1641 - mape: 1550851968.0000 - val_loss: 43.4900 - val_mae: 43.4900 - val_mse: 3630.1565 - val_mape: 3247639040.0000\n",
            "Epoch 39/100\n",
            "52/52 [==============================] - 0s 5ms/step - loss: 40.5268 - mae: 40.5268 - mse: 3448.8723 - mape: 1599494784.0000 - val_loss: 45.3512 - val_mae: 45.3512 - val_mse: 3860.3745 - val_mape: 2703495680.0000\n",
            "Epoch 40/100\n",
            "52/52 [==============================] - 0s 5ms/step - loss: 42.6988 - mae: 42.6988 - mse: 3992.7781 - mape: 1545364224.0000 - val_loss: 44.2514 - val_mae: 44.2514 - val_mse: 3714.6538 - val_mape: 3258794496.0000\n",
            "Epoch 41/100\n",
            "52/52 [==============================] - 0s 5ms/step - loss: 44.3954 - mae: 44.3954 - mse: 4083.0142 - mape: 1624834944.0000 - val_loss: 46.0812 - val_mae: 46.0812 - val_mse: 4045.7024 - val_mape: 3225899264.0000\n",
            "Epoch 42/100\n",
            "52/52 [==============================] - 0s 5ms/step - loss: 41.1555 - mae: 41.1555 - mse: 3418.2324 - mape: 1531305856.0000 - val_loss: 43.8978 - val_mae: 43.8978 - val_mse: 3670.3850 - val_mape: 2981632256.0000\n",
            "Epoch 43/100\n",
            "52/52 [==============================] - 0s 5ms/step - loss: 44.7715 - mae: 44.7715 - mse: 4098.2783 - mape: 1369899904.0000 - val_loss: 46.0274 - val_mae: 46.0274 - val_mse: 4023.6035 - val_mape: 3239072512.0000\n",
            "Epoch 44/100\n",
            "52/52 [==============================] - 0s 5ms/step - loss: 43.2705 - mae: 43.2705 - mse: 3697.3242 - mape: 1525469312.0000 - val_loss: 47.3887 - val_mae: 47.3887 - val_mse: 4177.7773 - val_mape: 2456170752.0000\n",
            "Epoch 45/100\n",
            "52/52 [==============================] - 0s 5ms/step - loss: 41.9033 - mae: 41.9033 - mse: 3708.4033 - mape: 1538138240.0000 - val_loss: 44.6154 - val_mae: 44.6154 - val_mse: 3687.9558 - val_mape: 2466299904.0000\n",
            "Epoch 46/100\n",
            "52/52 [==============================] - 0s 5ms/step - loss: 41.8234 - mae: 41.8234 - mse: 3578.4827 - mape: 1494579072.0000 - val_loss: 43.6252 - val_mae: 43.6252 - val_mse: 3627.8684 - val_mape: 3366769664.0000\n",
            "Epoch 47/100\n",
            "52/52 [==============================] - 0s 5ms/step - loss: 40.8940 - mae: 40.8940 - mse: 3530.4302 - mape: 1661243776.0000 - val_loss: 44.0357 - val_mae: 44.0357 - val_mse: 3678.1860 - val_mape: 2979966976.0000\n",
            "Epoch 48/100\n",
            "52/52 [==============================] - 0s 5ms/step - loss: 39.4429 - mae: 39.4429 - mse: 3337.4385 - mape: 1533059328.0000 - val_loss: 44.5940 - val_mae: 44.5940 - val_mse: 3798.1643 - val_mape: 2772482560.0000\n",
            "Epoch 49/100\n",
            "52/52 [==============================] - 0s 5ms/step - loss: 42.2718 - mae: 42.2718 - mse: 3660.6709 - mape: 1663732224.0000 - val_loss: 44.1036 - val_mae: 44.1036 - val_mse: 3628.8667 - val_mape: 3076637184.0000\n",
            "Epoch 50/100\n",
            "52/52 [==============================] - 0s 5ms/step - loss: 39.8892 - mae: 39.8892 - mse: 3376.0537 - mape: 1540485760.0000 - val_loss: 44.9031 - val_mae: 44.9031 - val_mse: 3818.6123 - val_mape: 3680001536.0000\n",
            "Epoch 51/100\n",
            "52/52 [==============================] - 0s 5ms/step - loss: 40.8148 - mae: 40.8148 - mse: 3409.1938 - mape: 1538086400.0000 - val_loss: 43.7676 - val_mae: 43.7676 - val_mse: 3689.2551 - val_mape: 3358000128.0000\n",
            "Epoch 52/100\n",
            "52/52 [==============================] - 0s 5ms/step - loss: 40.0425 - mae: 40.0425 - mse: 3317.7529 - mape: 1554723072.0000 - val_loss: 43.2591 - val_mae: 43.2591 - val_mse: 3625.9031 - val_mape: 3298567168.0000\n",
            "Epoch 53/100\n",
            "52/52 [==============================] - 0s 5ms/step - loss: 39.9274 - mae: 39.9274 - mse: 3375.4419 - mape: 1692992768.0000 - val_loss: 45.1671 - val_mae: 45.1671 - val_mse: 3824.3079 - val_mape: 2567084544.0000\n",
            "Epoch 54/100\n",
            "52/52 [==============================] - 0s 5ms/step - loss: 40.5645 - mae: 40.5645 - mse: 3319.5332 - mape: 1583192448.0000 - val_loss: 45.4159 - val_mae: 45.4159 - val_mse: 3882.5061 - val_mape: 2686605568.0000\n",
            "Epoch 55/100\n",
            "52/52 [==============================] - 0s 5ms/step - loss: 40.0133 - mae: 40.0133 - mse: 3362.4873 - mape: 1532826496.0000 - val_loss: 51.1537 - val_mae: 51.1537 - val_mse: 4778.9604 - val_mape: 2319685120.0000\n",
            "Epoch 56/100\n",
            "52/52 [==============================] - 0s 5ms/step - loss: 40.3070 - mae: 40.3070 - mse: 3477.5249 - mape: 1574322176.0000 - val_loss: 44.7242 - val_mae: 44.7242 - val_mse: 3740.3420 - val_mape: 3029776128.0000\n",
            "Epoch 57/100\n",
            "52/52 [==============================] - 0s 5ms/step - loss: 42.7853 - mae: 42.7853 - mse: 3761.2446 - mape: 1721931904.0000 - val_loss: 43.5045 - val_mae: 43.5045 - val_mse: 3639.3130 - val_mape: 3111687936.0000\n",
            "Epoch 58/100\n",
            "52/52 [==============================] - 0s 5ms/step - loss: 41.1941 - mae: 41.1941 - mse: 3694.5645 - mape: 1433168768.0000 - val_loss: 50.4061 - val_mae: 50.4061 - val_mse: 4517.8091 - val_mape: 3869022208.0000\n",
            "Epoch 59/100\n",
            "52/52 [==============================] - 0s 5ms/step - loss: 41.4232 - mae: 41.4232 - mse: 3621.4121 - mape: 1543744256.0000 - val_loss: 43.5748 - val_mae: 43.5748 - val_mse: 3612.3538 - val_mape: 3123777792.0000\n",
            "Epoch 60/100\n",
            "52/52 [==============================] - 0s 5ms/step - loss: 40.2901 - mae: 40.2901 - mse: 3392.1292 - mape: 1613024384.0000 - val_loss: 43.9499 - val_mae: 43.9499 - val_mse: 3715.7297 - val_mape: 2865628928.0000\n",
            "Epoch 61/100\n",
            "52/52 [==============================] - 0s 5ms/step - loss: 39.0712 - mae: 39.0712 - mse: 3132.2874 - mape: 1485270272.0000 - val_loss: 45.1552 - val_mae: 45.1552 - val_mse: 3865.2666 - val_mape: 3256522752.0000\n",
            "Epoch 62/100\n",
            "52/52 [==============================] - 0s 5ms/step - loss: 43.2349 - mae: 43.2349 - mse: 3762.5012 - mape: 1648586368.0000 - val_loss: 43.7615 - val_mae: 43.7615 - val_mse: 3606.1365 - val_mape: 3571270656.0000\n",
            "Epoch 63/100\n",
            "52/52 [==============================] - 0s 5ms/step - loss: 40.3908 - mae: 40.3908 - mse: 3480.0574 - mape: 1580708608.0000 - val_loss: 43.9414 - val_mae: 43.9414 - val_mse: 3642.0913 - val_mape: 3162530048.0000\n",
            "Epoch 64/100\n",
            "52/52 [==============================] - 0s 5ms/step - loss: 40.9439 - mae: 40.9439 - mse: 3491.3386 - mape: 1512935936.0000 - val_loss: 49.0582 - val_mae: 49.0582 - val_mse: 4505.4902 - val_mape: 2696374784.0000\n",
            "Epoch 65/100\n",
            "52/52 [==============================] - 0s 5ms/step - loss: 40.4224 - mae: 40.4224 - mse: 3472.4626 - mape: 1537765376.0000 - val_loss: 43.8851 - val_mae: 43.8851 - val_mse: 3668.8042 - val_mape: 3565468160.0000\n",
            "Epoch 66/100\n",
            "52/52 [==============================] - 0s 5ms/step - loss: 40.1709 - mae: 40.1709 - mse: 3420.8748 - mape: 1456848000.0000 - val_loss: 47.1940 - val_mae: 47.1940 - val_mse: 3950.6697 - val_mape: 4246605312.0000\n",
            "Epoch 67/100\n",
            "52/52 [==============================] - 0s 5ms/step - loss: 40.6368 - mae: 40.6368 - mse: 3443.9443 - mape: 1538612480.0000 - val_loss: 44.3069 - val_mae: 44.3069 - val_mse: 3670.5217 - val_mape: 3731308288.0000\n",
            "Epoch 68/100\n",
            "52/52 [==============================] - 0s 5ms/step - loss: 40.5036 - mae: 40.5036 - mse: 3398.2471 - mape: 1637349120.0000 - val_loss: 43.4132 - val_mae: 43.4132 - val_mse: 3607.2715 - val_mape: 3069106944.0000\n",
            "Epoch 69/100\n",
            "52/52 [==============================] - 0s 5ms/step - loss: 40.1627 - mae: 40.1627 - mse: 3418.3916 - mape: 1502301440.0000 - val_loss: 44.9843 - val_mae: 44.9843 - val_mse: 3819.8611 - val_mape: 3499243520.0000\n",
            "Epoch 70/100\n",
            "52/52 [==============================] - 0s 5ms/step - loss: 43.6742 - mae: 43.6742 - mse: 4222.6772 - mape: 1710358784.0000 - val_loss: 45.8664 - val_mae: 45.8664 - val_mse: 3957.7441 - val_mape: 2859113984.0000\n",
            "Epoch 71/100\n",
            "52/52 [==============================] - 0s 5ms/step - loss: 39.4369 - mae: 39.4369 - mse: 3400.2876 - mape: 1540271104.0000 - val_loss: 43.2859 - val_mae: 43.2859 - val_mse: 3561.8943 - val_mape: 2907049984.0000\n",
            "Epoch 72/100\n",
            "52/52 [==============================] - 0s 5ms/step - loss: 39.7481 - mae: 39.7481 - mse: 3305.9194 - mape: 1590093696.0000 - val_loss: 43.3062 - val_mae: 43.3062 - val_mse: 3536.8496 - val_mape: 2668201472.0000\n",
            "Epoch 73/100\n",
            "52/52 [==============================] - 0s 5ms/step - loss: 40.8121 - mae: 40.8121 - mse: 3352.9741 - mape: 1577185024.0000 - val_loss: 43.8583 - val_mae: 43.8583 - val_mse: 3651.8044 - val_mape: 3169301504.0000\n",
            "Epoch 74/100\n",
            "52/52 [==============================] - 0s 5ms/step - loss: 39.7067 - mae: 39.7067 - mse: 3332.3855 - mape: 1512090624.0000 - val_loss: 43.4289 - val_mae: 43.4289 - val_mse: 3625.1006 - val_mape: 2878796032.0000\n",
            "Epoch 75/100\n",
            "52/52 [==============================] - 0s 5ms/step - loss: 39.8310 - mae: 39.8310 - mse: 3494.8784 - mape: 1424612480.0000 - val_loss: 47.1791 - val_mae: 47.1791 - val_mse: 4105.2754 - val_mape: 2304980224.0000\n",
            "Epoch 76/100\n",
            "52/52 [==============================] - 0s 5ms/step - loss: 39.5133 - mae: 39.5133 - mse: 3320.7856 - mape: 1392640384.0000 - val_loss: 45.4408 - val_mae: 45.4408 - val_mse: 3807.6379 - val_mape: 3972309504.0000\n",
            "Epoch 77/100\n",
            "52/52 [==============================] - 0s 5ms/step - loss: 40.1831 - mae: 40.1831 - mse: 3387.5764 - mape: 1788547584.0000 - val_loss: 47.1254 - val_mae: 47.1254 - val_mse: 4158.0908 - val_mape: 2771785216.0000\n",
            "Epoch 78/100\n",
            "52/52 [==============================] - 0s 5ms/step - loss: 41.6142 - mae: 41.6142 - mse: 3602.2788 - mape: 1540167296.0000 - val_loss: 44.1778 - val_mae: 44.1778 - val_mse: 3594.1233 - val_mape: 2688883200.0000\n",
            "Epoch 79/100\n",
            "52/52 [==============================] - 0s 5ms/step - loss: 39.8086 - mae: 39.8086 - mse: 3297.7283 - mape: 1467860992.0000 - val_loss: 46.5899 - val_mae: 46.5899 - val_mse: 4068.5586 - val_mape: 2844719360.0000\n",
            "Epoch 80/100\n",
            "52/52 [==============================] - 0s 5ms/step - loss: 40.6976 - mae: 40.6976 - mse: 3493.0164 - mape: 1682109312.0000 - val_loss: 49.7542 - val_mae: 49.7542 - val_mse: 4625.0908 - val_mape: 2508884224.0000\n",
            "Epoch 81/100\n",
            "52/52 [==============================] - 0s 4ms/step - loss: 39.5083 - mae: 39.5083 - mse: 3447.6396 - mape: 1464736384.0000 - val_loss: 44.7867 - val_mae: 44.7867 - val_mse: 3837.1118 - val_mape: 3288645632.0000\n",
            "Epoch 82/100\n",
            "52/52 [==============================] - 0s 5ms/step - loss: 41.9604 - mae: 41.9604 - mse: 3691.3120 - mape: 1529767936.0000 - val_loss: 43.4879 - val_mae: 43.4879 - val_mse: 3546.7732 - val_mape: 3052575744.0000\n",
            "Epoch 83/100\n",
            "52/52 [==============================] - 0s 5ms/step - loss: 40.1091 - mae: 40.1091 - mse: 3465.7019 - mape: 1661995264.0000 - val_loss: 43.3193 - val_mae: 43.3193 - val_mse: 3613.5386 - val_mape: 3579801088.0000\n",
            "Epoch 84/100\n",
            "52/52 [==============================] - 0s 5ms/step - loss: 38.7071 - mae: 38.7071 - mse: 3259.7170 - mape: 1529848704.0000 - val_loss: 43.2385 - val_mae: 43.2385 - val_mse: 3580.5735 - val_mape: 3438182912.0000\n",
            "Epoch 85/100\n",
            "52/52 [==============================] - 0s 5ms/step - loss: 38.9980 - mae: 38.9980 - mse: 3322.3398 - mape: 1591562880.0000 - val_loss: 43.0249 - val_mae: 43.0249 - val_mse: 3634.2886 - val_mape: 3266481408.0000\n",
            "Epoch 86/100\n",
            "52/52 [==============================] - 0s 5ms/step - loss: 40.0017 - mae: 40.0017 - mse: 3496.8848 - mape: 1506976896.0000 - val_loss: 43.0040 - val_mae: 43.0040 - val_mse: 3596.6892 - val_mape: 3305279232.0000\n",
            "Epoch 87/100\n",
            "52/52 [==============================] - 0s 5ms/step - loss: 41.4836 - mae: 41.4836 - mse: 3532.6736 - mape: 1672599808.0000 - val_loss: 49.1437 - val_mae: 49.1437 - val_mse: 4544.6489 - val_mape: 2697698304.0000\n",
            "Epoch 88/100\n",
            "52/52 [==============================] - 0s 5ms/step - loss: 40.3766 - mae: 40.3766 - mse: 3456.1565 - mape: 1501908736.0000 - val_loss: 42.9588 - val_mae: 42.9588 - val_mse: 3579.7415 - val_mape: 3352180736.0000\n",
            "Epoch 89/100\n",
            "52/52 [==============================] - 0s 5ms/step - loss: 40.6045 - mae: 40.6045 - mse: 3604.1555 - mape: 1656622720.0000 - val_loss: 43.5087 - val_mae: 43.5087 - val_mse: 3640.9353 - val_mape: 3215532800.0000\n",
            "Epoch 90/100\n",
            "52/52 [==============================] - 0s 5ms/step - loss: 39.5105 - mae: 39.5105 - mse: 3291.9949 - mape: 1510459136.0000 - val_loss: 43.4898 - val_mae: 43.4898 - val_mse: 3658.0203 - val_mape: 3277148160.0000\n",
            "Epoch 91/100\n",
            "52/52 [==============================] - 0s 5ms/step - loss: 38.9823 - mae: 38.9823 - mse: 3278.7839 - mape: 1706204032.0000 - val_loss: 52.0587 - val_mae: 52.0587 - val_mse: 4823.9341 - val_mape: 3893215232.0000\n",
            "Epoch 92/100\n",
            "52/52 [==============================] - 0s 5ms/step - loss: 39.7720 - mae: 39.7720 - mse: 3354.7561 - mape: 1672597632.0000 - val_loss: 55.3626 - val_mae: 55.3626 - val_mse: 5901.2681 - val_mape: 3345026048.0000\n",
            "Epoch 93/100\n",
            "52/52 [==============================] - 0s 5ms/step - loss: 41.6852 - mae: 41.6852 - mse: 3723.0195 - mape: 1647583616.0000 - val_loss: 43.7729 - val_mae: 43.7729 - val_mse: 3619.9756 - val_mape: 3560796160.0000\n",
            "Epoch 94/100\n",
            "52/52 [==============================] - 0s 5ms/step - loss: 38.2351 - mae: 38.2351 - mse: 3189.1060 - mape: 1531994112.0000 - val_loss: 46.5081 - val_mae: 46.5081 - val_mse: 3969.4792 - val_mape: 3910829824.0000\n",
            "Epoch 95/100\n",
            "52/52 [==============================] - 0s 5ms/step - loss: 39.1470 - mae: 39.1470 - mse: 3251.3508 - mape: 1705858944.0000 - val_loss: 43.1941 - val_mae: 43.1941 - val_mse: 3600.1724 - val_mape: 3133337344.0000\n",
            "Epoch 96/100\n",
            "52/52 [==============================] - 0s 5ms/step - loss: 40.1411 - mae: 40.1411 - mse: 3549.7100 - mape: 1567492480.0000 - val_loss: 42.6247 - val_mae: 42.6247 - val_mse: 3469.3762 - val_mape: 2778485504.0000\n",
            "Epoch 97/100\n",
            "52/52 [==============================] - 0s 5ms/step - loss: 39.3785 - mae: 39.3785 - mse: 3357.7454 - mape: 1738786048.0000 - val_loss: 45.7722 - val_mae: 45.7722 - val_mse: 3937.5239 - val_mape: 3729850624.0000\n",
            "Epoch 98/100\n",
            "52/52 [==============================] - 0s 5ms/step - loss: 39.1550 - mae: 39.1550 - mse: 3200.9382 - mape: 1765140992.0000 - val_loss: 45.1113 - val_mae: 45.1113 - val_mse: 3858.8652 - val_mape: 2878770688.0000\n",
            "Epoch 99/100\n",
            "52/52 [==============================] - 0s 5ms/step - loss: 39.8386 - mae: 39.8386 - mse: 3284.2034 - mape: 1445731456.0000 - val_loss: 43.8974 - val_mae: 43.8974 - val_mse: 3663.6670 - val_mape: 2733064192.0000\n",
            "Epoch 100/100\n",
            "52/52 [==============================] - 0s 5ms/step - loss: 38.9754 - mae: 38.9754 - mse: 3327.6338 - mape: 1534173568.0000 - val_loss: 43.8820 - val_mae: 43.8820 - val_mse: 3639.0154 - val_mape: 3142734080.0000\n"
          ],
          "name": "stdout"
        }
      ]
    },
    {
      "cell_type": "code",
      "metadata": {
        "id": "05-Wnx0ASCqX"
      },
      "source": [
        "import matplotlib.pyplot as plt\n",
        "from matplotlib import pyplot\n"
      ],
      "execution_count": 28,
      "outputs": []
    },
    {
      "cell_type": "code",
      "metadata": {
        "id": "rRbJ3e-IKOSa",
        "outputId": "156aed84-1297-45eb-98c9-5ec2167ecfc1",
        "colab": {
          "base_uri": "https://localhost:8080/"
        }
      },
      "source": [
        "print(model_history.history.keys())"
      ],
      "execution_count": 32,
      "outputs": [
        {
          "output_type": "stream",
          "text": [
            "dict_keys(['loss', 'mae', 'mse', 'mape', 'val_loss', 'val_mae', 'val_mse', 'val_mape'])\n"
          ],
          "name": "stdout"
        }
      ]
    },
    {
      "cell_type": "code",
      "metadata": {
        "id": "WuVundomTciZ",
        "outputId": "0e1889e7-cbaf-4a75-ea5f-67ccfac76351",
        "colab": {
          "base_uri": "https://localhost:8080/",
          "height": 525
        }
      },
      "source": [
        "loss = model_history.history['loss']\n",
        "acc = model_history.history['mae']\n",
        "val_loss = model_history.history['val_loss']\n",
        "val_acc = model_history.history['val_mae']\n",
        "mape_loss=model_history.history['mape']\n",
        "#cosine_los=history.history['cosine_proximity']\n",
        "pyplot.plot(model_history.history['mse'])\n",
        "pyplot.plot(model_history.history['mae'])\n",
        "pyplot.plot(model_history.history['mape'])\n",
        "#pyplot.plot(history.history['cosine_proximity'])\n",
        "pyplot.show()\n",
        "epochs = range(1, len(loss)+1)\n",
        "plt.plot(epochs, loss, 'ro', label='Training loss')\n",
        "plt.legend()\n",
        "plt.show()"
      ],
      "execution_count": 33,
      "outputs": [
        {
          "output_type": "display_data",
          "data": {
            "image/png": "[encoded data removed]",
            "text/plain": [
              "<Figure size 432x288 with 1 Axes>"
            ]
          },
          "metadata": {
            "tags": [],
            "needs_background": "light"
          }
        },
        {
          "output_type": "display_data",
          "data": {
            "image/png": "[encoded data removed]",
            "text/plain": [
              "<Figure size 432x288 with 1 Axes>"
            ]
          },
          "metadata": {
            "tags": [],
            "needs_background": "light"
          }
        }
      ]
    },
    {
      "cell_type": "code",
      "metadata": {
        "id": "4s0772T4PR6U",
        "outputId": "4f2578dd-4438-415c-b8ae-5e4a56e03826",
        "colab": {
          "base_uri": "https://localhost:8080/"
        }
      },
      "source": [
        "print(model_history.history.keys())"
      ],
      "execution_count": null,
      "outputs": [
        {
          "output_type": "stream",
          "text": [
            "dict_keys(['loss', 'mae', 'mse', 'mape', 'val_loss', 'val_mae', 'val_mse', 'val_mape'])\n"
          ],
          "name": "stdout"
        }
      ]
    },
    {
      "cell_type": "code",
      "metadata": {
        "id": "mKMCshllPYe5"
      },
      "source": [
        "# Predicting the Test set results\n",
        "prediction1 = classifier.predict(X_test)"
      ],
      "execution_count": null,
      "outputs": []
    }
  ]
}